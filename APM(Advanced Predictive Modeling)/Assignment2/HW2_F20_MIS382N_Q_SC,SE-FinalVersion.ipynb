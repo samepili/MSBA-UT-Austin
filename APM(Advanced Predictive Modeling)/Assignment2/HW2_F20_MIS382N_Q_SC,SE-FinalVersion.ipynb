{
  "nbformat": 4,
  "nbformat_minor": 0,
  "metadata": {
    "kernelspec": {
      "display_name": "Python 3",
      "language": "python",
      "name": "python3"
    },
    "language_info": {
      "codemirror_mode": {
        "name": "ipython",
        "version": 3
      },
      "file_extension": ".py",
      "mimetype": "text/x-python",
      "name": "python",
      "nbconvert_exporter": "python",
      "pygments_lexer": "ipython3",
      "version": "3.7.6"
    },
    "colab": {
      "name": "HW2-F20-MIS382N_Q-SC,SE.ipynb",
      "provenance": [],
      "collapsed_sections": [],
      "toc_visible": true
    }
  },
  "cells": [
    {
      "cell_type": "markdown",
      "metadata": {
        "id": "v5dzvwGpJPTZ"
      },
      "source": [
        "\n",
        "# <p style=\"text-align: center;\">MIS 382N: ADVANCED PREDICTIVE MODELING - MSBA</p>\n",
        "# <p style=\"text-align: center;\">Assignment 2</p>\n",
        "## <p style=\"text-align: center;\">Total points: 80 </p>\n",
        "## <p style=\"text-align: center;\">Due: September 30, submitted via Canvas by 11:59 pm</p>\n",
        "\n",
        "Your homework should be written in a **Jupyter notebook**. You may work in groups of two if you wish. Your partner needs to be from the same section. Only one student per team needs to submit the assignment on Canvas.  But be sure to include name and UTEID for both students.  Homework groups will be created and managed through Canvas, so please do not arbitrarily change your homework group. If you do change, let the TA know. \n",
        "\n",
        "Also, please make sure your code runs and the graphics (and anything else) are displayed in your notebook before submitting. (%matplotlib inline)\n",
        "\n",
        "### Name(s)\n",
        "1. Samir Epili (se7982)\n",
        "2. Siddhant Chauhan (sc54788) "
      ]
    },
    {
      "cell_type": "markdown",
      "metadata": {
        "id": "W5ZpdgFLzMCK"
      },
      "source": [
        "# Question 1 (Understanding ElasticNet, 30 points)\n",
        "Although lots of past studies have been conducted on factors affecting life expectancy using demographic variables, income composition and mortality rates, it was found that the effect of immunization and human development index was not taken into account. Hence, this motivates us to resolve this factor by formulating a regression model based on mixed effects model and multiple linear regression while considering data from 2014 for all countries. Here, important immunization like Hepatitis B, Polio and Diphtheria will also be considered. \n",
        "\n",
        "This dataset was taken from https://www.kaggle.com/kumarajarshi/life-expectancy-who.\n",
        "\n",
        "**Please use Python 3.6+ for this assignment.**"
      ]
    },
    {
      "cell_type": "markdown",
      "metadata": {
        "id": "As8wi1l8zY1f"
      },
      "source": [
        "First, we import packages and clean up the obtained dataset. We consider the `Life Expectancy` variable as the dependant variable whereas others are assumed to be independent variables."
      ]
    },
    {
      "cell_type": "code",
      "metadata": {
        "id": "FOU1ODXmfNlG"
      },
      "source": [
        "import pandas as pd\n",
        "import numpy as np\n",
        "import matplotlib.pyplot as plt\n",
        "from tqdm import tqdm\n",
        "import seaborn as sns\n",
        "from sklearn.preprocessing import LabelEncoder\n",
        "from sklearn.model_selection import train_test_split\n",
        "from sklearn.linear_model import LinearRegression\n",
        "import warnings\n",
        "warnings.filterwarnings('ignore')"
      ],
      "execution_count": null,
      "outputs": []
    },
    {
      "cell_type": "code",
      "metadata": {
        "id": "ctY6Ogo8fX8-",
        "outputId": "740cc023-8849-46aa-a43a-29083d334040",
        "colab": {
          "base_uri": "https://localhost:8080/",
          "height": 52
        }
      },
      "source": [
        "df = pd.read_csv(\"life.csv\", index_col=0)\n",
        "print(df.shape)\n",
        "df = df.loc[df['Year']==2014, :]\n",
        "df = df.drop('Year', axis=1)\n",
        "df = pd.get_dummies(df, columns=['Status'])\n",
        "df = df.dropna()\n",
        "print(df.shape)"
      ],
      "execution_count": null,
      "outputs": [
        {
          "output_type": "stream",
          "text": [
            "(2938, 21)\n",
            "(131, 21)\n"
          ],
          "name": "stdout"
        }
      ]
    },
    {
      "cell_type": "code",
      "metadata": {
        "id": "MqH3uOrbf-WO",
        "outputId": "617762a1-df92-416a-a7c4-3301760655e0",
        "colab": {
          "base_uri": "https://localhost:8080/",
          "height": 305
        }
      },
      "source": [
        "df.head()"
      ],
      "execution_count": null,
      "outputs": [
        {
          "output_type": "execute_result",
          "data": {
            "text/html": [
              "<div>\n",
              "<style scoped>\n",
              "    .dataframe tbody tr th:only-of-type {\n",
              "        vertical-align: middle;\n",
              "    }\n",
              "\n",
              "    .dataframe tbody tr th {\n",
              "        vertical-align: top;\n",
              "    }\n",
              "\n",
              "    .dataframe thead th {\n",
              "        text-align: right;\n",
              "    }\n",
              "</style>\n",
              "<table border=\"1\" class=\"dataframe\">\n",
              "  <thead>\n",
              "    <tr style=\"text-align: right;\">\n",
              "      <th></th>\n",
              "      <th>Life expectancy</th>\n",
              "      <th>Adult Mortality</th>\n",
              "      <th>infant deaths</th>\n",
              "      <th>Alcohol</th>\n",
              "      <th>percentage expenditure</th>\n",
              "      <th>Hepatitis B</th>\n",
              "      <th>Measles</th>\n",
              "      <th>BMI</th>\n",
              "      <th>under-five deaths</th>\n",
              "      <th>Polio</th>\n",
              "      <th>Total expenditure</th>\n",
              "      <th>Diphtheria</th>\n",
              "      <th>HIV/AIDS</th>\n",
              "      <th>GDP</th>\n",
              "      <th>Population</th>\n",
              "      <th>thinness  1-19 years</th>\n",
              "      <th>thinness 5-9 years</th>\n",
              "      <th>Income composition of resources</th>\n",
              "      <th>Schooling</th>\n",
              "      <th>Status_Developed</th>\n",
              "      <th>Status_Developing</th>\n",
              "    </tr>\n",
              "    <tr>\n",
              "      <th>Country</th>\n",
              "      <th></th>\n",
              "      <th></th>\n",
              "      <th></th>\n",
              "      <th></th>\n",
              "      <th></th>\n",
              "      <th></th>\n",
              "      <th></th>\n",
              "      <th></th>\n",
              "      <th></th>\n",
              "      <th></th>\n",
              "      <th></th>\n",
              "      <th></th>\n",
              "      <th></th>\n",
              "      <th></th>\n",
              "      <th></th>\n",
              "      <th></th>\n",
              "      <th></th>\n",
              "      <th></th>\n",
              "      <th></th>\n",
              "      <th></th>\n",
              "      <th></th>\n",
              "    </tr>\n",
              "  </thead>\n",
              "  <tbody>\n",
              "    <tr>\n",
              "      <th>Afghanistan</th>\n",
              "      <td>59.9</td>\n",
              "      <td>271.0</td>\n",
              "      <td>64</td>\n",
              "      <td>0.01</td>\n",
              "      <td>73.523582</td>\n",
              "      <td>62.0</td>\n",
              "      <td>492</td>\n",
              "      <td>18.6</td>\n",
              "      <td>86</td>\n",
              "      <td>58.0</td>\n",
              "      <td>8.18</td>\n",
              "      <td>62.0</td>\n",
              "      <td>0.1</td>\n",
              "      <td>612.696514</td>\n",
              "      <td>327582.0</td>\n",
              "      <td>17.5</td>\n",
              "      <td>17.5</td>\n",
              "      <td>0.476</td>\n",
              "      <td>10.0</td>\n",
              "      <td>0</td>\n",
              "      <td>1</td>\n",
              "    </tr>\n",
              "    <tr>\n",
              "      <th>Albania</th>\n",
              "      <td>77.5</td>\n",
              "      <td>8.0</td>\n",
              "      <td>0</td>\n",
              "      <td>4.51</td>\n",
              "      <td>428.749067</td>\n",
              "      <td>98.0</td>\n",
              "      <td>0</td>\n",
              "      <td>57.2</td>\n",
              "      <td>1</td>\n",
              "      <td>98.0</td>\n",
              "      <td>5.88</td>\n",
              "      <td>98.0</td>\n",
              "      <td>0.1</td>\n",
              "      <td>4575.763787</td>\n",
              "      <td>288914.0</td>\n",
              "      <td>1.2</td>\n",
              "      <td>1.3</td>\n",
              "      <td>0.761</td>\n",
              "      <td>14.2</td>\n",
              "      <td>0</td>\n",
              "      <td>1</td>\n",
              "    </tr>\n",
              "    <tr>\n",
              "      <th>Algeria</th>\n",
              "      <td>75.4</td>\n",
              "      <td>11.0</td>\n",
              "      <td>21</td>\n",
              "      <td>0.01</td>\n",
              "      <td>54.237318</td>\n",
              "      <td>95.0</td>\n",
              "      <td>0</td>\n",
              "      <td>58.4</td>\n",
              "      <td>24</td>\n",
              "      <td>95.0</td>\n",
              "      <td>7.21</td>\n",
              "      <td>95.0</td>\n",
              "      <td>0.1</td>\n",
              "      <td>547.851700</td>\n",
              "      <td>39113313.0</td>\n",
              "      <td>6.0</td>\n",
              "      <td>5.8</td>\n",
              "      <td>0.741</td>\n",
              "      <td>14.4</td>\n",
              "      <td>0</td>\n",
              "      <td>1</td>\n",
              "    </tr>\n",
              "    <tr>\n",
              "      <th>Angola</th>\n",
              "      <td>51.7</td>\n",
              "      <td>348.0</td>\n",
              "      <td>67</td>\n",
              "      <td>8.33</td>\n",
              "      <td>23.965612</td>\n",
              "      <td>64.0</td>\n",
              "      <td>11699</td>\n",
              "      <td>22.7</td>\n",
              "      <td>101</td>\n",
              "      <td>68.0</td>\n",
              "      <td>3.31</td>\n",
              "      <td>64.0</td>\n",
              "      <td>2.0</td>\n",
              "      <td>479.312240</td>\n",
              "      <td>2692466.0</td>\n",
              "      <td>8.5</td>\n",
              "      <td>8.3</td>\n",
              "      <td>0.527</td>\n",
              "      <td>11.4</td>\n",
              "      <td>0</td>\n",
              "      <td>1</td>\n",
              "    </tr>\n",
              "    <tr>\n",
              "      <th>Argentina</th>\n",
              "      <td>76.2</td>\n",
              "      <td>118.0</td>\n",
              "      <td>8</td>\n",
              "      <td>7.93</td>\n",
              "      <td>847.371746</td>\n",
              "      <td>94.0</td>\n",
              "      <td>1</td>\n",
              "      <td>62.2</td>\n",
              "      <td>9</td>\n",
              "      <td>92.0</td>\n",
              "      <td>4.79</td>\n",
              "      <td>94.0</td>\n",
              "      <td>0.1</td>\n",
              "      <td>12245.256450</td>\n",
              "      <td>42981515.0</td>\n",
              "      <td>1.0</td>\n",
              "      <td>0.9</td>\n",
              "      <td>0.825</td>\n",
              "      <td>17.3</td>\n",
              "      <td>0</td>\n",
              "      <td>1</td>\n",
              "    </tr>\n",
              "  </tbody>\n",
              "</table>\n",
              "</div>"
            ],
            "text/plain": [
              "             Life expectancy   ...  Status_Developing\n",
              "Country                        ...                   \n",
              "Afghanistan              59.9  ...                  1\n",
              "Albania                  77.5  ...                  1\n",
              "Algeria                  75.4  ...                  1\n",
              "Angola                   51.7  ...                  1\n",
              "Argentina                76.2  ...                  1\n",
              "\n",
              "[5 rows x 21 columns]"
            ]
          },
          "metadata": {
            "tags": []
          },
          "execution_count": 5
        }
      ]
    },
    {
      "cell_type": "code",
      "metadata": {
        "id": "Z0iRXml2JPTt"
      },
      "source": [
        "# Creating training and testing dataset\n",
        "y = df.iloc[:, 0]\n",
        "X = df.iloc[:, 1:]\n",
        "\n",
        "X_train, X_test, y_train, y_test = train_test_split(X, y, test_size=0.20, random_state = 42)"
      ],
      "execution_count": null,
      "outputs": []
    },
    {
      "cell_type": "markdown",
      "metadata": {
        "id": "w8ngMwYK0uZ4"
      },
      "source": [
        "## Question 1.1 (5 points) \n",
        "Run Linear regression on the train dataset and print the $R^2$ values measured on (a) the training dataset and (b) the test dataset."
      ]
    },
    {
      "cell_type": "markdown",
      "metadata": {
        "id": "uNI4UUH7-x00"
      },
      "source": [
        "## Answer 1.1"
      ]
    },
    {
      "cell_type": "code",
      "metadata": {
        "id": "eUhgkPHZJPTy",
        "outputId": "3f4f018e-67f2-4c15-f039-7397d6bc0a7b",
        "colab": {
          "base_uri": "https://localhost:8080/",
          "height": 52
        }
      },
      "source": [
        "from sklearn.metrics import r2_score\n",
        "\n",
        "reg = LinearRegression()\n",
        "reg.fit(X_train,y_train)\n",
        "\n",
        "# R2 Values\n",
        "\n",
        "life_pred_train = reg.predict(X_train)\n",
        "life_pred_test = reg.predict(X_test)\n",
        "\n",
        "print('Coefficient of determination for Train: %.2f' % r2_score(y_train, life_pred_train))\n",
        "print('Coefficient of determination for Test: %.2f' % r2_score(y_test, life_pred_test))"
      ],
      "execution_count": null,
      "outputs": [
        {
          "output_type": "stream",
          "text": [
            "Coefficient of determination for Train: 0.89\n",
            "Coefficient of determination for Test: 0.84\n"
          ],
          "name": "stdout"
        }
      ]
    },
    {
      "cell_type": "markdown",
      "metadata": {
        "id": "Ng9V_xUX2AZt"
      },
      "source": [
        "## Question 1.2 (8 points) \n",
        "Run linear regression using Lasso and determine the value of $\\alpha$ that results in best test set performance. Consider `alphas=10**np.linspace(1,-2,100)*0.5`. Display the best value of $\\alpha$ as well as the corresponsing $R^2$ score on test set. Use the following parameters in Lasso model. Finally, store the best model separately. Also, use the co-efficients obtained and select the [columns with non-zero weights](https://stackoverflow.com/questions/62323713/selecting-columns-of-dataframe-where-lasso-coefficient-is-nonzero) and use them to create `X_train_lasso` and `X_test_lasso`. Show how many non-zero columns are present.\n",
        "\n",
        "    copy_X=True\n",
        "    normalize=True # Normalizes data using StandardScaler()\n",
        "    random_state=42"
      ]
    },
    {
      "cell_type": "markdown",
      "metadata": {
        "id": "x2ZOelRg-RQ3"
      },
      "source": [
        "## Answer 1.2"
      ]
    },
    {
      "cell_type": "code",
      "metadata": {
        "id": "m5QWzhLbJPT4",
        "outputId": "9ef0d13f-258c-4de9-cbeb-e24c0d2f0121",
        "colab": {
          "base_uri": "https://localhost:8080/",
          "height": 52
        }
      },
      "source": [
        "from sklearn.linear_model import LinearRegression, Lasso, Ridge, RidgeCV, LassoCV\n",
        "from sklearn import preprocessing\n",
        "import numpy as np\n",
        "from sklearn.model_selection import KFold\n",
        "from sklearn.preprocessing import StandardScaler\n",
        "\n",
        "scores = []\n",
        "\n",
        "alphas=10**np.linspace(1,-2,100)*0.5\n",
        "\n",
        "for alpha in alphas:\n",
        "    \n",
        "    # lasso run\n",
        "    lasso = Lasso(alpha=alpha, random_state=42, max_iter=100000, normalize = True, copy_X = True)\n",
        "    lasso.fit(X_train, y_train)\n",
        "    y_pred = lasso.predict(X_test)\n",
        "    scores += [lasso.score(X_test, y_test)]\n",
        "    \n",
        "# best alpha and corresponding R^2\n",
        "alpha_score = pd.DataFrame()\n",
        "alpha_score['Alphas'] = alphas\n",
        "alpha_score['R2'] = scores\n",
        "bestidx = alpha_score['R2'].idxmax()\n",
        "print(alpha_score.iloc[[bestidx]].rename(index={2:'Best'}))"
      ],
      "execution_count": null,
      "outputs": [
        {
          "output_type": "stream",
          "text": [
            "     Alphas        R2\n",
            "84  0.01424  0.852483\n"
          ],
          "name": "stdout"
        }
      ]
    },
    {
      "cell_type": "code",
      "metadata": {
        "id": "4jYi5RJ5JPT9"
      },
      "source": [
        "best_alpha = alpha_score.iloc[[bestidx]]['Alphas'].values\n",
        "#best_R2 = alpha_score.iloc[[bestidx]]['R2'].values\n",
        "\n",
        "best_model = Lasso(alpha=best_alpha, random_state=42, max_iter=100000, normalize = True, copy_X = True)\n",
        "best_model.fit(X_train, y_train)\n",
        "\n",
        "X_train_lasso = X_train.iloc[:,best_model.coef_!=0]\n",
        "X_test_lasso = X_test.iloc[:,best_model.coef_!=0]"
      ],
      "execution_count": null,
      "outputs": []
    },
    {
      "cell_type": "markdown",
      "metadata": {
        "id": "yZgK-IsT29fa"
      },
      "source": [
        "## Question 1.3 (6 points) \n",
        "Run linear regression using Ridge and determine the value of $\\alpha$ that results in best test set performance. Consider `alphas=10**np.linspace(1,-2,100)*0.5`. Display the best value of $\\alpha$ as well as the corresponsing $R^2$ score on test set. Use the following parameters in Lasso model.\n",
        "\n",
        "    copy_X=True\n",
        "    normalize=True # Normalizes data using StandardScaler()\n",
        "    random_state=42"
      ]
    },
    {
      "cell_type": "markdown",
      "metadata": {
        "id": "syhZfjiI-PB3"
      },
      "source": [
        "## Answer 1.3"
      ]
    },
    {
      "cell_type": "code",
      "metadata": {
        "id": "dl3aG_5QJPUC",
        "outputId": "30df6247-db97-41fe-aea5-4525d1cf630d",
        "colab": {
          "base_uri": "https://localhost:8080/",
          "height": 52
        }
      },
      "source": [
        "ridge_scores = []\n",
        "\n",
        "ridge_alphas =10**np.linspace(1,-2,100)*0.5\n",
        "\n",
        "for alpha in ridge_alphas:\n",
        "    \n",
        "    # ridge run\n",
        "    ridge = Ridge(alpha=alpha, random_state=42, max_iter=100000, normalize = True, copy_X = True)\n",
        "    ridge.fit(X_train, y_train)\n",
        "    y_pred = ridge.predict(X_test)\n",
        "    ridge_scores += [ridge.score(X_test, y_test)]\n",
        "    \n",
        "# best alpha and corresponding R^2\n",
        "ridge_alpha_score = pd.DataFrame()\n",
        "ridge_alpha_score['Alphas'] = ridge_alphas\n",
        "ridge_alpha_score['R2'] = ridge_scores\n",
        "bestidx_ridge = ridge_alpha_score['R2'].idxmax()\n",
        "print(ridge_alpha_score.iloc[[bestidx]].rename(index={2:'Best'}))"
      ],
      "execution_count": null,
      "outputs": [
        {
          "output_type": "stream",
          "text": [
            "     Alphas        R2\n",
            "84  0.01424  0.831686\n"
          ],
          "name": "stdout"
        }
      ]
    },
    {
      "cell_type": "markdown",
      "metadata": {
        "id": "Y-6cOe7V7DCz"
      },
      "source": [
        "## Question 1.4  (8 points) \n",
        "Run [ElasticNet](https://scikit-learn.org/stable/modules/generated/sklearn.linear_model.ElasticNet.html) [(Video Reference)](https://youtu.be/1dKRdX9bfIo) on the `X_train_lasso` dataset by using all possible values from the below mentioned parameter set:\n",
        "\n",
        "    l1_ratios = np.arange(0, 1.01, 0.01)  # 101 elements\n",
        "    alphas = 10**np.linspace(1, -2, 100)*0.5 # 100 elements\n",
        "    normalize = True\n",
        "    random_state = 42\n",
        "\n",
        "\n",
        "Store the $R^2$ score obtained from `X_test_lasso` set for each combination in an array with 101 rows and 100 columns. e.g.\n",
        "\n",
        "    arr[i][j] = curr_r2_score # obtained using l1_ratios[i] and alphas[j]\n",
        "\n",
        "where `i` is the `ith` element from `l1_ratio` and `j` is the `jth` element from `alphas`. Print the best $R^2$ score obtained using test set and its corresponding `alpha` and `l1 ratio`."
      ]
    },
    {
      "cell_type": "code",
      "metadata": {
        "id": "ZZiKAbk4jGXu"
      },
      "source": [
        " arr = np.zeros((101, 100)) # Create 101x100 array"
      ],
      "execution_count": null,
      "outputs": []
    },
    {
      "cell_type": "markdown",
      "metadata": {
        "id": "GFwZrCRViynq"
      },
      "source": [
        "Note that by varying the `l1_ratio`, you are controlling the ratio of Lasso and Ridge regularization that is present in the model. When `l1_ratio = 1`, it means that the model uses Lasso regularization only whereas when `l1_ratio = 0`, it means that the model uses Ridge regularization only. You can find the formula for the loss function [here](https://scikit-learn.org/stable/modules/generated/sklearn.linear_model.ElasticNet.html)."
      ]
    },
    {
      "cell_type": "markdown",
      "metadata": {
        "id": "r5ksUkeL-MbL"
      },
      "source": [
        "## Answer 1.4"
      ]
    },
    {
      "cell_type": "code",
      "metadata": {
        "id": "TibtWNdY3bVR"
      },
      "source": [
        "#initialize matrix\n",
        "elastic_r2 = np.zeros((101,100))\n",
        "\n",
        "l1_ratios = np.arange(0, 1.01, 0.01)  # 101 elements\n",
        "elastic_alphas = 10**np.linspace(1, -2, 100)*0.5 # 100 elements"
      ],
      "execution_count": null,
      "outputs": []
    },
    {
      "cell_type": "code",
      "metadata": {
        "id": "mG9cDyB9JPUK"
      },
      "source": [
        "from sklearn.linear_model import ElasticNet\n",
        "\n",
        "i = 0\n",
        "while i < len(l1_ratios):\n",
        "  j = 0\n",
        "  while j < len(elastic_alphas):      \n",
        "      # elastic run\n",
        "      elastic = ElasticNet(alpha=elastic_alphas[j], l1_ratio = l1_ratios[i], random_state=42, normalize = True, copy_X = True)\n",
        "      elastic.fit(X_train_lasso, y_train)\n",
        "      #y_pred = elastic.predict(X_test_lasso)\n",
        "      elastic_r2[i][j] = elastic.score(X_test_lasso, y_test)\n",
        "      #elastic_r2[i][j] = r2_score(y_pred, y_test)\n",
        "      j += 1\n",
        "  i += 1"
      ],
      "execution_count": null,
      "outputs": []
    },
    {
      "cell_type": "code",
      "metadata": {
        "id": "miRKPhn9b42K",
        "outputId": "e58c6b4e-54a9-4d22-8b0b-3244ff37d610",
        "colab": {
          "base_uri": "https://localhost:8080/",
          "height": 69
        }
      },
      "source": [
        "#best R^2 value\n",
        "\n",
        "best_r2_elastic = np.amax(elastic_r2)\n",
        "\n",
        "i,j = np.where(elastic_r2 == best_r2_elastic)\n",
        "best_l1_ratio = float(l1_ratios[i])\n",
        "best_elastic_alpha = float(alphas[j])\n",
        "\n",
        "print('Best R^2: ', best_r2_elastic)\n",
        "print('Best l1 ratio: ', best_l1_ratio)\n",
        "print('Best alpha value: ', best_elastic_alpha)"
      ],
      "execution_count": null,
      "outputs": [
        {
          "output_type": "stream",
          "text": [
            "Best R^2:  0.8527563145979078\n",
            "Best l1 ratio:  1.0\n",
            "Best alpha value:  0.008737642000038414\n"
          ],
          "name": "stdout"
        }
      ]
    },
    {
      "cell_type": "markdown",
      "metadata": {
        "id": "D6eM7mR189cP"
      },
      "source": [
        "## Question 1.5 (3 points) \n",
        "Call `plot_heatmap()` using the 101x100 array from the previous question. What does this heatmap represent? Interpret the heatmap."
      ]
    },
    {
      "cell_type": "code",
      "metadata": {
        "id": "2SVYnItgCCAR"
      },
      "source": [
        "def rescale(val, in_min, in_max, out_min, out_max):\n",
        "    return out_min + (val - in_min) * ((out_max - out_min) / (in_max - in_min))\n",
        "\n",
        "def format_y(value, tick_number):\n",
        "    return f'{value/100.:0.2f}'\n",
        "\n",
        "def format_x(value, tick_number):\n",
        "    return f'{rescale(value, 0., 100., 0.05, 5.):0.2f}'\n",
        "\n",
        "def plot_heatmap(arr):\n",
        "    ax = sns.heatmap(arr)\n",
        "    ax.set_ylabel(\"L1 Ratio\")\n",
        "    ax.set_xlabel(\"alpha\")\n",
        "    ax.invert_yaxis()\n",
        "    ax.xaxis.set_major_formatter(plt.FuncFormatter(format_x))\n",
        "    ax.yaxis.set_major_formatter(plt.FuncFormatter(format_y))"
      ],
      "execution_count": null,
      "outputs": []
    },
    {
      "cell_type": "markdown",
      "metadata": {
        "id": "q5QVYStf9zuA"
      },
      "source": [
        "## Answer 1.5"
      ]
    },
    {
      "cell_type": "code",
      "metadata": {
        "id": "fIe0ktuyJPUR",
        "outputId": "285535a9-6c83-452c-abb8-b7969f7e4d0c",
        "colab": {
          "base_uri": "https://localhost:8080/",
          "height": 295
        }
      },
      "source": [
        "plot_heatmap(np.fliplr(elastic_r2))"
      ],
      "execution_count": null,
      "outputs": [
        {
          "output_type": "display_data",
          "data": {
            "image/png": "[encoded data removed]",
            "text/plain": [
              "<Figure size 432x288 with 2 Axes>"
            ]
          },
          "metadata": {
            "tags": [],
            "needs_background": "light"
          }
        }
      ]
    },
    {
      "cell_type": "markdown",
      "metadata": {
        "id": "d5GE3dDLJPUT"
      },
      "source": [
        "The heat map represents how the coefficient of variation R^2 varies with respect to alpha and L1 ratio. This heat map shows R^2 is highly dependent on alpha, and as the alpha decreases, the R^2 increases.In this scenario, the best model is achieved using a very low alpha value, which indicates that nearly all the features have high predictive power and the model performs very close to an unregularized linear regression. Conversely, R^2 improves as L1 value approaches 1 at a given alpha value. This indicates that lasso regression performs the best compared to ridge regression or a variation of the two because there some variables that had little to explain about life expectancy.\n"
      ]
    },
    {
      "cell_type": "markdown",
      "metadata": {
        "id": "fXL1_aVfCktf"
      },
      "source": [
        "# Question 2 (5 points)\n",
        "Suppose you learn a ridge regression based on some of the independent variables available to you, and including a few interaction terms as well. Your result is disappointing, and you believe that the model is suffering from either too much bias or too much variance. Describe briefly how you will test which alternative is more likely to be true. (there is no extra data that you can use, so “get more data” is not an option)."
      ]
    },
    {
      "cell_type": "markdown",
      "metadata": {
        "id": "JwBey03RJPUU"
      },
      "source": [
        "## Answer 2"
      ]
    },
    {
      "cell_type": "markdown",
      "metadata": {
        "id": "bQy7P1o0evX9"
      },
      "source": [
        "The main issue here is the proble of a bias-variance tradeoff. Having a small number of alphas with no CV or cross validation could lead to the issue described. A high alpha leads to a high bias and a low alpha leads to a higher variance. Using elastic net can be better solution here as the elastic net cross validation would help us find the best alpha with the lowest MSE ( Mean Squared Error) using different mix of ridge and lasso. The ridge method would be useful if many predictors are relevant and lasso would help zero down the irrelevant features."
      ]
    },
    {
      "cell_type": "markdown",
      "metadata": {
        "id": "nrz5rqLOJPUV"
      },
      "source": [
        "# Question 3 Bias-Variance (20 pts): \n",
        "\n",
        "We want to build a model that can predict y for unknown inputs x.(15 pts)\n",
        "\n",
        "(a) (5 pts) Fit a linear model to the training data, and report mean squared error on the test data. Plot the train and test points on the same plot, clearly denoting the training and testing points. On the same figure, plot the predictions of the linear model using x_all. All the plots must be in the same figure and be clearly labeled.\n",
        "\n",
        "\n",
        "(b) (10 pts) Fit polynomial models of degrees 2, 3, 4 and 12 to the training data, Report mean squared error (on both train and test sets) for all the models. Plot the data (train and test points) as before.  On the same figure, plot the predictions of the polynomial models using x_all. All the plots must be in the same figure and be clearly labeled.\n",
        "\n",
        "\n",
        "(c) (5 pts) Which model performed the best? Explain.\n"
      ]
    },
    {
      "cell_type": "markdown",
      "metadata": {
        "id": "oIqu7iSsJPUV"
      },
      "source": [
        "* Use the below code to load the data from the file 'ps01.data'. It is organized as a dictionary, of train and test data."
      ]
    },
    {
      "cell_type": "code",
      "metadata": {
        "id": "jMqkAcFNJPUW"
      },
      "source": [
        "from sklearn import linear_model as lm\n",
        "from sklearn.metrics import mean_squared_error,mean_absolute_error\n",
        "import matplotlib.pyplot as plt\n",
        "import numpy as np\n",
        "%matplotlib inline\n",
        "\n",
        "x_all = np.linspace(-2,5,101).reshape(-1,1)\n",
        "all_files = np.load(\"/content/q3_data.npz\")\n",
        "x_train, y_train, x_test, y_test = all_files['arr_0'], all_files['arr_1'], all_files['arr_2'], all_files['arr_3']"
      ],
      "execution_count": null,
      "outputs": []
    },
    {
      "cell_type": "markdown",
      "metadata": {
        "id": "y_qm8gnhJPUZ"
      },
      "source": [
        "### Answer"
      ]
    },
    {
      "cell_type": "markdown",
      "metadata": {
        "id": "73YZ3tWuJPUZ"
      },
      "source": [
        "#### (a)"
      ]
    },
    {
      "cell_type": "code",
      "metadata": {
        "id": "tRd-RP91YGjB",
        "outputId": "c654a49f-1e96-48a3-8356-8823088b80fe",
        "colab": {
          "base_uri": "https://localhost:8080/",
          "height": 297
        }
      },
      "source": [
        "# create and fit linear model\n",
        "lin_mod = LinearRegression()\n",
        "lin_mod.fit(x_train,y_train)\n",
        "\n",
        "# calculate MSE of test data and predicted values from linear model\n",
        "y_pred_lin = lin_mod.predict(x_test)\n",
        "lin_MSE = mean_squared_error(y_test, y_pred_lin)\n",
        "\n",
        "# predict and plot on x_all using linear model\n",
        "y_all_lin = lin_mod.predict(x_all)\n",
        "\n",
        "plt.plot(x_train, y_train, marker='o', linestyle='None', label='train')\n",
        "plt.plot(x_test, y_test, marker='o', linestyle = 'None', label='test')\n",
        "plt.plot(x_all, y_all_lin, marker='.', linestyle = 'None', label='linear x_all prediction')\n",
        "\n",
        "plt.xlabel('x')\n",
        "plt.ylabel('y')\n",
        "plt.legend(numpoints=1, loc='best')\n",
        "plt.show()\n",
        "\n",
        "print('Linear model MSE: ', lin_MSE)"
      ],
      "execution_count": null,
      "outputs": [
        {
          "output_type": "display_data",
          "data": {
            "image/png": "[encoded data removed]",
            "text/plain": [
              "<Figure size 432x288 with 1 Axes>"
            ]
          },
          "metadata": {
            "tags": [],
            "needs_background": "light"
          }
        },
        {
          "output_type": "stream",
          "text": [
            "Linear model MSE:  4.739110717634691\n"
          ],
          "name": "stdout"
        }
      ]
    },
    {
      "cell_type": "markdown",
      "metadata": {
        "id": "wGmbI6IQJPUd"
      },
      "source": [
        "### (b)"
      ]
    },
    {
      "cell_type": "code",
      "metadata": {
        "id": "eVXbtuSOnC-b"
      },
      "source": [
        "from sklearn.preprocessing import PolynomialFeatures\n",
        "\n",
        "# initializing function for generating polynomial features from input sample\n",
        "poly2 = PolynomialFeatures(degree = 2)\n",
        "poly3 = PolynomialFeatures(degree = 3)\n",
        "poly4 = PolynomialFeatures(degree = 4)\n",
        "poly12 = PolynomialFeatures(degree = 12)\n",
        "\n",
        "# initializing linear regression models\n",
        "poly2_mod = LinearRegression(fit_intercept=False)\n",
        "poly3_mod = LinearRegression(fit_intercept=False)\n",
        "poly4_mod = LinearRegression(fit_intercept=False)\n",
        "poly12_mod = LinearRegression(fit_intercept=False)\n",
        "\n",
        "# fit linear models to respectively transformed datapoints\n",
        "poly2_mod.fit(poly2.fit_transform(x_train), y_train)\n",
        "poly3_mod.fit(poly3.fit_transform(x_train), y_train)\n",
        "poly4_mod.fit(poly4.fit_transform(x_train), y_train)\n",
        "poly12_mod.fit(poly12.fit_transform(x_train), y_train)\n",
        "\n",
        "# model predictions on training set\n",
        "poly2_pred_train = poly2_mod.predict(poly2.fit_transform(x_train))\n",
        "poly3_pred_train = poly3_mod.predict(poly3.fit_transform(x_train))\n",
        "poly4_pred_train = poly4_mod.predict(poly4.fit_transform(x_train))\n",
        "poly12_pred_train = poly12_mod.predict(poly12.fit_transform(x_train))\n",
        "\n",
        "# model predictions on test set\n",
        "poly2_pred_test = poly2_mod.predict(poly2.fit_transform(x_test))\n",
        "poly3_pred_test = poly3_mod.predict(poly3.fit_transform(x_test))\n",
        "poly4_pred_test = poly4_mod.predict(poly4.fit_transform(x_test))\n",
        "poly12_pred_test = poly12_mod.predict(poly12.fit_transform(x_test))\n",
        "\n",
        "# model MSEs on train\n",
        "poly2_MSE_train = mean_squared_error(y_train, poly2_pred_train)\n",
        "poly3_MSE_train = mean_squared_error(y_train, poly3_pred_train)\n",
        "poly4_MSE_train = mean_squared_error(y_train, poly4_pred_train)\n",
        "poly12_MSE_train = mean_squared_error(y_train, poly12_pred_train)\n",
        "\n",
        "# model MSEs on test\n",
        "poly2_MSE_test = mean_squared_error(y_test, poly2_pred_test)\n",
        "poly3_MSE_test = mean_squared_error(y_test, poly3_pred_test)\n",
        "poly4_MSE_test = mean_squared_error(y_test, poly4_pred_test)\n",
        "poly12_MSE_test = mean_squared_error(y_test, poly12_pred_test)"
      ],
      "execution_count": null,
      "outputs": []
    },
    {
      "cell_type": "code",
      "metadata": {
        "id": "0Q5ZQFGcPy2G",
        "outputId": "9a799d92-fe70-4cd8-f67e-7ad9cb02d4d1",
        "colab": {
          "base_uri": "https://localhost:8080/",
          "height": 470
        }
      },
      "source": [
        "# Report MSEs\n",
        "print('Train MSEs: ')\n",
        "print('2nd degree polynomial MSE: ', poly2_MSE_train)\n",
        "print('3rd degree polynomial MSE: ', poly3_MSE_train)\n",
        "print('4th degree polynomial MSE: ', poly4_MSE_train)\n",
        "print('12th degree polynomial MSE: ', poly12_MSE_train)\n",
        "\n",
        "print('\\nTest MSEs: ')\n",
        "print('2nd degree polynomial MSE: ', poly2_MSE_test)\n",
        "print('3rd degree polynomial MSE: ', poly3_MSE_test)\n",
        "print('4th degree polynomial MSE: ', poly4_MSE_test)\n",
        "print('12th degree polynomial MSE: ', poly12_MSE_test)\n",
        "\n",
        "# Predict on all data using each trained polynomial model\n",
        "poly2_pred_all = poly2_mod.predict(poly2.fit_transform(x_all))\n",
        "poly3_pred_all = poly3_mod.predict(poly3.fit_transform(x_all))\n",
        "poly4_pred_all = poly4_mod.predict(poly4.fit_transform(x_all))\n",
        "poly12_pred_all = poly12_mod.predict(poly12.fit_transform(x_all))\n",
        "\n",
        "# Plot all train and test points along with predicted polynomial curves\n",
        "plt.plot(x_train, y_train, marker='o', linestyle='None', label='train')\n",
        "plt.plot(x_test, y_test, marker='o', linestyle = 'None', label='test')\n",
        "plt.plot(x_all, poly2_pred_all, linestyle = '-', label='poly2_y')\n",
        "plt.plot(x_all, poly3_pred_all, linestyle = '-', label='poly3_y')\n",
        "plt.plot(x_all, poly4_pred_all, linestyle = '-', label='poly4_y')\n",
        "plt.plot(x_all, poly12_pred_all, linestyle = '-', label='poly12_y')\n",
        "\n",
        "plt.xlabel('x')\n",
        "plt.ylabel('y')\n",
        "plt.legend(numpoints=1, loc='best')\n",
        "plt.show()"
      ],
      "execution_count": null,
      "outputs": [
        {
          "output_type": "stream",
          "text": [
            "Train MSEs: \n",
            "2nd degree polynomial MSE:  3.241421853814466\n",
            "3rd degree polynomial MSE:  1.4201223351315235\n",
            "4th degree polynomial MSE:  0.37459501477803114\n",
            "12th degree polynomial MSE:  0.32974847922667716\n",
            "\n",
            "Test MSEs: \n",
            "2nd degree polynomial MSE:  3.118688012803552\n",
            "3rd degree polynomial MSE:  1.6698703639509418\n",
            "4th degree polynomial MSE:  0.2793974390234435\n",
            "12th degree polynomial MSE:  0.4022876206953409\n"
          ],
          "name": "stdout"
        },
        {
          "output_type": "display_data",
          "data": {
            "image/png": "[encoded data removed]",
            "text/plain": [
              "<Figure size 432x288 with 1 Axes>"
            ]
          },
          "metadata": {
            "tags": [],
            "needs_background": "light"
          }
        }
      ]
    },
    {
      "cell_type": "markdown",
      "metadata": {
        "id": "hRiMg-MUJPUf"
      },
      "source": [
        "### (c)"
      ]
    },
    {
      "cell_type": "markdown",
      "metadata": {
        "id": "DMiHS4f-JPUg"
      },
      "source": [
        "The 12th degree polynomial model performs the best on the training set, but the 4th degree polynomial model performs the best on the test set. This may occur because while the 12th degree polynomial may fit similar to the 4th degree polynomial, there is a high variance associated with the model. Therefore, the 4th degree polynomial has already greatly significantly minimized the bias such that the 12th degree polynomial introduces more variance. This can be observed in the 4th degree polynomial displaying both the best test MSE, and visually fitting x_all more accurately than the 12th degree polynomial model."
      ]
    },
    {
      "cell_type": "markdown",
      "metadata": {
        "id": "PupeUtnTJPUg"
      },
      "source": [
        "# Question 4 - Stochastic Gradient Descent (25 pts)"
      ]
    },
    {
      "cell_type": "markdown",
      "metadata": {
        "id": "QQQVHHa6JPUg"
      },
      "source": [
        "1. (5pts) Using stochastic gradient descent, derive the coefficent updates for all 4 coefficients of the model: $$ y = w_0 + w_1x_1 + w_2x_1x_2 + w_3e^{-x_1} $$ Hint: start from the cost function (Assume sum of squared error). If you write the math by hand, include the image in your notebook and upload the image in the submission.\n",
        "\n",
        "\n",
        "2. (20pts) Write Python code for an SGD solution to the non-linear model$$ y = w_0 + w_1x_1 + w_2x_1x_2 + w_3e^{-x_1} $$  Try to format similarly to scikit-learn's models. The template of the class is given. The init function of the class takes as input the learning_rate, regularization_constant and number of epochs. The fit method must take as input X,y. The _predict_ method takes an X value (optionally, an array of values). Use your new gradient descent regression to predict the data given in 'samples.csv', for 15 epochs, using learning rates: [0, .0001, .001, .01, 0.1, 1, 10, 100] and regularization (ridge regression) constants: [0,10,100] . Plot MSE and the $w$ parameters as a function of epoch (for 15 epochs) for the best 2 combinations of learning_rate and regularization for SGD. (2pts) Report the MSE at the end of 15 epochs for the two best combinations.\n"
      ]
    },
    {
      "cell_type": "code",
      "metadata": {
        "id": "IzvhT0hiJPUh"
      },
      "source": [
        "%matplotlib inline\n",
        "import random\n",
        "import numpy as np\n",
        "import matplotlib.pyplot as plt\n",
        "import pandas as pd\n",
        "\n",
        "class Regression:\n",
        "    \n",
        "    def __init__(self, learning_rate, regularization, n_epoch):\n",
        "        self.learning_rate = learning_rate\n",
        "        self.n_epoch = n_epoch\n",
        "        self.regularization = regularization\n",
        "        self.coef = np.zeros(4)\n",
        "        \n",
        "    def sgd(self, gradient):\n",
        "        self.coef = self.coef + (self.learning_rate*gradient - self.learning_rate*self.regularization*self.coef) # = please fill this to update self.coef using SGD\n",
        "        \n",
        "    def fit(self, X, y, update_rule='sgd', plot=False):\n",
        "        mse = []\n",
        "        coefs = []\n",
        "        \n",
        "        self.cache = np.zeros(self.coef.shape)\n",
        "        self.v = np.zeros(self.coef.shape)\n",
        "        self.decay_rate = 0.9\n",
        "        X = self.get_features(X)\n",
        "        for epoch in range(self.n_epoch):\n",
        "            for i in range(X.shape[0]):\n",
        "                # Compute error\n",
        "                prediction = self.linearPredict(X[i])\n",
        "                error = y[i] - prediction\n",
        "                # Compute gradients\n",
        "                gradient = error*X[i]\n",
        "                #self.gradient = gradient\n",
        "                \n",
        "                #Update weights\n",
        "                self.sgd(gradient)             \n",
        "           \n",
        "            coefs.append(self.coef)\n",
        "            residuals = y - self.linearPredict(X)         \n",
        "            mse.append(np.mean(residuals**2))\n",
        "        self.lowest_mse = mse[-1]\n",
        "        if plot == True:\n",
        "            plt.figure()\n",
        "            plt.plot(range(self.n_epoch),mse)\n",
        "            plt.xlabel('epoch')\n",
        "            plt.ylabel('MSE')\n",
        "            plt.figure()\n",
        "            coefs = np.array(coefs)\n",
        "            plt.plot(range(self.n_epoch),coefs[:,0],label='w0')\n",
        "            plt.plot(range(self.n_epoch),coefs[:,1],label='w1')\n",
        "            plt.plot(range(self.n_epoch),coefs[:,2],label='w2')\n",
        "            plt.plot(range(self.n_epoch),coefs[:,3],label='w3')\n",
        "            plt.legend()\n",
        "            plt.xlabel('epoch')\n",
        "            plt.ylabel('parameter value')\n",
        "\n",
        "    def get_features(self, X):\n",
        "        '''\n",
        "        this output of this function can be used to compute the gradient in `fit`\n",
        "        '''\n",
        "        x = np.zeros((X.shape[0], 4))\n",
        "        x[:,0] = 1\n",
        "        x[:,1] = X[:,0]\n",
        "        x[:,2] = X[:,0]*X[:,1]\n",
        "        x[:,3] = np.exp(-X[:,0])\n",
        "        \n",
        "        return x\n",
        "        \n",
        "    def linearPredict(self, X):\n",
        "        #compute dot product of self.coef and X\n",
        "        prediction = np.dot(X, self.coef)\n",
        "        return prediction"
      ],
      "execution_count": 45,
      "outputs": []
    },
    {
      "cell_type": "code",
      "metadata": {
        "id": "Pni8O8RzJPUj"
      },
      "source": [
        "data = pd.read_csv('/content/q4_samples.csv')\n",
        "X = np.array([data['x1'].values, data['x2'].values]).T\n",
        "y = data['y'].values\n",
        "n_epochs = 15\n",
        "learning_rate = [0.0001, 0.001, 0.01, 0.1, 1, 10, 100]\n",
        "regularization = [0, 10, 100]"
      ],
      "execution_count": 46,
      "outputs": []
    },
    {
      "cell_type": "markdown",
      "metadata": {
        "id": "IzEHW-yhJPUl"
      },
      "source": [
        "## Answer "
      ]
    },
    {
      "cell_type": "markdown",
      "metadata": {
        "id": "K2txopqIJPUm"
      },
      "source": [
        "### 1."
      ]
    },
    {
      "cell_type": "markdown",
      "metadata": {
        "id": "Ly1mm69vJPUm"
      },
      "source": [
        "## Loss Function \n",
        "$L = SSE = \\sum_{i=1}^n (y_{i} - \\hat{y}_{i})^2$\n",
        "\n",
        "$L = \\sum_{i=1}^n (y_i - (\\hat{w}_0 + \\hat{w}_1x_1 + \\hat{w}_2x_1x_2 + \\hat{w}_3e^{-x_1}) )^2$\n",
        "\n",
        "\n",
        "## Minimize Loss Function\n",
        "$\\partial L /  \\partial \\hat{y} = 2\\sum_{i=1}^n(\\hat{y} - y)$\n",
        "\n",
        "\n",
        "\n",
        " \n",
        "## Gradient = $\\partial L /  \\partial w$\n",
        "\n",
        "$\\partial L /  \\partial w = (\\partial L /  \\partial \\hat{y}) * (\\partial \\hat{y} /  \\partial w$)\n",
        "\n",
        "\n",
        "$\\partial \\hat{y} /  \\partial w_{0} = 1$\n",
        "\n",
        "$\\partial \\hat{y} /  \\partial w_{1} = x_{1}$\n",
        "\n",
        "$\\partial \\hat{y} /  \\partial w_{2} = x_{1}*x_{2}$\n",
        "\n",
        "$\\partial \\hat{y} /  \\partial w_{3} = e^{-x_{1}}$\n",
        "\n",
        "## Coefficient Updates $w^{new} = w^{current} - \\eta(\\partial L /  \\partial w)$\n",
        "$w^{new}_{0} = w^{current}_{0} - \\sum_{i=1}^n\\eta[2(\\hat{y} - y) * 1]$\n",
        "\n",
        "$w^{new}_{1} = w^{current}_{1} - \\sum_{i=1}^n\\eta[2(\\hat{y} - y) * x_{1}]$\n",
        "\n",
        "$w^{new}_{2} = w^{current}_{2} - \\sum_{i=1}^n\\eta[2(\\hat{y} - y) * x_{1}*x_{2}]$\n",
        "\n",
        "$w^{new}_{3} = w^{current}_{3} - \\sum_{i=1}^n\\eta[2(\\hat{y} - y) * e^{-x_{1}}]$"
      ]
    },
    {
      "cell_type": "markdown",
      "metadata": {
        "id": "dQ-8jUuNJPUq"
      },
      "source": [
        "## 2. Using SGD"
      ]
    },
    {
      "cell_type": "code",
      "metadata": {
        "id": "6f95YV-QRvRS",
        "outputId": "90bb890e-856f-42a0-c1ac-9f1c138e377f",
        "colab": {
          "base_uri": "https://localhost:8080/",
          "height": 138
        }
      },
      "source": [
        "results = []\n",
        "for l in learning_rate:\n",
        "    for r in regularization:\n",
        "        reg = Regression(learning_rate= l, regularization= r, n_epoch= n_epochs)\n",
        "        result = reg.fit(X, y, update_rule='sgd', plot=False)\n",
        "        results.append((l, r, reg.lowest_mse))"
      ],
      "execution_count": 47,
      "outputs": [
        {
          "output_type": "stream",
          "text": [
            "/usr/local/lib/python3.6/dist-packages/ipykernel_launcher.py:16: RuntimeWarning: overflow encountered in multiply\n",
            "  app.launch_new_instance()\n",
            "/usr/local/lib/python3.6/dist-packages/ipykernel_launcher.py:16: RuntimeWarning: invalid value encountered in add\n",
            "  app.launch_new_instance()\n",
            "/usr/local/lib/python3.6/dist-packages/ipykernel_launcher.py:40: RuntimeWarning: overflow encountered in square\n",
            "/usr/local/lib/python3.6/dist-packages/ipykernel_launcher.py:16: RuntimeWarning: invalid value encountered in multiply\n",
            "  app.launch_new_instance()\n"
          ],
          "name": "stderr"
        }
      ]
    },
    {
      "cell_type": "code",
      "metadata": {
        "id": "Qh7dJ3kcSzLx",
        "outputId": "21a13140-4f9e-4a91-c2b3-b9d3ff2bc0fe",
        "colab": {
          "base_uri": "https://localhost:8080/",
          "height": 381
        }
      },
      "source": [
        "results"
      ],
      "execution_count": 48,
      "outputs": [
        {
          "output_type": "execute_result",
          "data": {
            "text/plain": [
              "[(0.0001, 0, 0.03682051179745846),\n",
              " (0.0001, 10, 0.056125950640304956),\n",
              " (0.0001, 100, 0.0636364326583134),\n",
              " (0.001, 0, 0.030495991520073523),\n",
              " (0.001, 10, 0.05603419974127593),\n",
              " (0.001, 100, 0.06349227789221855),\n",
              " (0.01, 0, 0.027391087575201017),\n",
              " (0.01, 10, 0.054626354580913854),\n",
              " (0.01, 100, 0.06343718475083979),\n",
              " (0.1, 0, 0.030987628014180493),\n",
              " (0.1, 10, 0.05525368026081914),\n",
              " (0.1, 100, nan),\n",
              " (1, 0, inf),\n",
              " (1, 10, nan),\n",
              " (1, 100, nan),\n",
              " (10, 0, nan),\n",
              " (10, 10, nan),\n",
              " (10, 100, nan),\n",
              " (100, 0, nan),\n",
              " (100, 10, nan),\n",
              " (100, 100, nan)]"
            ]
          },
          "metadata": {
            "tags": []
          },
          "execution_count": 48
        }
      ]
    },
    {
      "cell_type": "code",
      "metadata": {
        "id": "a5SFNeAISoY7",
        "outputId": "f777b8db-ee35-478d-91b0-fe89b3eabfc7",
        "colab": {
          "base_uri": "https://localhost:8080/",
          "height": 541
        }
      },
      "source": [
        "reg = Regression(0.01, 0, n_epochs)\n",
        "results = reg.fit(X, y, update_rule='sgd', plot=True)"
      ],
      "execution_count": 49,
      "outputs": [
        {
          "output_type": "display_data",
          "data": {
            "image/png": "[encoded data removed]",
            "text/plain": [
              "<Figure size 432x288 with 1 Axes>"
            ]
          },
          "metadata": {
            "tags": [],
            "needs_background": "light"
          }
        },
        {
          "output_type": "display_data",
          "data": {
            "image/png": "[encoded data removed]",
            "text/plain": [
              "<Figure size 432x288 with 1 Axes>"
            ]
          },
          "metadata": {
            "tags": [],
            "needs_background": "light"
          }
        }
      ]
    },
    {
      "cell_type": "code",
      "metadata": {
        "id": "7klIcdReRv79",
        "outputId": "8ca0b1e9-0bae-4bd6-c9c1-4150d54333e0",
        "colab": {
          "base_uri": "https://localhost:8080/",
          "height": 544
        }
      },
      "source": [
        "sgd_mod1 = Regression(0.001, 0, n_epochs)\n",
        "sgd_mod1_plot = sgd_mod1.fit(X, y, update_rule='sgd', plot=True)"
      ],
      "execution_count": null,
      "outputs": [
        {
          "output_type": "display_data",
          "data": {
            "image/png": "[encoded data removed]",
            "text/plain": [
              "<Figure size 432x288 with 1 Axes>"
            ]
          },
          "metadata": {
            "tags": [],
            "needs_background": "light"
          }
        },
        {
          "output_type": "display_data",
          "data": {
            "image/png": "[encoded data removed]",
            "text/plain": [
              "<Figure size 432x288 with 1 Axes>"
            ]
          },
          "metadata": {
            "tags": [],
            "needs_background": "light"
          }
        }
      ]
    }
  ]
}