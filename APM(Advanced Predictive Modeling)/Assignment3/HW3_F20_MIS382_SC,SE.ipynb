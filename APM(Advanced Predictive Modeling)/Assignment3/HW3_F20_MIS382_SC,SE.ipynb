{
  "nbformat": 4,
  "nbformat_minor": 0,
  "metadata": {
    "kernelspec": {
      "display_name": "Python 3",
      "language": "python",
      "name": "python3"
    },
    "language_info": {
      "codemirror_mode": {
        "name": "ipython",
        "version": 3
      },
      "file_extension": ".py",
      "mimetype": "text/x-python",
      "name": "python",
      "nbconvert_exporter": "python",
      "pygments_lexer": "ipython3",
      "version": "3.7.6"
    },
    "colab": {
      "name": "HW3-F20-MIS382-SC,SE.ipynb",
      "provenance": [],
      "collapsed_sections": [
        "FfPY1-cVV_tA",
        "7_VArpG6V_tM",
        "4T4Uida7X7Qz",
        "eiunooz_J7xJ",
        "7Yq041GCV_tQ",
        "j1KtiEyiV_tj",
        "eDJvc4ccV_tp",
        "3zBQJ7QYV_tu",
        "G35ZNlcnV_tx"
      ],
      "toc_visible": true
    }
  },
  "cells": [
    {
      "cell_type": "markdown",
      "metadata": {
        "id": "t14bDtaGV_s_"
      },
      "source": [
        "\n",
        "# <p style=\"text-align: center;\">MIS 382N: ADVANCED PREDICTIVE MODELING - MSBA</p>\n",
        "# <p style=\"text-align: center;\">Assignment 3</p>\n",
        "## <p style=\"text-align: center;\">Total points: 85 </p>\n",
        "## <p style=\"text-align: center;\">Due: October 19, submitted via Canvas by 11:59 pm</p>\n",
        "\n",
        "Your homework should be written in a **Jupyter notebook**. You may work in groups of two if you wish. Your partner needs to be from the same section. Only one student per team needs to submit the assignment on Canvas.  But be sure to include name and UTEID for both students.  Homework groups will be created and managed through Canvas, so please do not arbitrarily change your homework group. If you do change, let the TA know. \n",
        "\n",
        "Also, please make sure your code runs and the graphics (and anything else) are displayed in your notebook before submitting. (%matplotlib inline)\n",
        "\n",
        "### Name(s)\n",
        "1. Samir Epili se7982\n",
        "2. Siddhant Chauhan sc54788"
      ]
    },
    {
      "cell_type": "markdown",
      "metadata": {
        "id": "FfPY1-cVV_tA"
      },
      "source": [
        "# Question 1 - MLP Regressor (15 pts) \n",
        "In this question, you will explore the application of Multi-layer Perceptron (MLP) regression using sklearn package in Python; http://scikit-learn.org/stable/modules/generated/sklearn.neural_network.MLPRegressor.html.\n",
        "\n",
        "The following code will pre-process the data and split the data into training and test sets using train_test_split with random state 30 and test_size = 0.25.\n",
        "\n",
        "The dataset is loaded from q2_data.csv which contains features of engine and the predictor varialble is \"mpg\". The features are:\n",
        "* cylinders \n",
        "* displacement\n",
        "* horsepower\n",
        "* weight\n",
        "* acceleration"
      ]
    },
    {
      "cell_type": "code",
      "metadata": {
        "id": "ePFvWbw6V_tA",
        "outputId": "cd680abc-9f2e-40e1-fc26-45938ae11b87",
        "colab": {
          "base_uri": "https://localhost:8080/",
          "height": 34
        }
      },
      "source": [
        "import pandas as pd\n",
        "import numpy as np\n",
        "from sklearn.model_selection import (train_test_split,KFold)\n",
        "from sklearn.metrics import mean_squared_error\n",
        "from sklearn.neural_network import MLPRegressor\n",
        "from sklearn.preprocessing import StandardScaler\n",
        "import matplotlib.pyplot as plt\n",
        "import glob\n",
        "%matplotlib inline\n",
        "\n",
        "\n",
        "df = pd.read_csv('q2_data.csv') \n",
        "df.dropna(inplace=True)\n",
        "df.columns\n",
        "y = df['mpg'].values\n",
        "X = df.drop(['mpg'], axis = 1)\n",
        "X_train, X_test, y_train, y_test = train_test_split(X,y,test_size = 0.25, random_state=30)\n",
        "\n",
        "print(X_train.shape, y_train.shape, X_test.shape, y_test.shape)"
      ],
      "execution_count": null,
      "outputs": [
        {
          "output_type": "stream",
          "text": [
            "(294, 5) (294,) (98, 5) (98,)\n"
          ],
          "name": "stdout"
        }
      ]
    },
    {
      "cell_type": "code",
      "metadata": {
        "id": "OfFMwvn2V_tF",
        "outputId": "c0e54881-1619-4b0a-9f38-919420a8f449",
        "colab": {
          "base_uri": "https://localhost:8080/",
          "height": 191
        }
      },
      "source": [
        "df.head()"
      ],
      "execution_count": null,
      "outputs": [
        {
          "output_type": "execute_result",
          "data": {
            "text/html": [
              "<div>\n",
              "<style scoped>\n",
              "    .dataframe tbody tr th:only-of-type {\n",
              "        vertical-align: middle;\n",
              "    }\n",
              "\n",
              "    .dataframe tbody tr th {\n",
              "        vertical-align: top;\n",
              "    }\n",
              "\n",
              "    .dataframe thead th {\n",
              "        text-align: right;\n",
              "    }\n",
              "</style>\n",
              "<table border=\"1\" class=\"dataframe\">\n",
              "  <thead>\n",
              "    <tr style=\"text-align: right;\">\n",
              "      <th></th>\n",
              "      <th>mpg</th>\n",
              "      <th>cylinders</th>\n",
              "      <th>displacement</th>\n",
              "      <th>horsepower</th>\n",
              "      <th>weight</th>\n",
              "      <th>acceleration</th>\n",
              "    </tr>\n",
              "  </thead>\n",
              "  <tbody>\n",
              "    <tr>\n",
              "      <th>0</th>\n",
              "      <td>18.0</td>\n",
              "      <td>8</td>\n",
              "      <td>307.0</td>\n",
              "      <td>130.0</td>\n",
              "      <td>3504</td>\n",
              "      <td>12.0</td>\n",
              "    </tr>\n",
              "    <tr>\n",
              "      <th>1</th>\n",
              "      <td>15.0</td>\n",
              "      <td>8</td>\n",
              "      <td>350.0</td>\n",
              "      <td>165.0</td>\n",
              "      <td>3693</td>\n",
              "      <td>11.5</td>\n",
              "    </tr>\n",
              "    <tr>\n",
              "      <th>2</th>\n",
              "      <td>18.0</td>\n",
              "      <td>8</td>\n",
              "      <td>318.0</td>\n",
              "      <td>150.0</td>\n",
              "      <td>3436</td>\n",
              "      <td>11.0</td>\n",
              "    </tr>\n",
              "    <tr>\n",
              "      <th>3</th>\n",
              "      <td>16.0</td>\n",
              "      <td>8</td>\n",
              "      <td>304.0</td>\n",
              "      <td>150.0</td>\n",
              "      <td>3433</td>\n",
              "      <td>12.0</td>\n",
              "    </tr>\n",
              "    <tr>\n",
              "      <th>4</th>\n",
              "      <td>17.0</td>\n",
              "      <td>8</td>\n",
              "      <td>302.0</td>\n",
              "      <td>140.0</td>\n",
              "      <td>3449</td>\n",
              "      <td>10.5</td>\n",
              "    </tr>\n",
              "  </tbody>\n",
              "</table>\n",
              "</div>"
            ],
            "text/plain": [
              "    mpg  cylinders  displacement  horsepower  weight  acceleration\n",
              "0  18.0          8         307.0       130.0    3504          12.0\n",
              "1  15.0          8         350.0       165.0    3693          11.5\n",
              "2  18.0          8         318.0       150.0    3436          11.0\n",
              "3  16.0          8         304.0       150.0    3433          12.0\n",
              "4  17.0          8         302.0       140.0    3449          10.5"
            ]
          },
          "metadata": {
            "tags": []
          },
          "execution_count": 125
        }
      ]
    },
    {
      "cell_type": "markdown",
      "metadata": {
        "id": "SosJ7uYEV_tM"
      },
      "source": [
        "We also want to use [StandardScaler](http://scikit-learn.org/stable/modules/generated/sklearn.preprocessing.StandardScaler.html). Instead of fitting a model on the original data, we use StandardScaler to center each feature ([Example](http://scikit-learn.org/stable/auto_examples/applications/plot_prediction_latency.html#sphx-glr-auto-examples-applications-plot-prediction-latency-py)). Also remember that when we have training and testing data, we fit preprocessing parameters on training data and apply them to all testing data. You should scale only the features (independent variables), not the target variable y.\n",
        "\n",
        "\n",
        "   \n",
        "1) (**5pts**) Now, use the parameters for MLP Regressor as below to train a MLPRegressor models on the entire training set and report the RMSE score for both the trainnig and testing sets (again, use StandardScaler) for the different number of hidden units.\n",
        "\n",
        "   (a) *hidden_layer_sizes = (5,)* \n",
        "   \n",
        "   (b) *hidden_layer_sizes = (15,)*\n",
        "   \n",
        "   (c) *hidden_layer_sizes = (50,)*\n",
        "\n",
        "    activation = 'tanh', solver = 'sgd', learning_rate='constant', random_state=42, batch_size= 20,       learning_rate_init = 0.005\n",
        "    \n",
        "   Which of the three models ((a)-(c)) performs the best? Briefly analyze and discuss the results, commenting on the number of hidden units.\n",
        "\n",
        "\n",
        "2) (**5pts**) MLPRegressor has a built-in attribute *loss\\_curve\\_* which returns the loss at each epoch (misleadingly referred to as \"iteration\" in scikit documentation, though they use epoch in the actual code!). For example, if your model is named as *my_model* you can call it as *my\\_model.loss\\_curve\\_* ([example](http://scikit-learn.org/stable/auto_examples/neural_networks/plot_mlp_training_curves.html#sphx-glr-auto-examples-neural-networks-plot-mlp-training-curves-py)). Plot three curves using the following three conditions (a, b, c) in one figure, where *X-axis* is epoch  number and *Y-axis* is squared root of *loss\\_curve\\_*:\n",
        "\n",
        "   (a) *hidden_layer_sizes = (5,)* \n",
        "   \n",
        "   (b) *hidden_layer_sizes = (15,)*\n",
        "   \n",
        "   (c) *hidden_layer_sizes = (50,)* \n",
        "\n",
        "   \n",
        "3) (**5pts**) Now, use the parameters for MLP Regressor as below to train a MLPRegressor models on the entire training set for different batch size. \n",
        "\n",
        "    activation = 'tanh', solver = 'sgd', learning_rate='constant', random_state=42,learning_rate_init = 0.005 , hidden_layer_sizes = (15,)\n",
        "   \n",
        "   Plot three different figures for the three batch size, where *X-axis* is epoch  number and *Y-axis* is squared root of *loss\\_curve\\_*: \n",
        "\n",
        "   (a) *batch_size = 1* \n",
        "   \n",
        "   (b) *batch_size = 20*  \n",
        "   \n",
        "   (c) *batch_size = 2000* \n",
        "     \n",
        "   **Compare the three plots obtained comment on the gradient updates. What do you understand about the difference between batch_size = 1, 20 and 2000.**"
      ]
    },
    {
      "cell_type": "markdown",
      "metadata": {
        "id": "7_VArpG6V_tM"
      },
      "source": [
        "### 1) (5pts) Now, use the parameters for MLP Regressor as below to train a MLPRegressor models on the entire training set and report the RMSE score for both the trainnig and testing sets (again, use StandardScaler) for the different number of hidden units.\n",
        "\n",
        "(a) hidden_layer_sizes = (5,)\n",
        "\n",
        "(b) hidden_layer_sizes = (15,)\n",
        "\n",
        "(c) hidden_layer_sizes = (50,)\n",
        "\n"
      ]
    },
    {
      "cell_type": "code",
      "metadata": {
        "id": "NoZxgj42aYfu"
      },
      "source": [
        "import pandas as pd\n",
        "import numpy as np\n",
        "from sklearn.model_selection import (train_test_split)\n",
        "from sklearn.metrics import mean_squared_error\n",
        "from sklearn.neural_network import MLPRegressor\n",
        "from sklearn.preprocessing import StandardScaler\n",
        "import matplotlib.pyplot as plt\n",
        "\n",
        "MLP = MLPRegressor"
      ],
      "execution_count": null,
      "outputs": []
    },
    {
      "cell_type": "code",
      "metadata": {
        "id": "GMzKyJhWV_tN"
      },
      "source": [
        "scaler = StandardScaler()\n",
        "X_train_scaled =  scaler.fit_transform(X_train)\n",
        "X_test_scaled = scaler.transform(X_test)\n"
      ],
      "execution_count": null,
      "outputs": []
    },
    {
      "cell_type": "code",
      "metadata": {
        "id": "GPmfNOGXEFbn",
        "outputId": "7f423460-dedf-43ad-b315-d9b65629b760",
        "colab": {
          "base_uri": "https://localhost:8080/",
          "height": 52
        }
      },
      "source": [
        "# 5 hidden nodes\n",
        "MLP5 = MLPRegressor(hidden_layer_sizes = (5,), activation = 'tanh', solver = 'sgd', learning_rate = 'constant',\\\n",
        "                        random_state = 42, batch_size = 20, learning_rate_init= 0.005).fit(X_train_scaled, y_train)\n",
        "\n",
        "MLP_5_pred_train = MLP5.predict(X_train_scaled)\n",
        "MLP_5_pred_test = MLP5.predict(X_test_scaled)\n",
        "\n",
        "MLP_5_RMSE_train = np.sqrt(mean_squared_error(y_train, MLP_5_pred_train))\n",
        "MLP_5_RMSE_test = np.sqrt(mean_squared_error(y_test, MLP_5_pred_test))\n",
        "\n",
        "print('Train RMSE for 5 nodes : {}\\nTest RMSE : {}'.format(MLP_5_RMSE_train, MLP_5_RMSE_test))"
      ],
      "execution_count": null,
      "outputs": [
        {
          "output_type": "stream",
          "text": [
            "Train RMSE for 5 nodes : 3.360128954016189\n",
            "Test RMSE : 4.7984130428905605\n"
          ],
          "name": "stdout"
        }
      ]
    },
    {
      "cell_type": "code",
      "metadata": {
        "id": "J1WRpn6cHNEi",
        "outputId": "edbb29d7-60b3-4caf-f6eb-ff68cb7eb1c6",
        "colab": {
          "base_uri": "https://localhost:8080/",
          "height": 52
        }
      },
      "source": [
        "# 15 hidden nodes\n",
        "MLP15 = MLPRegressor(hidden_layer_sizes = (15,), activation = 'tanh', solver = 'sgd', learning_rate = 'constant',\\\n",
        "                        random_state = 42, batch_size = 20, learning_rate_init= 0.005).fit(X_train_scaled, y_train)\n",
        "\n",
        "MLP_15_pred_train = MLP15.predict(X_train_scaled)\n",
        "MLP_15_pred_test = MLP15.predict(X_test_scaled)\n",
        "\n",
        "MLP_15_RMSE_train = np.sqrt(mean_squared_error(y_train, MLP_15_pred_train))\n",
        "MLP_15_RMSE_test = np.sqrt(mean_squared_error(y_test, MLP_15_pred_test))\n",
        "\n",
        "print('Train RMSE for 15 nodes : {}\\nTest RMSE : {}'.format(MLP_15_RMSE_train, MLP_15_RMSE_test))"
      ],
      "execution_count": null,
      "outputs": [
        {
          "output_type": "stream",
          "text": [
            "Train RMSE for 15 nodes : 3.0199130137125887\n",
            "Test RMSE : 4.5517066936252295\n"
          ],
          "name": "stdout"
        }
      ]
    },
    {
      "cell_type": "code",
      "metadata": {
        "id": "B_J-t88vHb_Q",
        "outputId": "456b226e-2dfa-4cfb-c6e3-e19ad329b7e7",
        "colab": {
          "base_uri": "https://localhost:8080/",
          "height": 52
        }
      },
      "source": [
        "# 50 hidden nodes\n",
        "MLP50 = MLPRegressor(hidden_layer_sizes = (50,), activation = 'tanh', solver = 'sgd', learning_rate = 'constant',\\\n",
        "                        random_state = 42, batch_size = 20, learning_rate_init= 0.005).fit(X_train_scaled, y_train)\n",
        "\n",
        "MLP_50_pred_train = MLP50.predict(X_train_scaled)\n",
        "MLP_50_pred_test = MLP50.predict(X_test_scaled)\n",
        "\n",
        "MLP_50_RMSE_train = np.sqrt(mean_squared_error(y_train, MLP_50_pred_train))\n",
        "MLP_50_RMSE_test = np.sqrt(mean_squared_error(y_test, MLP_50_pred_test))\n",
        "\n",
        "print('Train RMSE for 50 nodes : {}\\nTest RMSE : {}'.format(MLP_50_RMSE_train, MLP_50_RMSE_test))"
      ],
      "execution_count": null,
      "outputs": [
        {
          "output_type": "stream",
          "text": [
            "Train RMSE for 50 nodes : 2.940964154111819\n",
            "Test RMSE : 4.77266846123953\n"
          ],
          "name": "stdout"
        }
      ]
    },
    {
      "cell_type": "markdown",
      "metadata": {
        "id": "AgKeUtMyHr5z"
      },
      "source": [
        "**ANSWER**\n",
        "\n",
        "- The best Test RMSE is for the 15 hidden nodes\n",
        "- 50 Hidden nodes performs better on the train RMSE but almost similar to the 5 hidden nodes test RMSE.\n",
        "- Overfitting may have played a role in the 50 Hidden nodes MLP model"
      ]
    },
    {
      "cell_type": "markdown",
      "metadata": {
        "id": "4T4Uida7X7Qz"
      },
      "source": [
        "### 2) (5pts) MLPRegressor has a built-in attribute loss_curve_ which returns the loss at each epoch (misleadingly referred to as \"iteration\" in scikit documentation, though they use epoch in the actual code!). For example, if your model is named as my_model you can call it as my_model.loss_curve_ (example). Plot three curves using the following three conditions (a, b, c) in one figure, where X-axis is epoch number and Y-axis is squared root of loss_curve_:\n",
        "\n",
        "(a) hidden_layer_sizes = (5,)\n",
        "\n",
        "(b) hidden_layer_sizes = (15,)\n",
        "\n",
        "(c) hidden_layer_sizes = (50,)"
      ]
    },
    {
      "cell_type": "code",
      "metadata": {
        "id": "F2Xs-nzrX91N",
        "outputId": "f26a96c5-a64b-4261-ad22-dcb9a475d882",
        "colab": {
          "base_uri": "https://localhost:8080/",
          "height": 512
        }
      },
      "source": [
        "# hidden layer size list\n",
        "hidden_layer_size_list = [(5,), (15,), (50,)]\n",
        "\n",
        "plt.figure(figsize = (12,8))\n",
        "\n",
        "# fit the model\n",
        "for size in hidden_layer_size_list:\n",
        "    mlp_model = MLPRegressor(activation = 'tanh', solver = 'sgd', learning_rate = 'constant', \n",
        "                             random_state = 42, batch_size = 20, learning_rate_init = 0.005, \n",
        "                             hidden_layer_sizes = size)\n",
        "    \n",
        "    mlp_model.fit(X_train_scaled, y_train)\n",
        "    plot_label = \"Size:\" + str(size)\n",
        "    \n",
        "    plt.plot(np.sqrt(mlp_model.loss_curve_), label = plot_label)\n",
        "    plt.legend(loc = 'best')\n",
        "    plt.title(\"Loss Curve with Epoch\")\n",
        "    plt.ylabel(\"Square root of Loss Curve\")\n",
        "    plt.xlabel(\"Epoch Number\")\n"
      ],
      "execution_count": null,
      "outputs": [
        {
          "output_type": "display_data",
          "data": {
            "image/png": "[encoded data removed]",
            "text/plain": [
              "<Figure size 864x576 with 1 Axes>"
            ]
          },
          "metadata": {
            "tags": [],
            "needs_background": "light"
          }
        }
      ]
    },
    {
      "cell_type": "markdown",
      "metadata": {
        "id": "eiunooz_J7xJ"
      },
      "source": [
        "### 3) (5pts) Now, use the parameters for MLP Regressor as below to train a MLPRegressor models on the entire training set for different batch size.\n",
        "Compare the three plots obtained comment on the gradient updates. What do you understand about the difference between batch_size = 1, 20 and 2000.\n",
        "\n",
        "\n"
      ]
    },
    {
      "cell_type": "code",
      "metadata": {
        "id": "LvFx2AjxKLjk",
        "outputId": "693fb35b-c12c-486f-86bf-203537bfed13",
        "colab": {
          "base_uri": "https://localhost:8080/",
          "height": 52
        }
      },
      "source": [
        "# 15 hidden nodes and Batch size 1\n",
        "MLP15B1 = MLPRegressor(hidden_layer_sizes = (15,), activation = 'tanh', solver = 'sgd', learning_rate = 'constant',\\\n",
        "                        random_state = 42, batch_size = 1, learning_rate_init= 0.005).fit(X_train_scaled, y_train)\n",
        "\n",
        "MLP_15B1_pred_train = MLP15B1.predict(X_train_scaled)\n",
        "MLP_15B1_pred_test = MLP15B1.predict(X_test_scaled)\n",
        "\n",
        "MLP_15B1_RMSE_train = np.sqrt(mean_squared_error(y_train, MLP_15B1_pred_train))\n",
        "MLP_15B1_RMSE_test = np.sqrt(mean_squared_error(y_test, MLP_15B1_pred_test))\n",
        "\n",
        "print('Train RMSE for 15 nodes & 1 Batch Size : {}\\nTest RMSE & 1 Batch Size: {}'.format(MLP_15B1_RMSE_train, MLP_15B1_RMSE_test))"
      ],
      "execution_count": null,
      "outputs": [
        {
          "output_type": "stream",
          "text": [
            "Train RMSE for 15 nodes & 1 Batch Size : 5.1184559830915\n",
            "Test RMSE & 1 Batch Size: 6.502712686422412\n"
          ],
          "name": "stdout"
        }
      ]
    },
    {
      "cell_type": "code",
      "metadata": {
        "id": "TpJE0SW8J2NU",
        "outputId": "f66ac777-b1cb-4fed-f4e6-f47d5ae0c5d9",
        "colab": {
          "base_uri": "https://localhost:8080/",
          "height": 52
        }
      },
      "source": [
        "# 15 hidden nodes and Batch size 20\n",
        "MLP15B20 = MLPRegressor(hidden_layer_sizes = (15,), activation = 'tanh', solver = 'sgd', learning_rate = 'constant',\\\n",
        "                        random_state = 42, batch_size = 20, learning_rate_init= 0.005).fit(X_train_scaled, y_train)\n",
        "\n",
        "MLP_15B20_pred_train = MLP15B20.predict(X_train_scaled) \n",
        "MLP_15B20_pred_test = MLP15B20.predict(X_test_scaled)\n",
        "\n",
        "MLP_15B20_RMSE_train = np.sqrt(mean_squared_error(y_train, MLP_15B20_pred_train))\n",
        "MLP_15B20_RMSE_test = np.sqrt(mean_squared_error(y_test, MLP_15B20_pred_test))\n",
        "\n",
        "print('Train RMSE for 15 nodes & 20 Batch Size : {}\\nTest RMSE & 20 Batch Size : {}'.format(MLP_15B20_RMSE_train, MLP_15B20_RMSE_test))"
      ],
      "execution_count": null,
      "outputs": [
        {
          "output_type": "stream",
          "text": [
            "Train RMSE for 15 nodes & 20 Batch Size : 3.0199130137125887\n",
            "Test RMSE & 20 Batch Size : 4.5517066936252295\n"
          ],
          "name": "stdout"
        }
      ]
    },
    {
      "cell_type": "code",
      "metadata": {
        "id": "BgpMw28oKQql",
        "outputId": "09fa1981-e420-4356-af75-e6c700e56a71",
        "colab": {
          "base_uri": "https://localhost:8080/",
          "height": 107
        }
      },
      "source": [
        "# 15 hidden nodes and Batch size 2000\n",
        "MLP15B2000 = MLPRegressor(hidden_layer_sizes = (15,), activation = 'tanh', solver = 'sgd', learning_rate = 'constant',\\\n",
        "                        random_state = 42, batch_size = 2000, learning_rate_init= 0.005).fit(X_train_scaled, y_train)\n",
        "\n",
        "MLP_15B2000_pred_train = MLP15B2000.predict(X_train_scaled)\n",
        "MLP_15B2000_pred_test = MLP15B2000.predict(X_test_scaled)\n",
        "\n",
        "MLP_15B2000_RMSE_train = np.sqrt(mean_squared_error(y_train, MLP_15B2000_pred_train))\n",
        "MLP_15B2000_RMSE_test = np.sqrt(mean_squared_error(y_test, MLP_15B2000_pred_test))\n",
        "\n",
        "print('Train RMSE for 15 nodes : {}\\nTest RMSE : {}'.format(MLP_15B2000_RMSE_train, MLP_15B2000_RMSE_test))"
      ],
      "execution_count": null,
      "outputs": [
        {
          "output_type": "stream",
          "text": [
            "Train RMSE for 15 nodes : 4.691211182968425\n",
            "Test RMSE : 5.720074226959563\n"
          ],
          "name": "stdout"
        },
        {
          "output_type": "stream",
          "text": [
            "/usr/local/lib/python3.6/dist-packages/sklearn/neural_network/_multilayer_perceptron.py:352: UserWarning: Got `batch_size` less than 1 or larger than sample size. It is going to be clipped\n",
            "  warnings.warn(\"Got `batch_size` less than 1 or larger than \"\n"
          ],
          "name": "stderr"
        }
      ]
    },
    {
      "cell_type": "markdown",
      "metadata": {
        "id": "N-jLUGHdWBSk"
      },
      "source": [
        "Plotting the loss curves with 3 different batch sizes"
      ]
    },
    {
      "cell_type": "code",
      "metadata": {
        "id": "idLRoKooVAXb",
        "outputId": "f4059b4b-ebf0-485d-dc31-879b5e96089a",
        "colab": {
          "base_uri": "https://localhost:8080/",
          "height": 676
        }
      },
      "source": [
        "# Batches size list\n",
        "batches_size_list = [(1), (20), (2000)]\n",
        "\n",
        "plt.figure(figsize = (10,10))\n",
        "\n",
        "# fit the model\n",
        "for size in batches_size_list:\n",
        "    mlp_model = MLPRegressor(activation = 'tanh', solver = 'sgd', learning_rate = 'constant', \n",
        "                             random_state = 42, batch_size = size, learning_rate_init = 0.005, \n",
        "                             hidden_layer_sizes = 15)\n",
        "    \n",
        "    mlp_model.fit(X_train_scaled, y_train)\n",
        "    plot_label = \"Size:\" + str(size)\n",
        "    \n",
        "    x = plt.plot(np.sqrt(mlp_model.loss_curve_), label = plot_label)\n",
        "    plt.legend(loc = 'best')\n",
        "    plt.title(\"Loss Curve with Epoch\")\n",
        "    plt.ylabel(\"Square root of Loss Curve\")\n",
        "    plt.xlabel(\"Epoch Number\")\n",
        "    plt.autoscale(enable=True, axis='both', tight=False)\n",
        "    #plt.xscale(40)"
      ],
      "execution_count": null,
      "outputs": [
        {
          "output_type": "stream",
          "text": [
            "/usr/local/lib/python3.6/dist-packages/sklearn/neural_network/_multilayer_perceptron.py:352: UserWarning: Got `batch_size` less than 1 or larger than sample size. It is going to be clipped\n",
            "  warnings.warn(\"Got `batch_size` less than 1 or larger than \"\n"
          ],
          "name": "stderr"
        },
        {
          "output_type": "display_data",
          "data": {
            "image/png": "[encoded data removed]",
            "text/plain": [
              "<Figure size 720x720 with 1 Axes>"
            ]
          },
          "metadata": {
            "tags": [],
            "needs_background": "light"
          }
        }
      ]
    },
    {
      "cell_type": "markdown",
      "metadata": {
        "id": "TrJWYOJnWKm6"
      },
      "source": [
        "**ANSWER**\n",
        "\n",
        "- Batch size represents the total number of training examples present in a single batch. A large batch size can be used to allower faster processing speeds for the model. A smaller batch boucnes around before reaching towards the global optimal value compared ot a large batch size which can reach there faster but can lead to generalizing but it could vary on the quality of how good the generalization will be.\n",
        "\n",
        "batch size 1: SGD ; batch size 2: mini-batch ; batch size: 2000 is very large.\n",
        "\n"
      ]
    },
    {
      "cell_type": "markdown",
      "metadata": {
        "id": "cMpmtpyDV_tP"
      },
      "source": [
        "# Question 2: Tensor Playground (15 points)\n",
        "Visit https://playground.tensorflow.org for this problem\n",
        "\n",
        "From the far right, select \"Classification\" as the problem type, and select the data set on the top right (alternate colored squares).\n",
        "\n",
        "Use these settings as the DEFAULT settings for all subquestions: test/training ratio = 50%, Noise = 0, Batch Size = 30, learning rate = 0.03, activation = tanh, one hidden layer with 2 neurons, input as $X_1$, $X_2$ and no Regularization.\n",
        "\n",
        "1) Use the DEFAULT setting and run two experiments - one using Tanh as the activation function and one using the linear activation function. Report the train, test losses for both these experiments at the end of 1000 epochs. What qualitative difference do you observe in the decision boundaries obtained? Why? (**4 pts**)\n",
        "\n",
        "We will now study the effect of certain variations in the network structure or training, keeping all other aspects the same as in the default configuration specified above, and with tanh as the activation for hidden units.\n",
        "\n",
        "2) Effect of number of hidden units: Go back to DEFAULT settings and report the train, test losses at the end of 1000 epochs for 4 and 8 neurons in the hidden layer (2 pairs of results). What do you observe regarding the decision boundary as the number of neurons increases? Why? (**4 pts**)\n",
        "\n",
        "3) Effect of learning rate and number of epochs: Go back to DEFAULT settings and set the activation to be Relu and have four neurons in the hidden layer. Report the train, test losses at the end of 100 epochs and 1000 epochs for learning rates of 10, 0.1, 0.01 and 0.001 (8 pairs of results). What do you observe in the loss curves? Explain. (**4 pts**)\n",
        "\n",
        "4) Go back to DEFAULT settings. Play around with any of the other hyperparameters, network architectures and input features (such as $\\sin(X_1), X_1^2$ etc.) and report the best train/test loss you could get (test loss should be at most 0.06). Attach the screenshot from Tensor playground for the same (show your full network, output and parameters). Briefly justify your decisions, and comment on difficulties/tradeoffs, what helps/what doesn't,etc. (**3 pts**)"
      ]
    },
    {
      "cell_type": "markdown",
      "metadata": {
        "id": "7Yq041GCV_tQ"
      },
      "source": [
        "# Answer 2"
      ]
    },
    {
      "cell_type": "markdown",
      "metadata": {
        "id": "y92aCNe77N_-"
      },
      "source": [
        "## Part 1\n",
        "\n",
        "Tanh Test loss: 0.152\n",
        "\n",
        "Tanh Training loss: 0.160\n",
        "\n",
        "Linear Test loss: 0.492\n",
        "\n",
        "Linear Training loss: 0.488\n",
        "\n",
        "The decision boundary of the tanh function changes shape more drastically and eventually stabilizes as a stretched out parabola that classifies points within the two boundaries as one class and those on the outside as the other. The linear function simply rotates a single linear decision boundary that runs through the clusters and can't do much better than a 50/50 split of the points. This occurs because, by definition, nonlinear transformation functions, like tanh, must be used to create nonlinear decision boundaries since a linear transformation results in an output that is ultimately a linear combination."
      ]
    },
    {
      "cell_type": "markdown",
      "metadata": {
        "id": "Pim71J4T9hH8"
      },
      "source": [
        "## Part 2\n",
        "\n",
        "4 Neuron Test loss: 0.022\n",
        "\n",
        "4 Neuron Training: loss 0.015\n",
        "\n",
        "8 Neuron Test loss: 0.016\n",
        "\n",
        "8 Neuron Training: loss 0.008\n",
        "\n",
        "As the number of neurons increase, the decision boundary starts to become more flexible — from a cross shape with 4 neurons to more distinct boundaries that completely separate from one another using 8 neurons. This is because adding more neurons increases complexity of the model which makes it more sensitive when fitting training data points. As a result, the 8 neuron model could classify with more certainty, the points in the middle of the squares in an hourglass shape."
      ]
    },
    {
      "cell_type": "markdown",
      "metadata": {
        "id": "K5g8rrsW9lHV"
      },
      "source": [
        "## Part 3\n",
        "\n",
        "Learning Rate = 10:\n",
        "\n",
        "*  100 epochs:\n",
        " *  Train Loss: 0.568\n",
        " *  Test Loss: 0.545\n",
        "\n",
        "* 1000 epochs:\n",
        " * Train Loss: 0.568\n",
        " * Test Loss: 0.544\n",
        "\n",
        "Learning Rate = 0.1:\n",
        "\n",
        "*  100 epochs:\n",
        " *  Train Loss: 0.004\n",
        " *  Test Loss: 0.007\n",
        "\n",
        "*  1000 epochs:\n",
        " *  Train Loss: 0.000\n",
        " *  Test Loss: 0.001\n",
        "\n",
        "Learning Rate = 0.01:\n",
        "\n",
        "*  100 epochs:\n",
        " *  Train Loss: 0.091\n",
        " *  Test Loss: 0.104\n",
        "\n",
        "*  1000 epochs:\n",
        " *  Train Loss: 0.008\n",
        " *  Test Loss: 0.027\n",
        "\n",
        "Learning Rate = 0.001\n",
        "\n",
        "* 100 epochs:\n",
        " *  Train Loss: 0.337\n",
        " *  Test Loss: 0.349\n",
        "\n",
        "* 1000 epochs:\n",
        " * Train Loss: 0.097\n",
        " * Test Loss: 0.099\n",
        "\n",
        "The loss curves for the models at each of the learning rates were steepest within the first 100 epochs. Further, besides for learning rate = 10, the loss continuously decreased throughout the 1,000 epochs. However, for learning rate = 10, the loss increased sharply at first and then stabilized completely. This behavior for learning rate = 10 is likely because the model would initially diverge by overshooting the local minima when updating the weights, whereas the behavior of the model with the other learning rate was increasingly more gradual as the learning rate decreased. Thus, with decreasing learning rate, the function converged slower, but was less likely to diverge from a local minimum."
      ]
    },
    {
      "cell_type": "markdown",
      "metadata": {
        "id": "117W5usv9n6_"
      },
      "source": [
        "## Part 4\n",
        "The model used consisted of 1 hidden layer, 3 features (X1, X2, X1X2), and tanh as the activation function. The input function X1X2 was chosen since X1 and X2 are clearly dependent and multicollinear in nature upon visual inspection of the data. However, including the features X1 and X2 independently can also account for some test points of a particular class that might lie very close to a cluster of a different class. A tanh activation was used since it is a versatile nonlinear activation and the learning rate was kept at 0.03 because increasing it beyond this point would either result in a higher test loss or cause the model to diverge by 1,000 epochs. The drawbacks of this particular model is are that it might take a relatively long time to converge depeding on the number of data points and because it only uses a single hidden layer, it may not be sufficient for more complex data sets since the model itself is not very flexible with a limited number of hyperparameters. On the other hand, it is very unlikely to overfit."
      ]
    },
    {
      "cell_type": "code",
      "metadata": {
        "id": "Co6nnz0Y6JMy",
        "outputId": "c9ddb3fa-5fa1-4c2d-b2c3-e16f66eeeb12",
        "colab": {
          "base_uri": "https://localhost:8080/",
          "height": 541
        }
      },
      "source": [
        "from IPython.display import Image\n",
        "Image(filename = \"tensor_flow.PNG\")"
      ],
      "execution_count": null,
      "outputs": [
        {
          "output_type": "execute_result",
          "data": {
            "image/png": "[encoded data removed]",
            "text/plain": [
              "<IPython.core.display.Image object>"
            ]
          },
          "metadata": {
            "tags": []
          },
          "execution_count": 32
        }
      ]
    },
    {
      "cell_type": "markdown",
      "metadata": {
        "id": "6uZzEVlWV_tT"
      },
      "source": [
        "# Question 3 - Feature Selection (20 pts)\n",
        "\n",
        "In this question, we will explore the importance of feature selection, You can use the below code to load the dataset \"zoo.csv\". This dataset contains a set of features for different animals and the output is class_type \n",
        "corresponding to the features. The details of class_type is present in class.csv for your reference.\n",
        "\n",
        "1. Plot the correlation matrix. The resulting correlation plot should be (n_features * n_features) matrix. List the top 5 most positively correlated features with class_type. (**3pts**)\n",
        "\n",
        "2. List the top 5 most negatively correlated features with class_type. (**3pts**)\n",
        "\n",
        "3. Use https://scikit-learn.org/stable/modules/generated/sklearn.feature_selection.RFE.html#sklearn.feature_selection.RFE to perform feature selection with estimator = LogisticRegression(max_iter=1000) estimator. List the top 5 features selected from RFE.(**2pts**)\n",
        "\n",
        "* Create a train_test split of 80:20(train:test) with random state = 50\n",
        "\n",
        "* We need to use [StandardScaler](http://scikit-learn.org/stable/modules/generated/sklearn.preprocessing.StandardScaler.html). Instead of fitting a model on the original data, we use StandardScaler to center each feature ([Example](http://scikit-learn.org/stable/auto_examples/applications/plot_prediction_latency.html#sphx-glr-auto-examples-applications-plot-prediction-latency-py)). Also remember that when we have training and testing data, we fit preprocessing parameters on training data and apply them to all testing data. You should scale only the features (independent variables), not the target variable y.\n",
        "\n",
        "4. Train a MLP Regressor with train data and report the ${R^2}$ score on the test set for each of the following, \n",
        "\n",
        "   a) Model trained with top 5 most positvely correlated features from part 1\n",
        "   \n",
        "   b) Model trained with top 5 most negatively correlated features from part 2\n",
        "   \n",
        "   c) Model trained with five features selected by RFE from part 3\n",
        "   \n",
        "   d) Finally train a MLP Regressor on the entire training data with the entire orignal features.Use the default values for MLPRegressor as below(**8pts**)\n",
        "\n",
        "    MLPRegressor(max_iter = 1000,random_state=1)\n",
        "\n",
        "5. Explain your results based on your understanding of feature selection and the ${R^2}$ score.  (**4pts**) "
      ]
    },
    {
      "cell_type": "code",
      "metadata": {
        "id": "rDnP_CfeV_tT"
      },
      "source": [
        "df = pd.read_csv(\"zoo.csv\")\n",
        "df.columns\n",
        "y = df['class_type'].values\n",
        "X = df.drop(['class_type','animal_name'], axis = 1)\n",
        "\n",
        "class_df = pd.read_csv(\"class.csv\")"
      ],
      "execution_count": null,
      "outputs": []
    },
    {
      "cell_type": "markdown",
      "metadata": {
        "id": "sygCVECmV_tY"
      },
      "source": [
        "# Answer 3"
      ]
    },
    {
      "cell_type": "markdown",
      "metadata": {
        "id": "6IqsSupCZrhJ"
      },
      "source": [
        "## Part 1"
      ]
    },
    {
      "cell_type": "code",
      "metadata": {
        "id": "S5cQ9_gyV_tZ"
      },
      "source": [
        "# group categories into 2 meta-classes\n",
        "def meta_class(class_type):\n",
        "    if class_type in [1,2,3,4,5]:\n",
        "        return 1\n",
        "    else:\n",
        "        return 0\n",
        "\n",
        "df_ETA = df.copy(deep=True)\n",
        "df_ETA['class_type'] = df['class_type'].map(meta_class)"
      ],
      "execution_count": null,
      "outputs": []
    },
    {
      "cell_type": "code",
      "metadata": {
        "id": "2vwZicbk2608",
        "outputId": "4982361c-4265-4869-9bb9-d091e5d38755",
        "colab": {
          "base_uri": "https://localhost:8080/",
          "height": 570
        }
      },
      "source": [
        "# create corrplot\n",
        "corr_plot = df_ETA.set_index('animal_name').corr()\n",
        "corr_plot"
      ],
      "execution_count": null,
      "outputs": [
        {
          "output_type": "execute_result",
          "data": {
            "text/html": [
              "<div>\n",
              "<style scoped>\n",
              "    .dataframe tbody tr th:only-of-type {\n",
              "        vertical-align: middle;\n",
              "    }\n",
              "\n",
              "    .dataframe tbody tr th {\n",
              "        vertical-align: top;\n",
              "    }\n",
              "\n",
              "    .dataframe thead th {\n",
              "        text-align: right;\n",
              "    }\n",
              "</style>\n",
              "<table border=\"1\" class=\"dataframe\">\n",
              "  <thead>\n",
              "    <tr style=\"text-align: right;\">\n",
              "      <th></th>\n",
              "      <th>hair</th>\n",
              "      <th>feathers</th>\n",
              "      <th>eggs</th>\n",
              "      <th>milk</th>\n",
              "      <th>airborne</th>\n",
              "      <th>aquatic</th>\n",
              "      <th>predator</th>\n",
              "      <th>toothed</th>\n",
              "      <th>backbone</th>\n",
              "      <th>breathes</th>\n",
              "      <th>venomous</th>\n",
              "      <th>fins</th>\n",
              "      <th>legs</th>\n",
              "      <th>tail</th>\n",
              "      <th>domestic</th>\n",
              "      <th>catsize</th>\n",
              "      <th>class_type</th>\n",
              "    </tr>\n",
              "  </thead>\n",
              "  <tbody>\n",
              "    <tr>\n",
              "      <th>hair</th>\n",
              "      <td>1.000000</td>\n",
              "      <td>-0.427851</td>\n",
              "      <td>-0.817382</td>\n",
              "      <td>0.878503</td>\n",
              "      <td>-0.198431</td>\n",
              "      <td>-0.473554</td>\n",
              "      <td>-0.154769</td>\n",
              "      <td>0.492531</td>\n",
              "      <td>0.191681</td>\n",
              "      <td>0.441149</td>\n",
              "      <td>-0.104245</td>\n",
              "      <td>-0.280313</td>\n",
              "      <td>0.394009</td>\n",
              "      <td>0.048973</td>\n",
              "      <td>0.207208</td>\n",
              "      <td>0.455020</td>\n",
              "      <td>0.191681</td>\n",
              "    </tr>\n",
              "    <tr>\n",
              "      <th>feathers</th>\n",
              "      <td>-0.427851</td>\n",
              "      <td>1.000000</td>\n",
              "      <td>0.419248</td>\n",
              "      <td>-0.410761</td>\n",
              "      <td>0.656553</td>\n",
              "      <td>-0.058552</td>\n",
              "      <td>-0.104430</td>\n",
              "      <td>-0.613631</td>\n",
              "      <td>0.231403</td>\n",
              "      <td>0.254588</td>\n",
              "      <td>-0.145739</td>\n",
              "      <td>-0.223541</td>\n",
              "      <td>-0.206686</td>\n",
              "      <td>0.292569</td>\n",
              "      <td>0.031586</td>\n",
              "      <td>-0.135934</td>\n",
              "      <td>0.231403</td>\n",
              "    </tr>\n",
              "    <tr>\n",
              "      <th>eggs</th>\n",
              "      <td>-0.817382</td>\n",
              "      <td>0.419248</td>\n",
              "      <td>1.000000</td>\n",
              "      <td>-0.938848</td>\n",
              "      <td>0.376646</td>\n",
              "      <td>0.376244</td>\n",
              "      <td>0.011605</td>\n",
              "      <td>-0.642150</td>\n",
              "      <td>-0.340420</td>\n",
              "      <td>-0.382777</td>\n",
              "      <td>0.098689</td>\n",
              "      <td>0.164796</td>\n",
              "      <td>-0.224918</td>\n",
              "      <td>-0.221090</td>\n",
              "      <td>-0.155610</td>\n",
              "      <td>-0.514650</td>\n",
              "      <td>-0.340420</td>\n",
              "    </tr>\n",
              "    <tr>\n",
              "      <th>milk</th>\n",
              "      <td>0.878503</td>\n",
              "      <td>-0.410761</td>\n",
              "      <td>-0.938848</td>\n",
              "      <td>1.000000</td>\n",
              "      <td>-0.366765</td>\n",
              "      <td>-0.362613</td>\n",
              "      <td>-0.029721</td>\n",
              "      <td>0.628168</td>\n",
              "      <td>0.384958</td>\n",
              "      <td>0.423527</td>\n",
              "      <td>-0.242449</td>\n",
              "      <td>-0.156328</td>\n",
              "      <td>0.214196</td>\n",
              "      <td>0.210026</td>\n",
              "      <td>0.163928</td>\n",
              "      <td>0.574906</td>\n",
              "      <td>0.384958</td>\n",
              "    </tr>\n",
              "    <tr>\n",
              "      <th>airborne</th>\n",
              "      <td>-0.198431</td>\n",
              "      <td>0.656553</td>\n",
              "      <td>0.376646</td>\n",
              "      <td>-0.366765</td>\n",
              "      <td>1.000000</td>\n",
              "      <td>-0.172638</td>\n",
              "      <td>-0.295181</td>\n",
              "      <td>-0.594311</td>\n",
              "      <td>-0.104718</td>\n",
              "      <td>0.286039</td>\n",
              "      <td>0.008528</td>\n",
              "      <td>-0.251157</td>\n",
              "      <td>0.043712</td>\n",
              "      <td>0.009482</td>\n",
              "      <td>0.063274</td>\n",
              "      <td>-0.349768</td>\n",
              "      <td>-0.104718</td>\n",
              "    </tr>\n",
              "    <tr>\n",
              "      <th>aquatic</th>\n",
              "      <td>-0.473554</td>\n",
              "      <td>-0.058552</td>\n",
              "      <td>0.376244</td>\n",
              "      <td>-0.362613</td>\n",
              "      <td>-0.172638</td>\n",
              "      <td>1.000000</td>\n",
              "      <td>0.375978</td>\n",
              "      <td>0.053150</td>\n",
              "      <td>0.022463</td>\n",
              "      <td>-0.637506</td>\n",
              "      <td>0.087915</td>\n",
              "      <td>0.604492</td>\n",
              "      <td>-0.360638</td>\n",
              "      <td>-0.034642</td>\n",
              "      <td>-0.224308</td>\n",
              "      <td>-0.111866</td>\n",
              "      <td>0.022463</td>\n",
              "    </tr>\n",
              "    <tr>\n",
              "      <th>predator</th>\n",
              "      <td>-0.154769</td>\n",
              "      <td>-0.104430</td>\n",
              "      <td>0.011605</td>\n",
              "      <td>-0.029721</td>\n",
              "      <td>-0.295181</td>\n",
              "      <td>0.375978</td>\n",
              "      <td>1.000000</td>\n",
              "      <td>0.129452</td>\n",
              "      <td>0.051022</td>\n",
              "      <td>-0.262931</td>\n",
              "      <td>0.115391</td>\n",
              "      <td>0.190302</td>\n",
              "      <td>-0.099723</td>\n",
              "      <td>0.018947</td>\n",
              "      <td>-0.309794</td>\n",
              "      <td>0.144790</td>\n",
              "      <td>0.051022</td>\n",
              "    </tr>\n",
              "    <tr>\n",
              "      <th>toothed</th>\n",
              "      <td>0.492531</td>\n",
              "      <td>-0.613631</td>\n",
              "      <td>-0.642150</td>\n",
              "      <td>0.628168</td>\n",
              "      <td>-0.594311</td>\n",
              "      <td>0.053150</td>\n",
              "      <td>0.129452</td>\n",
              "      <td>1.000000</td>\n",
              "      <td>0.575085</td>\n",
              "      <td>-0.065690</td>\n",
              "      <td>-0.062344</td>\n",
              "      <td>0.364292</td>\n",
              "      <td>-0.193476</td>\n",
              "      <td>0.310368</td>\n",
              "      <td>0.069430</td>\n",
              "      <td>0.344010</td>\n",
              "      <td>0.575085</td>\n",
              "    </tr>\n",
              "    <tr>\n",
              "      <th>backbone</th>\n",
              "      <td>0.191681</td>\n",
              "      <td>0.231403</td>\n",
              "      <td>-0.340420</td>\n",
              "      <td>0.384958</td>\n",
              "      <td>-0.104718</td>\n",
              "      <td>0.022463</td>\n",
              "      <td>0.051022</td>\n",
              "      <td>0.575085</td>\n",
              "      <td>1.000000</td>\n",
              "      <td>0.207666</td>\n",
              "      <td>-0.246611</td>\n",
              "      <td>0.209499</td>\n",
              "      <td>-0.432856</td>\n",
              "      <td>0.731762</td>\n",
              "      <td>0.101733</td>\n",
              "      <td>0.356976</td>\n",
              "      <td>1.000000</td>\n",
              "    </tr>\n",
              "    <tr>\n",
              "      <th>breathes</th>\n",
              "      <td>0.441149</td>\n",
              "      <td>0.254588</td>\n",
              "      <td>-0.382777</td>\n",
              "      <td>0.423527</td>\n",
              "      <td>0.286039</td>\n",
              "      <td>-0.637506</td>\n",
              "      <td>-0.262931</td>\n",
              "      <td>-0.065690</td>\n",
              "      <td>0.207666</td>\n",
              "      <td>1.000000</td>\n",
              "      <td>-0.120752</td>\n",
              "      <td>-0.617219</td>\n",
              "      <td>0.369868</td>\n",
              "      <td>0.088952</td>\n",
              "      <td>0.124068</td>\n",
              "      <td>0.204125</td>\n",
              "      <td>0.207666</td>\n",
              "    </tr>\n",
              "    <tr>\n",
              "      <th>venomous</th>\n",
              "      <td>-0.104245</td>\n",
              "      <td>-0.145739</td>\n",
              "      <td>0.098689</td>\n",
              "      <td>-0.242449</td>\n",
              "      <td>0.008528</td>\n",
              "      <td>0.087915</td>\n",
              "      <td>0.115391</td>\n",
              "      <td>-0.062344</td>\n",
              "      <td>-0.246611</td>\n",
              "      <td>-0.120752</td>\n",
              "      <td>1.000000</td>\n",
              "      <td>-0.033956</td>\n",
              "      <td>0.022964</td>\n",
              "      <td>-0.162724</td>\n",
              "      <td>-0.003252</td>\n",
              "      <td>-0.183748</td>\n",
              "      <td>-0.246611</td>\n",
              "    </tr>\n",
              "    <tr>\n",
              "      <th>fins</th>\n",
              "      <td>-0.280313</td>\n",
              "      <td>-0.223541</td>\n",
              "      <td>0.164796</td>\n",
              "      <td>-0.156328</td>\n",
              "      <td>-0.251157</td>\n",
              "      <td>0.604492</td>\n",
              "      <td>0.190302</td>\n",
              "      <td>0.364292</td>\n",
              "      <td>0.209499</td>\n",
              "      <td>-0.617219</td>\n",
              "      <td>-0.033956</td>\n",
              "      <td>1.000000</td>\n",
              "      <td>-0.605652</td>\n",
              "      <td>0.204349</td>\n",
              "      <td>-0.093887</td>\n",
              "      <td>0.031705</td>\n",
              "      <td>0.209499</td>\n",
              "    </tr>\n",
              "    <tr>\n",
              "      <th>legs</th>\n",
              "      <td>0.394009</td>\n",
              "      <td>-0.206686</td>\n",
              "      <td>-0.224918</td>\n",
              "      <td>0.214196</td>\n",
              "      <td>0.043712</td>\n",
              "      <td>-0.360638</td>\n",
              "      <td>-0.099723</td>\n",
              "      <td>-0.193476</td>\n",
              "      <td>-0.432856</td>\n",
              "      <td>0.369868</td>\n",
              "      <td>0.022964</td>\n",
              "      <td>-0.605652</td>\n",
              "      <td>1.000000</td>\n",
              "      <td>-0.348295</td>\n",
              "      <td>0.073931</td>\n",
              "      <td>0.068791</td>\n",
              "      <td>-0.432856</td>\n",
              "    </tr>\n",
              "    <tr>\n",
              "      <th>tail</th>\n",
              "      <td>0.048973</td>\n",
              "      <td>0.292569</td>\n",
              "      <td>-0.221090</td>\n",
              "      <td>0.210026</td>\n",
              "      <td>0.009482</td>\n",
              "      <td>-0.034642</td>\n",
              "      <td>0.018947</td>\n",
              "      <td>0.310368</td>\n",
              "      <td>0.731762</td>\n",
              "      <td>0.088952</td>\n",
              "      <td>-0.162724</td>\n",
              "      <td>0.204349</td>\n",
              "      <td>-0.348295</td>\n",
              "      <td>1.000000</td>\n",
              "      <td>0.023434</td>\n",
              "      <td>0.243277</td>\n",
              "      <td>0.731762</td>\n",
              "    </tr>\n",
              "    <tr>\n",
              "      <th>domestic</th>\n",
              "      <td>0.207208</td>\n",
              "      <td>0.031586</td>\n",
              "      <td>-0.155610</td>\n",
              "      <td>0.163928</td>\n",
              "      <td>0.063274</td>\n",
              "      <td>-0.224308</td>\n",
              "      <td>-0.309794</td>\n",
              "      <td>0.069430</td>\n",
              "      <td>0.101733</td>\n",
              "      <td>0.124068</td>\n",
              "      <td>-0.003252</td>\n",
              "      <td>-0.093887</td>\n",
              "      <td>0.073931</td>\n",
              "      <td>0.023434</td>\n",
              "      <td>1.000000</td>\n",
              "      <td>0.020073</td>\n",
              "      <td>0.101733</td>\n",
              "    </tr>\n",
              "    <tr>\n",
              "      <th>catsize</th>\n",
              "      <td>0.455020</td>\n",
              "      <td>-0.135934</td>\n",
              "      <td>-0.514650</td>\n",
              "      <td>0.574906</td>\n",
              "      <td>-0.349768</td>\n",
              "      <td>-0.111866</td>\n",
              "      <td>0.144790</td>\n",
              "      <td>0.344010</td>\n",
              "      <td>0.356976</td>\n",
              "      <td>0.204125</td>\n",
              "      <td>-0.183748</td>\n",
              "      <td>0.031705</td>\n",
              "      <td>0.068791</td>\n",
              "      <td>0.243277</td>\n",
              "      <td>0.020073</td>\n",
              "      <td>1.000000</td>\n",
              "      <td>0.356976</td>\n",
              "    </tr>\n",
              "    <tr>\n",
              "      <th>class_type</th>\n",
              "      <td>0.191681</td>\n",
              "      <td>0.231403</td>\n",
              "      <td>-0.340420</td>\n",
              "      <td>0.384958</td>\n",
              "      <td>-0.104718</td>\n",
              "      <td>0.022463</td>\n",
              "      <td>0.051022</td>\n",
              "      <td>0.575085</td>\n",
              "      <td>1.000000</td>\n",
              "      <td>0.207666</td>\n",
              "      <td>-0.246611</td>\n",
              "      <td>0.209499</td>\n",
              "      <td>-0.432856</td>\n",
              "      <td>0.731762</td>\n",
              "      <td>0.101733</td>\n",
              "      <td>0.356976</td>\n",
              "      <td>1.000000</td>\n",
              "    </tr>\n",
              "  </tbody>\n",
              "</table>\n",
              "</div>"
            ],
            "text/plain": [
              "                hair  feathers      eggs  ...  domestic   catsize  class_type\n",
              "hair        1.000000 -0.427851 -0.817382  ...  0.207208  0.455020    0.191681\n",
              "feathers   -0.427851  1.000000  0.419248  ...  0.031586 -0.135934    0.231403\n",
              "eggs       -0.817382  0.419248  1.000000  ... -0.155610 -0.514650   -0.340420\n",
              "milk        0.878503 -0.410761 -0.938848  ...  0.163928  0.574906    0.384958\n",
              "airborne   -0.198431  0.656553  0.376646  ...  0.063274 -0.349768   -0.104718\n",
              "aquatic    -0.473554 -0.058552  0.376244  ... -0.224308 -0.111866    0.022463\n",
              "predator   -0.154769 -0.104430  0.011605  ... -0.309794  0.144790    0.051022\n",
              "toothed     0.492531 -0.613631 -0.642150  ...  0.069430  0.344010    0.575085\n",
              "backbone    0.191681  0.231403 -0.340420  ...  0.101733  0.356976    1.000000\n",
              "breathes    0.441149  0.254588 -0.382777  ...  0.124068  0.204125    0.207666\n",
              "venomous   -0.104245 -0.145739  0.098689  ... -0.003252 -0.183748   -0.246611\n",
              "fins       -0.280313 -0.223541  0.164796  ... -0.093887  0.031705    0.209499\n",
              "legs        0.394009 -0.206686 -0.224918  ...  0.073931  0.068791   -0.432856\n",
              "tail        0.048973  0.292569 -0.221090  ...  0.023434  0.243277    0.731762\n",
              "domestic    0.207208  0.031586 -0.155610  ...  1.000000  0.020073    0.101733\n",
              "catsize     0.455020 -0.135934 -0.514650  ...  0.020073  1.000000    0.356976\n",
              "class_type  0.191681  0.231403 -0.340420  ...  0.101733  0.356976    1.000000\n",
              "\n",
              "[17 rows x 17 columns]"
            ]
          },
          "metadata": {
            "tags": []
          },
          "execution_count": 6
        }
      ]
    },
    {
      "cell_type": "code",
      "metadata": {
        "id": "jHnwhzcz28zU",
        "outputId": "ba7eb1b4-27a0-4907-f1e0-315f2ee7ee33",
        "colab": {
          "base_uri": "https://localhost:8080/",
          "height": 118
        }
      },
      "source": [
        "# top 5 positively correlated features with class_type:\n",
        "pos_corr = corr_plot['class_type'].sort_values(ascending = False)\n",
        "top_5_pos = pos_corr[1:6]\n",
        "top_5_pos"
      ],
      "execution_count": null,
      "outputs": [
        {
          "output_type": "execute_result",
          "data": {
            "text/plain": [
              "backbone    1.000000\n",
              "tail        0.731762\n",
              "toothed     0.575085\n",
              "milk        0.384958\n",
              "catsize     0.356976\n",
              "Name: class_type, dtype: float64"
            ]
          },
          "metadata": {
            "tags": []
          },
          "execution_count": 7
        }
      ]
    },
    {
      "cell_type": "markdown",
      "metadata": {
        "id": "30IOMHaY2-F_"
      },
      "source": [
        "## Part 2"
      ]
    },
    {
      "cell_type": "code",
      "metadata": {
        "id": "ZU-PyJM82_9p",
        "outputId": "619ecef4-e9e5-4074-bbe7-444424d8b0e0",
        "colab": {
          "base_uri": "https://localhost:8080/",
          "height": 118
        }
      },
      "source": [
        "# top 5 negatively correlated features with class_type:\n",
        "neg_corr = corr_plot['class_type'].sort_values(ascending = True)[:5]\n",
        "top_5_neg = neg_corr\n",
        "top_5_neg"
      ],
      "execution_count": null,
      "outputs": [
        {
          "output_type": "execute_result",
          "data": {
            "text/plain": [
              "legs       -0.432856\n",
              "eggs       -0.340420\n",
              "venomous   -0.246611\n",
              "airborne   -0.104718\n",
              "aquatic     0.022463\n",
              "Name: class_type, dtype: float64"
            ]
          },
          "metadata": {
            "tags": []
          },
          "execution_count": 8
        }
      ]
    },
    {
      "cell_type": "markdown",
      "metadata": {
        "id": "ykxg9Y-b3EZS"
      },
      "source": [
        "## Part 3"
      ]
    },
    {
      "cell_type": "code",
      "metadata": {
        "id": "CHfJJKiH3Ceg",
        "outputId": "e3d740f5-e3c5-4b2a-826d-94a784eb54c4",
        "colab": {
          "base_uri": "https://localhost:8080/",
          "height": 50
        }
      },
      "source": [
        "#RFE feature selection\n",
        "\n",
        "from sklearn.feature_selection import RFE\n",
        "from sklearn.linear_model import LogisticRegression\n",
        "\n",
        "estimator = LogisticRegression(max_iter=1000)\n",
        "selector = RFE(estimator, n_features_to_select=5, step=1)\n",
        "selector = selector.fit(X,y)\n",
        "X.columns.values[selector.support_]"
      ],
      "execution_count": null,
      "outputs": [
        {
          "output_type": "execute_result",
          "data": {
            "text/plain": [
              "array(['feathers', 'milk', 'toothed', 'backbone', 'breathes'],\n",
              "      dtype=object)"
            ]
          },
          "metadata": {
            "tags": []
          },
          "execution_count": 9
        }
      ]
    },
    {
      "cell_type": "code",
      "metadata": {
        "id": "bt_2NWi635l1"
      },
      "source": [
        "# train_test_split\n",
        "\n",
        "X_train, X_test, y_train, y_test = train_test_split(X, y, test_size=20, random_state=50)"
      ],
      "execution_count": null,
      "outputs": []
    },
    {
      "cell_type": "code",
      "metadata": {
        "id": "iFfb0FTV4UOS"
      },
      "source": [
        "# scale data\n",
        "from sklearn.preprocessing import StandardScaler\n",
        "\n",
        "X_scaler = StandardScaler()\n",
        "X_train_scaled = X_scaler.fit_transform(X_train)\n",
        "X_test_scaled = X_scaler.transform(X_test)"
      ],
      "execution_count": null,
      "outputs": []
    },
    {
      "cell_type": "markdown",
      "metadata": {
        "id": "iSEL15IY3Xks"
      },
      "source": [
        "## Part 4"
      ]
    },
    {
      "cell_type": "code",
      "metadata": {
        "id": "zxgS0_GZ3PmQ"
      },
      "source": [
        "# function for isolating indices of features in X\n",
        "def find_index(ft_list):\n",
        "    index_list = []\n",
        "    for feature in ft_list:\n",
        "        index_list.append(np.where(X.columns.values == feature)[0][0])\n",
        "    return index_list\n",
        "\n",
        "# isolating data related to only the top 5 positively correlated features\n",
        "X_train_pos = np.delete(X_train_scaled, find_index(top_5_pos.index.values), 1)\n",
        "X_test_pos = np.delete(X_test_scaled, find_index(top_5_pos.index.values), 1)\n",
        "\n",
        "# isolating data related to only the top 5 negatively correlated features\n",
        "X_train_neg = np.delete(X_train_scaled, find_index(top_5_neg.index.values), 1)\n",
        "X_test_neg = np.delete(X_test_scaled, find_index(top_5_neg.index.values), 1)\n",
        "\n",
        "# isolating data related to only the top 5 features selected by RFE\n",
        "X_train_RFE = np.delete(X_train_scaled, find_index(X.columns.values[selector.support_]), 1)\n",
        "X_test_RFE = np.delete(X_test_scaled, find_index(X.columns.values[selector.support_]), 1)"
      ],
      "execution_count": null,
      "outputs": []
    },
    {
      "cell_type": "code",
      "metadata": {
        "id": "aS-DnAWl3cCs",
        "outputId": "8aa18c83-bab2-4b85-ca71-2a3e07ec6d3a",
        "colab": {
          "base_uri": "https://localhost:8080/",
          "height": 84
        }
      },
      "source": [
        "## a. Model trained with top 5 positively correlated features\n",
        "\n",
        "mlp_mod_pos = MLPRegressor(max_iter = 1000, random_state = 1).fit(X_train_pos, y_train)\n",
        "pred_test_pos = mlp_mod_pos.predict(X_test_pos)\n",
        "\n",
        "## b. Model trained with top 5 negatively correlated features\n",
        "\n",
        "mlp_mod_neg = MLPRegressor(max_iter = 1000, random_state = 1).fit(X_train_neg, y_train)\n",
        "pred_test_neg = mlp_mod_neg.predict(X_test_neg)\n",
        "\n",
        "## c. Model trained with top 5 features selected by RFE\n",
        "\n",
        "mlp_mod_RFE = MLPRegressor(max_iter = 1000, random_state = 1).fit(X_train_RFE, y_train)\n",
        "pred_test_RFE = mlp_mod_RFE.predict(X_test_RFE)\n",
        "\n",
        "## d. Model trained with all features\n",
        "\n",
        "mlp_mod_all = MLPRegressor(max_iter = 1000, random_state = 1).fit(X_train_scaled, y_train)\n",
        "pred_test_all = mlp_mod_all.predict(X_test_scaled)\n",
        "\n",
        "print('R2 using top 5 positively correlated features: ', mlp_mod_pos.score(X_test_pos, y_test))\n",
        "print('R2 using top 5 negatively correlated features: ', mlp_mod_neg.score(X_test_neg, y_test))\n",
        "print('R2 using the top 5 features selected by RFE: ', mlp_mod_RFE.score(X_test_RFE, y_test))\n",
        "print('R2 using entire data set: ', mlp_mod_all.score(X_test_scaled, y_test))"
      ],
      "execution_count": null,
      "outputs": [
        {
          "output_type": "stream",
          "text": [
            "R2 using top 5 positively correlated features:  0.9669220169768712\n",
            "R2 using top 5 negatively correlated features:  0.9229525966740726\n",
            "R2 using the top 5 features selected by RFE:  0.9135141680414453\n",
            "R2 using entire data set:  0.9759995902856967\n"
          ],
          "name": "stdout"
        }
      ]
    },
    {
      "cell_type": "markdown",
      "metadata": {
        "id": "gZQqGOWK3rhJ"
      },
      "source": [
        "## Part 5\n",
        "\n",
        "Using the 5 most positively or negatively correlated features reduces dimensionality, but could present a multicollinearity problem where one or many features is a function of another feature. This could result in a misleadingly high R^2 since features that are functions of other features do not add to the predictive power of the model and instead overfit to the training data. For example features like backbone and tail are highly correlated because most animals that have a tail also have a backbone. This could be why when using the top 5 positively correlated features the R^2 is significantly higher than that obtained from using RFE or the top 5 negatively correlated features. In the latter, the negatively correlated features reduces the R^2 further since they are much less correlated to class_type than the positive features, thus, producing a poorer least squares fit. Moreover, RFE recursively selects features using different metrics besides correlation which avoids the multicollinearity problem but reduces the R^2. Using the entire data set without feature selection produces a model with the highest R^2 value which may be using redundant features that are explained by others."
      ]
    },
    {
      "cell_type": "markdown",
      "metadata": {
        "id": "s4uw-GfOV_td"
      },
      "source": [
        "# Question 4 (Data Pre-processing - 25pts)\n",
        "The following dataset contains House Sales data in King County, USA. This dataset contains house sale prices for King County, which includes Seattle. This dataset contains the following columns:\n",
        "\n",
        "* bedrooms: Number of Bedrooms/House\n",
        "* bathrooms: Number of bathrooms/bedrooms\n",
        "* sqft_living: Square footage of the home\n",
        "* sqft_lot: Square footage of the lot\n",
        "* floors: Total floors (levels) in house\n",
        "* waterfront: House which has a view to a waterfront (0/1)\n",
        "* view: Has been viewed (0-4)\n",
        "* condition: How good the condition is Overall (1-5)\n",
        "* grade: Overall grade given to the housing unit, based on King County grading system (1-13)\n",
        "* sqft_above: Square footage of house apart from basement\n",
        "* sqft_basement: Square footage of the basement\n",
        "* yr_built: Built Year\n",
        "* yr_renovated: Year when house was renovated\n",
        "* zipcode: Zip code\n",
        "* price: Selling price of house\n",
        "\n",
        "Here, price is the dependent variable while all other variables are assumed to be independent variables. Here, 10% cells of most columns in the dataset contain NaN value."
      ]
    },
    {
      "cell_type": "code",
      "metadata": {
        "id": "uF1vg298V_te",
        "outputId": "37768382-27d9-4b68-d380-9a9da3c109c2",
        "colab": {
          "base_uri": "https://localhost:8080/",
          "height": 211
        }
      },
      "source": [
        "import pandas as pd \n",
        "import numpy as np \n",
        "from sklearn.linear_model import LinearRegression\n",
        "from sklearn.model_selection import train_test_split\n",
        "\n",
        "np.random.seed(100)\n",
        "\n",
        "df = pd.read_csv(\"kc_house_data.csv\")\n",
        "age = df['yr_renovated']\n",
        "built = df['yr_built']\n",
        "df.iloc[:, :-1] = df[:-1].mask(np.random.random(df[:-1].shape)<0.1)\n",
        "df['yr_renovated'] = age\n",
        "df['yr_built'] = built\n",
        "df.head()"
      ],
      "execution_count": null,
      "outputs": [
        {
          "output_type": "execute_result",
          "data": {
            "text/html": [
              "<div>\n",
              "<style scoped>\n",
              "    .dataframe tbody tr th:only-of-type {\n",
              "        vertical-align: middle;\n",
              "    }\n",
              "\n",
              "    .dataframe tbody tr th {\n",
              "        vertical-align: top;\n",
              "    }\n",
              "\n",
              "    .dataframe thead th {\n",
              "        text-align: right;\n",
              "    }\n",
              "</style>\n",
              "<table border=\"1\" class=\"dataframe\">\n",
              "  <thead>\n",
              "    <tr style=\"text-align: right;\">\n",
              "      <th></th>\n",
              "      <th>bedrooms</th>\n",
              "      <th>bathrooms</th>\n",
              "      <th>sqft_living</th>\n",
              "      <th>sqft_lot</th>\n",
              "      <th>floors</th>\n",
              "      <th>waterfront</th>\n",
              "      <th>view</th>\n",
              "      <th>condition</th>\n",
              "      <th>grade</th>\n",
              "      <th>sqft_above</th>\n",
              "      <th>sqft_basement</th>\n",
              "      <th>yr_built</th>\n",
              "      <th>yr_renovated</th>\n",
              "      <th>zipcode</th>\n",
              "      <th>price</th>\n",
              "    </tr>\n",
              "  </thead>\n",
              "  <tbody>\n",
              "    <tr>\n",
              "      <th>0</th>\n",
              "      <td>3.0</td>\n",
              "      <td>1.00</td>\n",
              "      <td>1180.0</td>\n",
              "      <td>5650.0</td>\n",
              "      <td>NaN</td>\n",
              "      <td>0.0</td>\n",
              "      <td>0.0</td>\n",
              "      <td>3.0</td>\n",
              "      <td>7.0</td>\n",
              "      <td>1180.0</td>\n",
              "      <td>0.0</td>\n",
              "      <td>1955</td>\n",
              "      <td>0</td>\n",
              "      <td>98178.0</td>\n",
              "      <td>221900.0</td>\n",
              "    </tr>\n",
              "    <tr>\n",
              "      <th>1</th>\n",
              "      <td>3.0</td>\n",
              "      <td>2.25</td>\n",
              "      <td>2570.0</td>\n",
              "      <td>7242.0</td>\n",
              "      <td>2.0</td>\n",
              "      <td>0.0</td>\n",
              "      <td>0.0</td>\n",
              "      <td>3.0</td>\n",
              "      <td>7.0</td>\n",
              "      <td>2170.0</td>\n",
              "      <td>400.0</td>\n",
              "      <td>1951</td>\n",
              "      <td>1991</td>\n",
              "      <td>98125.0</td>\n",
              "      <td>538000.0</td>\n",
              "    </tr>\n",
              "    <tr>\n",
              "      <th>2</th>\n",
              "      <td>2.0</td>\n",
              "      <td>1.00</td>\n",
              "      <td>770.0</td>\n",
              "      <td>10000.0</td>\n",
              "      <td>NaN</td>\n",
              "      <td>0.0</td>\n",
              "      <td>0.0</td>\n",
              "      <td>NaN</td>\n",
              "      <td>6.0</td>\n",
              "      <td>770.0</td>\n",
              "      <td>0.0</td>\n",
              "      <td>1933</td>\n",
              "      <td>0</td>\n",
              "      <td>NaN</td>\n",
              "      <td>180000.0</td>\n",
              "    </tr>\n",
              "    <tr>\n",
              "      <th>3</th>\n",
              "      <td>4.0</td>\n",
              "      <td>3.00</td>\n",
              "      <td>1960.0</td>\n",
              "      <td>5000.0</td>\n",
              "      <td>1.0</td>\n",
              "      <td>0.0</td>\n",
              "      <td>0.0</td>\n",
              "      <td>5.0</td>\n",
              "      <td>7.0</td>\n",
              "      <td>1050.0</td>\n",
              "      <td>910.0</td>\n",
              "      <td>1965</td>\n",
              "      <td>0</td>\n",
              "      <td>NaN</td>\n",
              "      <td>604000.0</td>\n",
              "    </tr>\n",
              "    <tr>\n",
              "      <th>4</th>\n",
              "      <td>3.0</td>\n",
              "      <td>2.00</td>\n",
              "      <td>1680.0</td>\n",
              "      <td>8080.0</td>\n",
              "      <td>1.0</td>\n",
              "      <td>0.0</td>\n",
              "      <td>0.0</td>\n",
              "      <td>3.0</td>\n",
              "      <td>8.0</td>\n",
              "      <td>1680.0</td>\n",
              "      <td>0.0</td>\n",
              "      <td>1987</td>\n",
              "      <td>0</td>\n",
              "      <td>98074.0</td>\n",
              "      <td>510000.0</td>\n",
              "    </tr>\n",
              "  </tbody>\n",
              "</table>\n",
              "</div>"
            ],
            "text/plain": [
              "   bedrooms  bathrooms  sqft_living  ...  yr_renovated  zipcode     price\n",
              "0       3.0       1.00       1180.0  ...             0  98178.0  221900.0\n",
              "1       3.0       2.25       2570.0  ...          1991  98125.0  538000.0\n",
              "2       2.0       1.00        770.0  ...             0      NaN  180000.0\n",
              "3       4.0       3.00       1960.0  ...             0      NaN  604000.0\n",
              "4       3.0       2.00       1680.0  ...             0  98074.0  510000.0\n",
              "\n",
              "[5 rows x 15 columns]"
            ]
          },
          "metadata": {
            "tags": []
          },
          "execution_count": 1
        }
      ]
    },
    {
      "cell_type": "markdown",
      "metadata": {
        "id": "M8jFM8tIV_tg"
      },
      "source": [
        "### Question 4.1 (5 points)\n",
        "Print the number of NaN values in each column. Next, if the value of `yr_renovated` is equal to 0, set it equal to the corresponding value of `yr_built`."
      ]
    },
    {
      "cell_type": "code",
      "metadata": {
        "id": "_i_UfBGo8T5_",
        "outputId": "f4e870ee-2a76-4785-de11-cceb70895395",
        "colab": {
          "base_uri": "https://localhost:8080/",
          "height": 35
        }
      },
      "source": [
        "df['bedrooms'].isnull().sum()"
      ],
      "execution_count": null,
      "outputs": [
        {
          "output_type": "execute_result",
          "data": {
            "text/plain": [
              "2150"
            ]
          },
          "metadata": {
            "tags": []
          },
          "execution_count": 2
        }
      ]
    },
    {
      "cell_type": "code",
      "metadata": {
        "id": "eNZWYwoCV_tg",
        "outputId": "ec66b299-6699-4b0b-ec73-28c7d98ae94c",
        "colab": {
          "base_uri": "https://localhost:8080/",
          "height": 297
        }
      },
      "source": [
        "df.isnull().sum() # from the df get all the Null or NaN values and then sum it for each column ( can also use .isna() )"
      ],
      "execution_count": null,
      "outputs": [
        {
          "output_type": "execute_result",
          "data": {
            "text/plain": [
              "bedrooms         2150\n",
              "bathrooms        2150\n",
              "sqft_living      2170\n",
              "sqft_lot         2091\n",
              "floors           2152\n",
              "waterfront       2179\n",
              "view             2184\n",
              "condition        2096\n",
              "grade            2135\n",
              "sqft_above       2163\n",
              "sqft_basement    2198\n",
              "yr_built            0\n",
              "yr_renovated        0\n",
              "zipcode          2169\n",
              "price               0\n",
              "dtype: int64"
            ]
          },
          "metadata": {
            "tags": []
          },
          "execution_count": 3
        }
      ]
    },
    {
      "cell_type": "code",
      "metadata": {
        "id": "GWPS4D452MDX",
        "outputId": "4388cd32-f5ce-4518-c5ff-0ca451f28204",
        "colab": {
          "base_uri": "https://localhost:8080/",
          "height": 355
        }
      },
      "source": [
        "df['yr_renovated'] = df.apply(\n",
        "    lambda x: x['yr_built'] if x['yr_renovated']==0 else x['yr_renovated'], \n",
        "    axis=1)        \n",
        "df[:10]"
      ],
      "execution_count": null,
      "outputs": [
        {
          "output_type": "execute_result",
          "data": {
            "text/html": [
              "<div>\n",
              "<style scoped>\n",
              "    .dataframe tbody tr th:only-of-type {\n",
              "        vertical-align: middle;\n",
              "    }\n",
              "\n",
              "    .dataframe tbody tr th {\n",
              "        vertical-align: top;\n",
              "    }\n",
              "\n",
              "    .dataframe thead th {\n",
              "        text-align: right;\n",
              "    }\n",
              "</style>\n",
              "<table border=\"1\" class=\"dataframe\">\n",
              "  <thead>\n",
              "    <tr style=\"text-align: right;\">\n",
              "      <th></th>\n",
              "      <th>bedrooms</th>\n",
              "      <th>bathrooms</th>\n",
              "      <th>sqft_living</th>\n",
              "      <th>sqft_lot</th>\n",
              "      <th>floors</th>\n",
              "      <th>waterfront</th>\n",
              "      <th>view</th>\n",
              "      <th>condition</th>\n",
              "      <th>grade</th>\n",
              "      <th>sqft_above</th>\n",
              "      <th>sqft_basement</th>\n",
              "      <th>yr_built</th>\n",
              "      <th>yr_renovated</th>\n",
              "      <th>zipcode</th>\n",
              "      <th>price</th>\n",
              "    </tr>\n",
              "  </thead>\n",
              "  <tbody>\n",
              "    <tr>\n",
              "      <th>0</th>\n",
              "      <td>3.0</td>\n",
              "      <td>1.00</td>\n",
              "      <td>1180.0</td>\n",
              "      <td>5650.0</td>\n",
              "      <td>NaN</td>\n",
              "      <td>0.0</td>\n",
              "      <td>0.0</td>\n",
              "      <td>3.0</td>\n",
              "      <td>7.0</td>\n",
              "      <td>1180.0</td>\n",
              "      <td>0.0</td>\n",
              "      <td>1955</td>\n",
              "      <td>1955.0</td>\n",
              "      <td>98178.0</td>\n",
              "      <td>221900.0</td>\n",
              "    </tr>\n",
              "    <tr>\n",
              "      <th>1</th>\n",
              "      <td>3.0</td>\n",
              "      <td>2.25</td>\n",
              "      <td>2570.0</td>\n",
              "      <td>7242.0</td>\n",
              "      <td>2.0</td>\n",
              "      <td>0.0</td>\n",
              "      <td>0.0</td>\n",
              "      <td>3.0</td>\n",
              "      <td>7.0</td>\n",
              "      <td>2170.0</td>\n",
              "      <td>400.0</td>\n",
              "      <td>1951</td>\n",
              "      <td>1991.0</td>\n",
              "      <td>98125.0</td>\n",
              "      <td>538000.0</td>\n",
              "    </tr>\n",
              "    <tr>\n",
              "      <th>2</th>\n",
              "      <td>2.0</td>\n",
              "      <td>1.00</td>\n",
              "      <td>770.0</td>\n",
              "      <td>10000.0</td>\n",
              "      <td>NaN</td>\n",
              "      <td>0.0</td>\n",
              "      <td>0.0</td>\n",
              "      <td>NaN</td>\n",
              "      <td>6.0</td>\n",
              "      <td>770.0</td>\n",
              "      <td>0.0</td>\n",
              "      <td>1933</td>\n",
              "      <td>1933.0</td>\n",
              "      <td>NaN</td>\n",
              "      <td>180000.0</td>\n",
              "    </tr>\n",
              "    <tr>\n",
              "      <th>3</th>\n",
              "      <td>4.0</td>\n",
              "      <td>3.00</td>\n",
              "      <td>1960.0</td>\n",
              "      <td>5000.0</td>\n",
              "      <td>1.0</td>\n",
              "      <td>0.0</td>\n",
              "      <td>0.0</td>\n",
              "      <td>5.0</td>\n",
              "      <td>7.0</td>\n",
              "      <td>1050.0</td>\n",
              "      <td>910.0</td>\n",
              "      <td>1965</td>\n",
              "      <td>1965.0</td>\n",
              "      <td>NaN</td>\n",
              "      <td>604000.0</td>\n",
              "    </tr>\n",
              "    <tr>\n",
              "      <th>4</th>\n",
              "      <td>3.0</td>\n",
              "      <td>2.00</td>\n",
              "      <td>1680.0</td>\n",
              "      <td>8080.0</td>\n",
              "      <td>1.0</td>\n",
              "      <td>0.0</td>\n",
              "      <td>0.0</td>\n",
              "      <td>3.0</td>\n",
              "      <td>8.0</td>\n",
              "      <td>1680.0</td>\n",
              "      <td>0.0</td>\n",
              "      <td>1987</td>\n",
              "      <td>1987.0</td>\n",
              "      <td>98074.0</td>\n",
              "      <td>510000.0</td>\n",
              "    </tr>\n",
              "    <tr>\n",
              "      <th>5</th>\n",
              "      <td>4.0</td>\n",
              "      <td>4.50</td>\n",
              "      <td>5420.0</td>\n",
              "      <td>NaN</td>\n",
              "      <td>1.0</td>\n",
              "      <td>0.0</td>\n",
              "      <td>NaN</td>\n",
              "      <td>3.0</td>\n",
              "      <td>11.0</td>\n",
              "      <td>3890.0</td>\n",
              "      <td>1530.0</td>\n",
              "      <td>2001</td>\n",
              "      <td>2001.0</td>\n",
              "      <td>98053.0</td>\n",
              "      <td>1230000.0</td>\n",
              "    </tr>\n",
              "    <tr>\n",
              "      <th>6</th>\n",
              "      <td>3.0</td>\n",
              "      <td>2.25</td>\n",
              "      <td>1715.0</td>\n",
              "      <td>6819.0</td>\n",
              "      <td>2.0</td>\n",
              "      <td>0.0</td>\n",
              "      <td>0.0</td>\n",
              "      <td>3.0</td>\n",
              "      <td>7.0</td>\n",
              "      <td>1715.0</td>\n",
              "      <td>0.0</td>\n",
              "      <td>1995</td>\n",
              "      <td>1995.0</td>\n",
              "      <td>98003.0</td>\n",
              "      <td>257500.0</td>\n",
              "    </tr>\n",
              "    <tr>\n",
              "      <th>7</th>\n",
              "      <td>3.0</td>\n",
              "      <td>1.50</td>\n",
              "      <td>1060.0</td>\n",
              "      <td>9711.0</td>\n",
              "      <td>1.0</td>\n",
              "      <td>NaN</td>\n",
              "      <td>0.0</td>\n",
              "      <td>3.0</td>\n",
              "      <td>7.0</td>\n",
              "      <td>1060.0</td>\n",
              "      <td>0.0</td>\n",
              "      <td>1963</td>\n",
              "      <td>1963.0</td>\n",
              "      <td>98198.0</td>\n",
              "      <td>291850.0</td>\n",
              "    </tr>\n",
              "    <tr>\n",
              "      <th>8</th>\n",
              "      <td>3.0</td>\n",
              "      <td>1.00</td>\n",
              "      <td>1780.0</td>\n",
              "      <td>NaN</td>\n",
              "      <td>1.0</td>\n",
              "      <td>0.0</td>\n",
              "      <td>0.0</td>\n",
              "      <td>3.0</td>\n",
              "      <td>7.0</td>\n",
              "      <td>1050.0</td>\n",
              "      <td>NaN</td>\n",
              "      <td>1960</td>\n",
              "      <td>1960.0</td>\n",
              "      <td>NaN</td>\n",
              "      <td>229500.0</td>\n",
              "    </tr>\n",
              "    <tr>\n",
              "      <th>9</th>\n",
              "      <td>3.0</td>\n",
              "      <td>2.50</td>\n",
              "      <td>1890.0</td>\n",
              "      <td>6560.0</td>\n",
              "      <td>2.0</td>\n",
              "      <td>0.0</td>\n",
              "      <td>0.0</td>\n",
              "      <td>3.0</td>\n",
              "      <td>7.0</td>\n",
              "      <td>1890.0</td>\n",
              "      <td>0.0</td>\n",
              "      <td>2003</td>\n",
              "      <td>2003.0</td>\n",
              "      <td>98038.0</td>\n",
              "      <td>323000.0</td>\n",
              "    </tr>\n",
              "  </tbody>\n",
              "</table>\n",
              "</div>"
            ],
            "text/plain": [
              "   bedrooms  bathrooms  sqft_living  ...  yr_renovated  zipcode      price\n",
              "0       3.0       1.00       1180.0  ...        1955.0  98178.0   221900.0\n",
              "1       3.0       2.25       2570.0  ...        1991.0  98125.0   538000.0\n",
              "2       2.0       1.00        770.0  ...        1933.0      NaN   180000.0\n",
              "3       4.0       3.00       1960.0  ...        1965.0      NaN   604000.0\n",
              "4       3.0       2.00       1680.0  ...        1987.0  98074.0   510000.0\n",
              "5       4.0       4.50       5420.0  ...        2001.0  98053.0  1230000.0\n",
              "6       3.0       2.25       1715.0  ...        1995.0  98003.0   257500.0\n",
              "7       3.0       1.50       1060.0  ...        1963.0  98198.0   291850.0\n",
              "8       3.0       1.00       1780.0  ...        1960.0      NaN   229500.0\n",
              "9       3.0       2.50       1890.0  ...        2003.0  98038.0   323000.0\n",
              "\n",
              "[10 rows x 15 columns]"
            ]
          },
          "metadata": {
            "tags": []
          },
          "execution_count": 5
        }
      ]
    },
    {
      "cell_type": "markdown",
      "metadata": {
        "id": "j1KtiEyiV_tj"
      },
      "source": [
        "### Question 4.2 (6 points)\n",
        "\n",
        "Create a copy of `df` named `df_dm` and create a new column in `df_dm` named `binned_yr_built` and apply binning to the column `yr_built`. Use [pandas.cut()](https://stackoverflow.com/a/31740881) and modify its paramter list as below:\n",
        "- `bins=[1900, 1920, 1940, 1960, 1980, 2000, 2020]`\n",
        "- `labels=['1900-1920', '1920-1940', '1940-1960', '1960-1980', '1980-2000', '2000-2020']`\n",
        "- `include_lowest=True`\n",
        "\n",
        "Next, perform one-hot encoding using this new column."
      ]
    },
    {
      "cell_type": "code",
      "metadata": {
        "id": "SXuVn5unV_tk",
        "outputId": "7e68611f-b54b-4d4a-9048-ea98a0077066",
        "colab": {
          "base_uri": "https://localhost:8080/",
          "height": 391
        }
      },
      "source": [
        "df_dm = df.copy()\n",
        "df_dm['binned_yr_built'] = pd.cut(df_dm['yr_built'], \n",
        "                                  bins=[1900, 1920, 1940, 1960, 1980, 2000, 2020], \n",
        "                                  labels=['1900-1920', '1920-1940', '1940-1960', '1960-1980', '1980-2000', '2000-2020'],\n",
        "                                  include_lowest=True)\n",
        "\n",
        "df_dm[['binned_yr_built']]\n",
        "\n",
        "\n"
      ],
      "execution_count": null,
      "outputs": [
        {
          "output_type": "execute_result",
          "data": {
            "text/html": [
              "<div>\n",
              "<style scoped>\n",
              "    .dataframe tbody tr th:only-of-type {\n",
              "        vertical-align: middle;\n",
              "    }\n",
              "\n",
              "    .dataframe tbody tr th {\n",
              "        vertical-align: top;\n",
              "    }\n",
              "\n",
              "    .dataframe thead th {\n",
              "        text-align: right;\n",
              "    }\n",
              "</style>\n",
              "<table border=\"1\" class=\"dataframe\">\n",
              "  <thead>\n",
              "    <tr style=\"text-align: right;\">\n",
              "      <th></th>\n",
              "      <th>binned_yr_built</th>\n",
              "    </tr>\n",
              "  </thead>\n",
              "  <tbody>\n",
              "    <tr>\n",
              "      <th>0</th>\n",
              "      <td>1940-1960</td>\n",
              "    </tr>\n",
              "    <tr>\n",
              "      <th>1</th>\n",
              "      <td>1940-1960</td>\n",
              "    </tr>\n",
              "    <tr>\n",
              "      <th>2</th>\n",
              "      <td>1920-1940</td>\n",
              "    </tr>\n",
              "    <tr>\n",
              "      <th>3</th>\n",
              "      <td>1960-1980</td>\n",
              "    </tr>\n",
              "    <tr>\n",
              "      <th>4</th>\n",
              "      <td>1980-2000</td>\n",
              "    </tr>\n",
              "    <tr>\n",
              "      <th>...</th>\n",
              "      <td>...</td>\n",
              "    </tr>\n",
              "    <tr>\n",
              "      <th>21608</th>\n",
              "      <td>2000-2020</td>\n",
              "    </tr>\n",
              "    <tr>\n",
              "      <th>21609</th>\n",
              "      <td>2000-2020</td>\n",
              "    </tr>\n",
              "    <tr>\n",
              "      <th>21610</th>\n",
              "      <td>2000-2020</td>\n",
              "    </tr>\n",
              "    <tr>\n",
              "      <th>21611</th>\n",
              "      <td>2000-2020</td>\n",
              "    </tr>\n",
              "    <tr>\n",
              "      <th>21612</th>\n",
              "      <td>2000-2020</td>\n",
              "    </tr>\n",
              "  </tbody>\n",
              "</table>\n",
              "<p>21613 rows × 1 columns</p>\n",
              "</div>"
            ],
            "text/plain": [
              "      binned_yr_built\n",
              "0           1940-1960\n",
              "1           1940-1960\n",
              "2           1920-1940\n",
              "3           1960-1980\n",
              "4           1980-2000\n",
              "...               ...\n",
              "21608       2000-2020\n",
              "21609       2000-2020\n",
              "21610       2000-2020\n",
              "21611       2000-2020\n",
              "21612       2000-2020\n",
              "\n",
              "[21613 rows x 1 columns]"
            ]
          },
          "metadata": {
            "tags": []
          },
          "execution_count": 5
        }
      ]
    },
    {
      "cell_type": "code",
      "metadata": {
        "id": "i7uU35Zy93Ok"
      },
      "source": [
        "# Perform One Hot Encoding using the binned_yr_built column\n",
        "\n",
        "from sklearn.preprocessing import OneHotEncoder\n",
        "from sklearn.compose import ColumnTransformer\n"
      ],
      "execution_count": null,
      "outputs": []
    },
    {
      "cell_type": "code",
      "metadata": {
        "id": "hXQa67SVxxf5",
        "outputId": "77624520-7b99-4cdd-f3a7-b35c6bf404a7",
        "colab": {
          "base_uri": "https://localhost:8080/",
          "height": 122
        }
      },
      "source": [
        "OHE = pd.get_dummies(df_dm['binned_yr_built'])\n",
        "print(OHE.head())"
      ],
      "execution_count": null,
      "outputs": [
        {
          "output_type": "stream",
          "text": [
            "   1900-1920  1920-1940  1940-1960  1960-1980  1980-2000  2000-2020\n",
            "0          0          0          1          0          0          0\n",
            "1          0          0          1          0          0          0\n",
            "2          0          1          0          0          0          0\n",
            "3          0          0          0          1          0          0\n",
            "4          0          0          0          0          1          0\n"
          ],
          "name": "stdout"
        }
      ]
    },
    {
      "cell_type": "markdown",
      "metadata": {
        "id": "eDJvc4ccV_tp"
      },
      "source": [
        "## Question 4.3 (4 points)\n",
        "Create a copy of `df` named `temp_df`. Drop all rows in `temp_df` that contain any null value and run a linear regression model using a train-test split with `test_size=0.3` and `random_state=42`."
      ]
    },
    {
      "cell_type": "code",
      "metadata": {
        "id": "hRtQFOUMV_tp",
        "outputId": "7da97260-109f-4a93-8538-20988e0ecbf6",
        "colab": {
          "base_uri": "https://localhost:8080/",
          "height": 211
        }
      },
      "source": [
        "temp_df = df.copy()\n",
        "\n",
        "temp_df = temp_df.dropna(axis=0, how='any')\n",
        "\n",
        "temp_df.head()"
      ],
      "execution_count": null,
      "outputs": [
        {
          "output_type": "execute_result",
          "data": {
            "text/html": [
              "<div>\n",
              "<style scoped>\n",
              "    .dataframe tbody tr th:only-of-type {\n",
              "        vertical-align: middle;\n",
              "    }\n",
              "\n",
              "    .dataframe tbody tr th {\n",
              "        vertical-align: top;\n",
              "    }\n",
              "\n",
              "    .dataframe thead th {\n",
              "        text-align: right;\n",
              "    }\n",
              "</style>\n",
              "<table border=\"1\" class=\"dataframe\">\n",
              "  <thead>\n",
              "    <tr style=\"text-align: right;\">\n",
              "      <th></th>\n",
              "      <th>bedrooms</th>\n",
              "      <th>bathrooms</th>\n",
              "      <th>sqft_living</th>\n",
              "      <th>sqft_lot</th>\n",
              "      <th>floors</th>\n",
              "      <th>waterfront</th>\n",
              "      <th>view</th>\n",
              "      <th>condition</th>\n",
              "      <th>grade</th>\n",
              "      <th>sqft_above</th>\n",
              "      <th>sqft_basement</th>\n",
              "      <th>yr_built</th>\n",
              "      <th>yr_renovated</th>\n",
              "      <th>zipcode</th>\n",
              "      <th>price</th>\n",
              "    </tr>\n",
              "  </thead>\n",
              "  <tbody>\n",
              "    <tr>\n",
              "      <th>1</th>\n",
              "      <td>3.0</td>\n",
              "      <td>2.25</td>\n",
              "      <td>2570.0</td>\n",
              "      <td>7242.0</td>\n",
              "      <td>2.0</td>\n",
              "      <td>0.0</td>\n",
              "      <td>0.0</td>\n",
              "      <td>3.0</td>\n",
              "      <td>7.0</td>\n",
              "      <td>2170.0</td>\n",
              "      <td>400.0</td>\n",
              "      <td>1951</td>\n",
              "      <td>1991</td>\n",
              "      <td>98125.0</td>\n",
              "      <td>538000.0</td>\n",
              "    </tr>\n",
              "    <tr>\n",
              "      <th>4</th>\n",
              "      <td>3.0</td>\n",
              "      <td>2.00</td>\n",
              "      <td>1680.0</td>\n",
              "      <td>8080.0</td>\n",
              "      <td>1.0</td>\n",
              "      <td>0.0</td>\n",
              "      <td>0.0</td>\n",
              "      <td>3.0</td>\n",
              "      <td>8.0</td>\n",
              "      <td>1680.0</td>\n",
              "      <td>0.0</td>\n",
              "      <td>1987</td>\n",
              "      <td>0</td>\n",
              "      <td>98074.0</td>\n",
              "      <td>510000.0</td>\n",
              "    </tr>\n",
              "    <tr>\n",
              "      <th>6</th>\n",
              "      <td>3.0</td>\n",
              "      <td>2.25</td>\n",
              "      <td>1715.0</td>\n",
              "      <td>6819.0</td>\n",
              "      <td>2.0</td>\n",
              "      <td>0.0</td>\n",
              "      <td>0.0</td>\n",
              "      <td>3.0</td>\n",
              "      <td>7.0</td>\n",
              "      <td>1715.0</td>\n",
              "      <td>0.0</td>\n",
              "      <td>1995</td>\n",
              "      <td>0</td>\n",
              "      <td>98003.0</td>\n",
              "      <td>257500.0</td>\n",
              "    </tr>\n",
              "    <tr>\n",
              "      <th>9</th>\n",
              "      <td>3.0</td>\n",
              "      <td>2.50</td>\n",
              "      <td>1890.0</td>\n",
              "      <td>6560.0</td>\n",
              "      <td>2.0</td>\n",
              "      <td>0.0</td>\n",
              "      <td>0.0</td>\n",
              "      <td>3.0</td>\n",
              "      <td>7.0</td>\n",
              "      <td>1890.0</td>\n",
              "      <td>0.0</td>\n",
              "      <td>2003</td>\n",
              "      <td>0</td>\n",
              "      <td>98038.0</td>\n",
              "      <td>323000.0</td>\n",
              "    </tr>\n",
              "    <tr>\n",
              "      <th>10</th>\n",
              "      <td>3.0</td>\n",
              "      <td>2.50</td>\n",
              "      <td>3560.0</td>\n",
              "      <td>9796.0</td>\n",
              "      <td>1.0</td>\n",
              "      <td>0.0</td>\n",
              "      <td>0.0</td>\n",
              "      <td>3.0</td>\n",
              "      <td>8.0</td>\n",
              "      <td>1860.0</td>\n",
              "      <td>1700.0</td>\n",
              "      <td>1965</td>\n",
              "      <td>0</td>\n",
              "      <td>98007.0</td>\n",
              "      <td>662500.0</td>\n",
              "    </tr>\n",
              "  </tbody>\n",
              "</table>\n",
              "</div>"
            ],
            "text/plain": [
              "    bedrooms  bathrooms  sqft_living  ...  yr_renovated  zipcode     price\n",
              "1        3.0       2.25       2570.0  ...          1991  98125.0  538000.0\n",
              "4        3.0       2.00       1680.0  ...             0  98074.0  510000.0\n",
              "6        3.0       2.25       1715.0  ...             0  98003.0  257500.0\n",
              "9        3.0       2.50       1890.0  ...             0  98038.0  323000.0\n",
              "10       3.0       2.50       3560.0  ...             0  98007.0  662500.0\n",
              "\n",
              "[5 rows x 15 columns]"
            ]
          },
          "metadata": {
            "tags": []
          },
          "execution_count": 8
        }
      ]
    },
    {
      "cell_type": "code",
      "metadata": {
        "id": "dZNMBr-7BI8O"
      },
      "source": [
        "from sklearn import linear_model\n",
        "from sklearn.metrics import mean_absolute_error\n",
        "from sklearn.metrics import r2_score\n",
        "from sklearn.model_selection import train_test_split\n",
        "from sklearn import datasets, linear_model, metrics\n",
        "import matplotlib.pyplot as plt  # To visualize\n",
        "\n",
        "import numpy as np\n",
        "import pandas as pd"
      ],
      "execution_count": null,
      "outputs": []
    },
    {
      "cell_type": "code",
      "metadata": {
        "id": "CnW_QD5QCIUL",
        "outputId": "1fd88050-78c3-48f9-a799-ec6308e7aade",
        "colab": {
          "base_uri": "https://localhost:8080/",
          "height": 52
        }
      },
      "source": [
        "features= ['bedrooms','bathrooms','sqft_living','sqft_lot','floors','waterfront','view','condition','grade','sqft_above','sqft_basement','yr_built','yr_renovated','zipcode']\n",
        "\n",
        "X = temp_df[features]\n",
        "Y = temp_df['price']\n",
        "\n",
        "x_train, x_test, y_train, y_test = train_test_split(X, Y, test_size=0.3, random_state=42)\n",
        "\n",
        "print(\"number of test samples :\", x_test.shape[0])\n",
        "print(\"number of training samples:\",x_train.shape[0])"
      ],
      "execution_count": null,
      "outputs": [
        {
          "output_type": "stream",
          "text": [
            "number of test samples : 1851\n",
            "number of training samples: 4317\n"
          ],
          "name": "stdout"
        }
      ]
    },
    {
      "cell_type": "code",
      "metadata": {
        "id": "Xr0ArDLcEng7",
        "outputId": "3257277e-0b07-40a4-8ed7-25a530971c80",
        "colab": {
          "base_uri": "https://localhost:8080/",
          "height": 52
        }
      },
      "source": [
        "from sklearn import linear_model\n",
        "reg = linear_model.LinearRegression()\n",
        "reg.fit(X, Y)\n",
        "\n",
        "model = reg.fit(x_train, y_train)\n",
        "predictions = model.predict(x_train)\n",
        "\n",
        "print('R^2 score (train):', r2_score(y_train, predictions))\n",
        "\n",
        "testpredictions = model.predict(x_test)\n",
        "print('R^2 score (test):', r2_score(y_test, testpredictions))"
      ],
      "execution_count": null,
      "outputs": [
        {
          "output_type": "stream",
          "text": [
            "R^2 score (train): 0.6729018394792141\n",
            "R^2 score (test): 0.6684300393133107\n"
          ],
          "name": "stdout"
        }
      ]
    },
    {
      "cell_type": "markdown",
      "metadata": {
        "id": "oWYNI8ahV_tr"
      },
      "source": [
        "## Question 4.4 (8 points)\n",
        "\n",
        "Use `df` to create a train/test split with `test_size=0.30` and `random_state=42`. Use the following imputation methods to fill in all NaN values for the obtained training set.\n",
        "- mean (using [SimpleImputer](https://scikit-learn.org/stable/modules/generated/sklearn.impute.SimpleImputer.html#sklearn.impute.SimpleImputer))\n",
        "- median (using [SimpleImputer](https://scikit-learn.org/stable/modules/generated/sklearn.impute.SimpleImputer.html#sklearn.impute.SimpleImputer))\n",
        "- most_frequent (using [SimpleImputer](https://scikit-learn.org/stable/modules/generated/sklearn.impute.SimpleImputer.html#sklearn.impute.SimpleImputer))\n",
        "- k-Nearest Neighbors (using [KNNImputer](https://scikit-learn.org/stable/modules/generated/sklearn.impute.KNNImputer.html#sklearn.impute.KNNImputer)) - Run this four times with the value of `n_neighbors` = 2, 5, 10 and 20.\n",
        "\n",
        "For each method, impute the test set with the same imputer and print the test $R^2$ score obtained using a linear regression model. Which method gives the best result? What can you say from the result of a) SimpleImputer and b) KNNImputer?"
      ]
    },
    {
      "cell_type": "code",
      "metadata": {
        "id": "536o93jazMvS",
        "outputId": "2904d795-3079-4839-8009-3812fdd0e530",
        "colab": {
          "base_uri": "https://localhost:8080/",
          "height": 52
        }
      },
      "source": [
        "X = df.drop(['price'], axis = 1)\n",
        "Y = df['price'].values\n",
        "\n",
        "\n",
        "from sklearn.model_selection import train_test_split\n",
        "from sklearn.metrics import r2_score\n",
        "\n",
        "x_train, x_test, y_train, y_test = train_test_split(X, Y, test_size = 0.3, random_state = 42)\n",
        "\n",
        "#using mean \n",
        "from sklearn.impute import SimpleImputer\n",
        "imp_mean = SimpleImputer(missing_values = np.nan, strategy = 'mean')\n",
        "imp_mean.fit(x_train, y_train)\n",
        "x_tr_mean = imp_mean.transform(x_train)\n",
        "x_te_mean = imp_mean.transform(x_test)\n",
        "\n",
        "model_mean = reg.fit(x_tr_mean, y_train)\n",
        "predictions_mean = model_mean.predict(x_tr_mean)\n",
        "\n",
        "print('R^2 score (train) via mean:', r2_score(y_train, predictions_mean))\n",
        "\n",
        "testpredictions_mean = model_mean.predict(x_te_mean)\n",
        "print('R^2 score (test) via mean:', r2_score(y_test, testpredictions_mean))\n",
        "\n"
      ],
      "execution_count": null,
      "outputs": [
        {
          "output_type": "stream",
          "text": [
            "R^2 score (train) via mean: 0.6236344515372277\n",
            "R^2 score (test) via mean: 0.6285746671688925\n"
          ],
          "name": "stdout"
        }
      ]
    },
    {
      "cell_type": "code",
      "metadata": {
        "id": "1P3dK-pE456e",
        "outputId": "91089a00-7a21-47f9-c1d0-8398ae552092",
        "colab": {
          "base_uri": "https://localhost:8080/",
          "height": 52
        }
      },
      "source": [
        "#using median \n",
        "from sklearn.impute import SimpleImputer\n",
        "imp_median = SimpleImputer(missing_values = np.nan, strategy = 'median')\n",
        "imp_median.fit(x_train, y_train)\n",
        "x_tr_median = imp_median.transform(x_train)\n",
        "x_te_median = imp_median.transform(x_test)\n",
        "\n",
        "model_median = reg.fit(x_tr_median, y_train)\n",
        "predictions_median = model.predict(x_tr_median)\n",
        "\n",
        "print('R^2 score (train) via median:', r2_score(y_train, predictions_median))\n",
        "\n",
        "testpredictions_median = model_median.predict(x_te_median)\n",
        "print('R^2 score (test) via median:', r2_score(y_test, testpredictions_median))\n"
      ],
      "execution_count": null,
      "outputs": [
        {
          "output_type": "stream",
          "text": [
            "R^2 score (train) via median: 0.6179625709262766\n",
            "R^2 score (test) via median: 0.6230398349541966\n"
          ],
          "name": "stdout"
        }
      ]
    },
    {
      "cell_type": "code",
      "metadata": {
        "id": "_C_XmxQa4-L4",
        "outputId": "43711208-73f2-4987-cbaa-9f376b2cd5b0",
        "colab": {
          "base_uri": "https://localhost:8080/",
          "height": 52
        }
      },
      "source": [
        "#most frequent\n",
        "\n",
        "\n",
        "from sklearn.impute import SimpleImputer\n",
        "imp_mf = SimpleImputer(missing_values = np.nan, strategy = 'most_frequent')\n",
        "imp_mf.fit(x_train, y_train)\n",
        "x_tr_mf = imp_mf.transform(x_train)\n",
        "x_te_mf = imp_mf.transform(x_test)\n",
        "\n",
        "model_mf = reg.fit(x_tr_mf, y_train)\n",
        "predictions_mf = model_mf.predict(x_tr_mf)\n",
        "\n",
        "print('R^2 score (train) via most_frequent:', r2_score(y_train, predictions_mf))\n",
        "\n",
        "testpredictions_mf = model_mf.predict(x_te_mf)\n",
        "print('R^2 score (test) via most_frequent:', r2_score(y_test, testpredictions_mf))\n"
      ],
      "execution_count": null,
      "outputs": [
        {
          "output_type": "stream",
          "text": [
            "R^2 score (train) via most_frequent: 0.6114718373287964\n",
            "R^2 score (test) via most_frequent: 0.6181371912459184\n"
          ],
          "name": "stdout"
        }
      ]
    },
    {
      "cell_type": "markdown",
      "metadata": {
        "id": "VUq_3ayU56Ny"
      },
      "source": [
        "### Running KNN with values of 2, 5, 10, 20"
      ]
    },
    {
      "cell_type": "code",
      "metadata": {
        "id": "_nx16fHh88ry"
      },
      "source": [
        "from sklearn.impute import KNNImputer"
      ],
      "execution_count": null,
      "outputs": []
    },
    {
      "cell_type": "code",
      "metadata": {
        "id": "2jx7plUE46sG",
        "outputId": "0867a0ea-0c3d-4e1c-d6a2-31c0f0553a74",
        "colab": {
          "base_uri": "https://localhost:8080/",
          "height": 52
        }
      },
      "source": [
        "# Running with value of 2\n",
        "\n",
        "imp_knn2 = KNNImputer(n_neighbors = 2)\n",
        "imp_knn2.fit(x_train, y_train)\n",
        "x_train_knn2 = imp_knn2.transform(x_train)\n",
        "x_test_knn2 = imp_knn2.transform(x_test)\n",
        "\n",
        "model_knn2 = reg.fit(x_train_knn2, y_train)\n",
        "predictions_knn2 = model_knn2.predict(x_train_knn2)\n",
        "\n",
        "#Print out R^2 for Train and Test scores\n",
        "\n",
        "\n",
        "print('R^2 score (train) -> knn = 2:', r2_score(y_train, predictions_knn2))\n",
        "\n",
        "testpredictions_knn2 = model_knn2.predict(x_test_knn2)\n",
        "print('R^2 score (test) -> knn = 2:', r2_score(y_test, testpredictions_knn2))\n"
      ],
      "execution_count": null,
      "outputs": [
        {
          "output_type": "stream",
          "text": [
            "R^2 score (train) -> knn = 2: 0.6219056540281792\n",
            "R^2 score (test) -> knn = 2: 0.6254974277687843\n"
          ],
          "name": "stdout"
        }
      ]
    },
    {
      "cell_type": "code",
      "metadata": {
        "id": "nPWL_83G5_s4",
        "outputId": "b2c32373-cc54-4005-ca0a-77994397ca24",
        "colab": {
          "base_uri": "https://localhost:8080/",
          "height": 52
        }
      },
      "source": [
        "# Running with value of 5\n",
        "\n",
        "\n",
        "imp_knn5 = KNNImputer(n_neighbors = 5)\n",
        "imp_knn5.fit(x_train, y_train)\n",
        "\n",
        "x_train_knn5 = imp_knn5.transform(x_train)\n",
        "x_test_knn5 = imp_knn5.transform(x_test)\n",
        "\n",
        "model_knn5 = reg.fit(x_train_knn5, y_train)\n",
        "predictions_knn5 = model_knn5.predict(x_train_knn5)\n",
        "\n",
        "#Print out R^2 for Train and Test scores\n",
        "\n",
        "print('R^2 score (train) -> knn = 5:', r2_score(y_train, predictions_knn5))\n",
        "\n",
        "testpredictions_knn5 = model_knn5.predict(x_test_knn5)\n",
        "print('R^2 score (test) -> knn = 5:', r2_score(y_test, testpredictions_knn5))\n"
      ],
      "execution_count": null,
      "outputs": [
        {
          "output_type": "stream",
          "text": [
            "R^2 score (train) -> knn = 5: 0.6287662921878876\n",
            "R^2 score (test) -> knn = 5: 0.6327204349424633\n"
          ],
          "name": "stdout"
        }
      ]
    },
    {
      "cell_type": "code",
      "metadata": {
        "id": "vQkuP5y55_8P",
        "outputId": "9f8e3e1a-f486-47e3-fba8-4b510deba3e5",
        "colab": {
          "base_uri": "https://localhost:8080/",
          "height": 52
        }
      },
      "source": [
        "# Running with value of 10\n",
        "\n",
        "imp_knn10 = KNNImputer(n_neighbors = 10)\n",
        "imp_knn10.fit(x_train, y_train)\n",
        "\n",
        "x_train_knn10 = imp_knn10.transform(x_train)\n",
        "x_test_knn10 = imp_knn10.transform(x_test)\n",
        "\n",
        "model_knn10 = reg.fit(x_train_knn10, y_train)\n",
        "predictions_knn10 = model_knn10.predict(x_train_knn10)\n",
        "\n",
        "#Print out R^2 for Train and Test scores\n",
        "\n",
        "\n",
        "print('R^2 score (train) -> knn = 10:', r2_score(y_train, predictions_knn10))\n",
        "\n",
        "testpredictions_knn10 = model_knn10.predict(x_test_knn10)\n",
        "print('R^2 score (test) -> knn = 10:', r2_score(y_test, testpredictions_knn10))\n"
      ],
      "execution_count": null,
      "outputs": [
        {
          "output_type": "stream",
          "text": [
            "R^2 score (train) -> knn = 10: 0.6311280286036652\n",
            "R^2 score (test) -> knn = 10: 0.6342207967026731\n"
          ],
          "name": "stdout"
        }
      ]
    },
    {
      "cell_type": "code",
      "metadata": {
        "id": "aRoh1iJC6AYa",
        "outputId": "d31b09e2-77a7-4fdb-fa9e-e7283016d9e3",
        "colab": {
          "base_uri": "https://localhost:8080/",
          "height": 52
        }
      },
      "source": [
        "# Running with value of 20\n",
        "\n",
        "imp_knn20 = KNNImputer(n_neighbors = 20)\n",
        "imp_knn20.fit(x_train, y_train)\n",
        "x_train_knn20 = imp_knn20.transform(x_train)\n",
        "x_test_knn20 = imp_knn20.transform(x_test)\n",
        "\n",
        "model_knn20 = reg.fit(x_train_knn20, y_train)\n",
        "predictions_knn20 = model_knn20.predict(x_train_knn20)\n",
        "\n",
        "print('R^2 score (train) -> knn = 20:', r2_score(y_train, predictions_knn20))\n",
        "\n",
        "testpredictions_knn20 = model_knn20.predict(x_test_knn20)\n",
        "print('R^2 score (test) -> knn = 20:', r2_score(y_test, testpredictions_knn20))\n"
      ],
      "execution_count": null,
      "outputs": [
        {
          "output_type": "stream",
          "text": [
            "R^2 score (train) -> knn = 20: 0.6325970158776725\n",
            "R^2 score (test) -> knn = 20: 0.6363990878553708\n"
          ],
          "name": "stdout"
        }
      ]
    },
    {
      "cell_type": "markdown",
      "metadata": {
        "id": "H16RQj2YAUmc"
      },
      "source": [
        "**Notes**\n",
        "\n",
        "Comparing SimpleImputer vs KNNImputer:\n",
        "\n",
        "The KNNImputer seems to work just a little bit better than SimpleImputer.\n",
        "\n",
        "Most R^2 scores for KNN Imputer were around .62-.63 values compared to .61 for SimpleImputer\n",
        "\n",
        "Overall, results are very close to each other for the different methods.bold text"
      ]
    },
    {
      "cell_type": "markdown",
      "metadata": {
        "id": "3zBQJ7QYV_tu"
      },
      "source": [
        "## Question 4.5 (2 points)\n",
        "In Questions 4.3 and 4.4, when you dropped all rows containing any null value, you obtained better $R^2$ score than when you imputed the missing values. What can be some possible reasons behind this?"
      ]
    },
    {
      "cell_type": "markdown",
      "metadata": {
        "id": "am2bG4Jj6KMz"
      },
      "source": [
        "When comparing imputing versus dropping there are certain possibilities:\n",
        "* There are only a minimal amount of rows with missing values in them so it does not impact the R^2 values heavily. This way if we end up dropping the rows with missing values it is a better alternative than filling them with imputed values for them. The scores were better for 4.3 compared to 4.4 scores.\n",
        "\n",
        "."
      ]
    },
    {
      "cell_type": "markdown",
      "metadata": {
        "id": "G35ZNlcnV_tx"
      },
      "source": [
        "# Question 5: Supplementary Notes (10 points)\n",
        "Visit the [Supplementary Notes website](https://ideal-ut.github.io/APM-2020/). Read the notes written by your peers from both sections (first 6 topics/lectures only, i.e. up to \"gradient descent\"). Select the note that you liked the most and write the following:\n",
        "- Identify the note. (e.g., If you liked the note from Section A for topic 1, write 1A).\n",
        "- Write one-two paragraphs on why you liked your selection the most and what you learnt from it.\n",
        "- Also write a short paragraph on how you think this note can be further improved."
      ]
    },
    {
      "cell_type": "markdown",
      "metadata": {
        "id": "4t-2cMWr5mCB"
      },
      "source": [
        "Note 2A\n",
        "[link text](https://ideal-ut.github.io/APM-2020/docs/sec-a/a-2-mlr)"
      ]
    },
    {
      "cell_type": "markdown",
      "metadata": {
        "id": "R7nSOXGj50jq"
      },
      "source": [
        "The notes provided in this section were covered on MSE, MLE and Adjusted R-square\n",
        "\n",
        "The group made an approach to divide the notes into a overview of what is to be covered and then given a deeper view into each section. This allowed to get a high level understanding of the topic and then get a deeper understanding to fill in the gaps in knowledge.\n",
        "\n",
        "They also added some thought provoking quotes from an insightful article which gave actionable tips to continue the search to understand about more deeper topics. \n",
        "\n",
        "Their use of adding formulas with explanations helps make the math more manageable as not everyone has the complex level of understanding of the mathematics behind the concepts.\n",
        "\n",
        "One thing to improve the notes would be to add links to some vidoes or example code to do complete walkthoughs for a beginner to understand but other than that they did a pretty good job."
      ]
    },
    {
      "cell_type": "markdown",
      "metadata": {
        "id": "dOsASwfI628a"
      },
      "source": [
        "## END"
      ]
    }
  ]
}