{
  "nbformat": 4,
  "nbformat_minor": 0,
  "metadata": {
    "colab": {
      "name": "Edmunds Forum Scraping Final Version - Text Analytics",
      "provenance": [],
      "collapsed_sections": [
        "UMoy-dwpcrOB",
        "h3Gi18klnxpe",
        "vxtJYDJwoPQ-",
        "c_RMmfiLowXp",
        "1_Txoek7pra5",
        "g1QMIzS2p7T7",
        "bYkU8p8TsEq_",
        "m3LQwB-WtW4n",
        "dKvhLVDwdetK",
        "MGkpzOvD7-0t"
      ]
    },
    "kernelspec": {
      "name": "python3",
      "display_name": "Python 3"
    }
  },
  "cells": [
    {
      "cell_type": "markdown",
      "metadata": {
        "id": "MWGFbFYBgP2u"
      },
      "source": [
        "# Assignment 1:Edmunds Text Analysis\n",
        "\n",
        "#**Authors**:\n",
        "\n",
        "##Matthew Leong - 8:30 section \n",
        "##Chirag Ramesh - 8:30 section\n",
        "##David Cruz - 10:30 Section \n",
        "##Grayson Taylor - 8:30 section\n",
        "##Sidd Chauhan  - 8:30 section"
      ]
    },
    {
      "cell_type": "markdown",
      "metadata": {
        "id": "epQFDC3dcikQ"
      },
      "source": [
        "# Web Scraping"
      ]
    },
    {
      "cell_type": "code",
      "metadata": {
        "id": "ZFCzyAJQRJxd",
        "colab": {
          "base_uri": "https://localhost:8080/",
          "height": 1000
        },
        "outputId": "9578f6a6-1e76-41af-975c-33309773a2ef"
      },
      "source": [
        "# Use this code if using Colab to run Selenium\n",
        "\n",
        "# Make sure to go to Runtime -> Change runtime type and select Python 3 as runtime type and GPU as hardware accelerator\n",
        "\n",
        "# !kill -9 -1 # Use this line to delete this VM and start a new one. \n",
        "# The above line deletes all files and folders from the current VM and allocates a new one.\n",
        "\n",
        "!pip install selenium\n",
        "!apt-get -q update # to update ubuntu to correctly run apt install\n",
        "!apt install -yq chromium-chromedriver\n",
        "!cp /usr/lib/chromium-browser/chromedriver /usr/bin\n",
        "\n",
        "import sys\n",
        "sys.path.insert(0,'/usr/lib/chromium-browser/chromedriver')\n",
        "from selenium import webdriver\n",
        "chrome_options = webdriver.ChromeOptions()\n",
        "chrome_options.add_argument('--headless')\n",
        "chrome_options.add_argument('--no-sandbox')\n",
        "chrome_options.add_argument('--disable-dev-shm-usage')"
      ],
      "execution_count": null,
      "outputs": [
        {
          "output_type": "stream",
          "text": [
            "Collecting selenium\n",
            "\u001b[?25l  Downloading https://files.pythonhosted.org/packages/80/d6/4294f0b4bce4de0abf13e17190289f9d0613b0a44e5dd6a7f5ca98459853/selenium-3.141.0-py2.py3-none-any.whl (904kB)\n",
            "\u001b[K     |████████████████████████████████| 911kB 2.0MB/s \n",
            "\u001b[?25hRequirement already satisfied: urllib3 in /usr/local/lib/python3.6/dist-packages (from selenium) (1.24.3)\n",
            "Installing collected packages: selenium\n",
            "Successfully installed selenium-3.141.0\n",
            "Get:1 http://security.ubuntu.com/ubuntu bionic-security InRelease [88.7 kB]\n",
            "Ign:2 https://developer.download.nvidia.com/compute/cuda/repos/ubuntu1804/x86_64  InRelease\n",
            "Hit:3 http://ppa.launchpad.net/graphics-drivers/ppa/ubuntu bionic InRelease\n",
            "Ign:4 https://developer.download.nvidia.com/compute/machine-learning/repos/ubuntu1804/x86_64  InRelease\n",
            "Hit:5 https://developer.download.nvidia.com/compute/cuda/repos/ubuntu1804/x86_64  Release\n",
            "Hit:6 https://developer.download.nvidia.com/compute/machine-learning/repos/ubuntu1804/x86_64  Release\n",
            "Hit:7 http://archive.ubuntu.com/ubuntu bionic InRelease\n",
            "Get:8 http://ppa.launchpad.net/marutter/c2d4u3.5/ubuntu bionic InRelease [15.4 kB]\n",
            "Get:9 http://archive.ubuntu.com/ubuntu bionic-updates InRelease [88.7 kB]\n",
            "Get:10 https://cloud.r-project.org/bin/linux/ubuntu bionic-cran35/ InRelease [3,626 B]\n",
            "Get:11 http://security.ubuntu.com/ubuntu bionic-security/main amd64 Packages [1,094 kB]\n",
            "Get:12 http://security.ubuntu.com/ubuntu bionic-security/universe amd64 Packages [903 kB]\n",
            "Get:13 http://archive.ubuntu.com/ubuntu bionic-backports InRelease [74.6 kB]\n",
            "Get:16 http://ppa.launchpad.net/marutter/c2d4u3.5/ubuntu bionic/main Sources [1,868 kB]\n",
            "Get:17 http://archive.ubuntu.com/ubuntu bionic-updates/universe amd64 Packages [1,430 kB]\n",
            "Get:18 http://archive.ubuntu.com/ubuntu bionic-updates/main amd64 Packages [1,386 kB]\n",
            "Get:19 http://ppa.launchpad.net/marutter/c2d4u3.5/ubuntu bionic/main amd64 Packages [901 kB]\n",
            "Fetched 7,854 kB in 3s (2,374 kB/s)\n",
            "Reading package lists...\n",
            "Reading package lists...\n",
            "Building dependency tree...\n",
            "Reading state information...\n",
            "The following additional packages will be installed:\n",
            "  chromium-browser chromium-browser-l10n chromium-codecs-ffmpeg-extra\n",
            "Suggested packages:\n",
            "  webaccounts-chromium-extension unity-chromium-extension adobe-flashplugin\n",
            "The following NEW packages will be installed:\n",
            "  chromium-browser chromium-browser-l10n chromium-chromedriver\n",
            "  chromium-codecs-ffmpeg-extra\n",
            "0 upgraded, 4 newly installed, 0 to remove and 37 not upgraded.\n",
            "Need to get 79.2 MB of archives.\n",
            "After this operation, 268 MB of additional disk space will be used.\n",
            "Get:1 http://archive.ubuntu.com/ubuntu bionic-updates/universe amd64 chromium-codecs-ffmpeg-extra amd64 85.0.4183.83-0ubuntu0.18.04.2 [1,118 kB]\n",
            "Get:2 http://archive.ubuntu.com/ubuntu bionic-updates/universe amd64 chromium-browser amd64 85.0.4183.83-0ubuntu0.18.04.2 [70.3 MB]\n",
            "Get:3 http://archive.ubuntu.com/ubuntu bionic-updates/universe amd64 chromium-browser-l10n all 85.0.4183.83-0ubuntu0.18.04.2 [3,431 kB]\n",
            "Get:4 http://archive.ubuntu.com/ubuntu bionic-updates/universe amd64 chromium-chromedriver amd64 85.0.4183.83-0ubuntu0.18.04.2 [4,412 kB]\n",
            "Fetched 79.2 MB in 3s (23.4 MB/s)\n",
            "Selecting previously unselected package chromium-codecs-ffmpeg-extra.\n",
            "(Reading database ... 144600 files and directories currently installed.)\n",
            "Preparing to unpack .../chromium-codecs-ffmpeg-extra_85.0.4183.83-0ubuntu0.18.04.2_amd64.deb ...\n",
            "Unpacking chromium-codecs-ffmpeg-extra (85.0.4183.83-0ubuntu0.18.04.2) ...\n",
            "Selecting previously unselected package chromium-browser.\n",
            "Preparing to unpack .../chromium-browser_85.0.4183.83-0ubuntu0.18.04.2_amd64.deb ...\n",
            "Unpacking chromium-browser (85.0.4183.83-0ubuntu0.18.04.2) ...\n",
            "Selecting previously unselected package chromium-browser-l10n.\n",
            "Preparing to unpack .../chromium-browser-l10n_85.0.4183.83-0ubuntu0.18.04.2_all.deb ...\n",
            "Unpacking chromium-browser-l10n (85.0.4183.83-0ubuntu0.18.04.2) ...\n",
            "Selecting previously unselected package chromium-chromedriver.\n",
            "Preparing to unpack .../chromium-chromedriver_85.0.4183.83-0ubuntu0.18.04.2_amd64.deb ...\n",
            "Unpacking chromium-chromedriver (85.0.4183.83-0ubuntu0.18.04.2) ...\n",
            "Setting up chromium-codecs-ffmpeg-extra (85.0.4183.83-0ubuntu0.18.04.2) ...\n",
            "Setting up chromium-browser (85.0.4183.83-0ubuntu0.18.04.2) ...\n",
            "update-alternatives: using /usr/bin/chromium-browser to provide /usr/bin/x-www-browser (x-www-browser) in auto mode\n",
            "update-alternatives: using /usr/bin/chromium-browser to provide /usr/bin/gnome-www-browser (gnome-www-browser) in auto mode\n",
            "Setting up chromium-chromedriver (85.0.4183.83-0ubuntu0.18.04.2) ...\n",
            "Setting up chromium-browser-l10n (85.0.4183.83-0ubuntu0.18.04.2) ...\n",
            "Processing triggers for hicolor-icon-theme (0.17-2) ...\n",
            "Processing triggers for mime-support (3.60ubuntu1) ...\n",
            "Processing triggers for man-db (2.8.3-2ubuntu0.1) ...\n",
            "cp: '/usr/lib/chromium-browser/chromedriver' and '/usr/bin/chromedriver' are the same file\n"
          ],
          "name": "stdout"
        }
      ]
    },
    {
      "cell_type": "code",
      "metadata": {
        "id": "RG_EjfQfRLpK"
      },
      "source": [
        "#Importing packages for later\n",
        "import numpy as np\n",
        "import pandas as pd\n",
        "import matplotlib.pyplot as plt\n",
        "from sklearn import manifold\n",
        "from matplotlib.font_manager import FontProperties\n",
        "import re\n",
        "driver = webdriver.Chrome('chromedriver', options=chrome_options)\n"
      ],
      "execution_count": null,
      "outputs": []
    },
    {
      "cell_type": "code",
      "metadata": {
        "id": "4xUrlecmRLYm"
      },
      "source": [
        "#Creating the url list\n",
        "url_list = []\n",
        "\n",
        "#create the base url\n",
        "url = 'https://forums.edmunds.com/discussion/8/general/x/car-commercials-the-good-the-bad-and-the-annoying'\n",
        "\n",
        "#Append it to the list\n",
        "url_list.append(url)\n",
        "\n",
        "#Aim to get all of the urls\n",
        "#168 is the end value cause Python counts weird.\n",
        "#We start at 2 in the range cause the first page is just the base url\n",
        "for i in range(2, 168):\n",
        "  #make the page url to append.\n",
        "  #This works by concatenating strings.\n",
        "  #str(i) converts the i which is an integer into a string for concatenation\n",
        "  url2 = url + '/p' + str(i)\n",
        "  #Append this url to the url_list\n",
        "  url_list.append(url2)"
      ],
      "execution_count": null,
      "outputs": []
    },
    {
      "cell_type": "code",
      "metadata": {
        "id": "3NzFH9wGRLWu"
      },
      "source": [
        "#Function to do so.\n",
        "#Running the double for loop in multiple increments to avoid overloading chrome driver.\n",
        "def append_to_comments(df, url_list):\n",
        "  comments = df\n",
        "  for url_i in url_list:\n",
        "    #Uses selenium webdriver to create a driver object.\n",
        "    driver = webdriver.Chrome('chromedriver', options=chrome_options)\n",
        "\n",
        "    #Use object methods to get the url. \n",
        "    driver.get(url_i)\n",
        "\n",
        "    #Get the ids for the for loop.\n",
        "    ids = driver.find_elements_by_xpath(\"//*[contains(@id,'Comment_')]\")\n",
        "\n",
        "    comment_ids = []\n",
        "    for i in ids:\n",
        "      comment_ids.append(i.get_attribute('id'))\n",
        "\n",
        "    for x in comment_ids:\n",
        "      #Extract dates from for each user on a page\n",
        "      user_date = driver.find_elements_by_xpath('//*[@id=\"' + x +'\"]/div/div[2]/div[2]/span[1]/a/time')[0]\n",
        "      date = user_date.get_attribute('title')\n",
        "\n",
        "      #Extract user ids from each user on a page\n",
        "      userid_element = driver.find_elements_by_xpath('//*[@id=\"' + x +'\"]/div/div[2]/div[1]/span[1]/a[2]')[0]\n",
        "      userid = userid_element.text\n",
        "\n",
        "      #Extract Message for each user on a page\n",
        "      user_message = driver.find_elements_by_xpath('//*[@id=\"' + x +'\"]/div/div[3]/div/div[1]')[0]\n",
        "      comment = user_message.text\n",
        "                                    \n",
        "      #Adding date, userid and comment for each user in a dataframe    \n",
        "      comments.loc[len(comments)] = [date,userid,comment]\n",
        "  return comments"
      ],
      "execution_count": null,
      "outputs": []
    },
    {
      "cell_type": "code",
      "metadata": {
        "id": "eZTqEcstRLS5"
      },
      "source": [
        "#Function to do so.\n",
        "#Running the double for loop in multiple increments to avoid overloading chrome driver.\n",
        "def append_to_comments(df, url_list):\n",
        "  comments = df\n",
        "  for url_i in url_list:\n",
        "    #Uses selenium webdriver to create a driver object.\n",
        "    driver = webdriver.Chrome('chromedriver', options=chrome_options)\n",
        "\n",
        "    #Use object methods to get the url. \n",
        "    driver.get(url_i)\n",
        "\n",
        "    #Get the ids for the for loop.\n",
        "    ids = driver.find_elements_by_xpath(\"//*[contains(@id,'Comment_')]\")\n",
        "\n",
        "    comment_ids = []\n",
        "    for i in ids:\n",
        "      comment_ids.append(i.get_attribute('id'))\n",
        "\n",
        "    for x in comment_ids:\n",
        "      #Extract dates from for each user on a page\n",
        "      user_date = driver.find_elements_by_xpath('//*[@id=\"' + x +'\"]/div/div[2]/div[2]/span[1]/a/time')[0]\n",
        "      date = user_date.get_attribute('title')\n",
        "\n",
        "      #Extract user ids from each user on a page\n",
        "      userid_element = driver.find_elements_by_xpath('//*[@id=\"' + x +'\"]/div/div[2]/div[1]/span[1]/a[2]')[0]\n",
        "      userid = userid_element.text\n",
        "\n",
        "      #Extract Message for each user on a page\n",
        "      user_message = driver.find_elements_by_xpath('//*[@id=\"' + x +'\"]/div/div[3]/div/div[1]')[0]\n",
        "      comment = user_message.text\n",
        "                                    \n",
        "      #Adding date, userid and comment for each user in a dataframe    \n",
        "      comments.loc[len(comments)] = [date,userid,comment]\n",
        "  return comments"
      ],
      "execution_count": null,
      "outputs": []
    },
    {
      "cell_type": "code",
      "metadata": {
        "id": "zIkwMcuzRLMu"
      },
      "source": [
        "#Create an empty data frame\n",
        "comments = pd.DataFrame(columns = ['Date','user_id','comments']) "
      ],
      "execution_count": null,
      "outputs": []
    },
    {
      "cell_type": "code",
      "metadata": {
        "id": "QVlAX5kyXi1y"
      },
      "source": [
        "#Can't run the entire list because that certain pages make selenium time out.\n",
        "#We decided to do the most recent comments. So we start on page 67.\n",
        "url_list1 = url_list[67:135]\n",
        "#Page 135 is excluded due to timing out issues\n",
        "#Get pages 136-167\n",
        "url_list2 = url_list[135:168]\n",
        "\n",
        "#url_list3 = url_list[50:75]\n",
        "#url_list4 = url_list[75:100]"
      ],
      "execution_count": null,
      "outputs": []
    },
    {
      "cell_type": "code",
      "metadata": {
        "id": "H8pecgCbRK91"
      },
      "source": [
        "#Get pages 67-134 onto the comment dataframe.\n",
        "comments = append_to_comments(comments,url_list1)"
      ],
      "execution_count": null,
      "outputs": []
    },
    {
      "cell_type": "code",
      "metadata": {
        "id": "wCNjxYqmXK9T"
      },
      "source": [
        "#Skip page 135\n",
        "#Get pages 136-167 into the comment dataframe\n",
        "comments = append_to_comments(comments,url_list2)"
      ],
      "execution_count": null,
      "outputs": []
    },
    {
      "cell_type": "code",
      "metadata": {
        "id": "rq-bow-YXo86"
      },
      "source": [
        "#Result from scraping pages 1-26. Error on page 27.\n",
        "len(comments)"
      ],
      "execution_count": null,
      "outputs": []
    },
    {
      "cell_type": "code",
      "metadata": {
        "id": "SM7Hxr5wXpDb"
      },
      "source": [
        "#Optional line to rename the user_id to username: comments = comments.rename(columns = {'user_id': 'username'})\n",
        "#rename the index to ID. Yes this is necessary for later.\n",
        "comments.index.name = \"ID\"\n",
        "comments.head()"
      ],
      "execution_count": null,
      "outputs": []
    },
    {
      "cell_type": "code",
      "metadata": {
        "id": "QuYL1NBwXozx"
      },
      "source": [
        "#Write scraping results to a csv\n",
        "comments.to_csv(\"scrape_results.csv\", sep=\"\\t\")\n",
        "!ls"
      ],
      "execution_count": null,
      "outputs": []
    },
    {
      "cell_type": "markdown",
      "metadata": {
        "id": "UMoy-dwpcrOB"
      },
      "source": [
        "# Text Analysis\n"
      ]
    },
    {
      "cell_type": "code",
      "metadata": {
        "id": "6kBCwYBLPATE",
        "colab": {
          "base_uri": "https://localhost:8080/",
          "height": 204
        },
        "outputId": "df962f9d-ac36-4cb8-ee1c-e8b02791a6da"
      },
      "source": [
        "import pandas as pd\n",
        "df = pd.read_csv('scrape_results.csv',sep='\\t')\n",
        "#See if can read the file back. It does work\n",
        "#There is an extra ID column\n",
        "#Line to remove extra column\n",
        "df = df.drop(columns = 'ID')\n",
        "#Display the head.\n",
        "df.head()"
      ],
      "execution_count": null,
      "outputs": [
        {
          "output_type": "execute_result",
          "data": {
            "text/html": [
              "<div>\n",
              "<style scoped>\n",
              "    .dataframe tbody tr th:only-of-type {\n",
              "        vertical-align: middle;\n",
              "    }\n",
              "\n",
              "    .dataframe tbody tr th {\n",
              "        vertical-align: top;\n",
              "    }\n",
              "\n",
              "    .dataframe thead th {\n",
              "        text-align: right;\n",
              "    }\n",
              "</style>\n",
              "<table border=\"1\" class=\"dataframe\">\n",
              "  <thead>\n",
              "    <tr style=\"text-align: right;\">\n",
              "      <th></th>\n",
              "      <th>Date</th>\n",
              "      <th>user_id</th>\n",
              "      <th>comments</th>\n",
              "    </tr>\n",
              "  </thead>\n",
              "  <tbody>\n",
              "    <tr>\n",
              "      <th>0</th>\n",
              "      <td>June 29, 2000 9:33PM</td>\n",
              "      <td>bdreggors</td>\n",
              "      <td>One of my current favorites is the Lexus IS co...</td>\n",
              "    </tr>\n",
              "    <tr>\n",
              "      <th>1</th>\n",
              "      <td>June 30, 2000 2:14AM</td>\n",
              "      <td>markz2k</td>\n",
              "      <td>What's the deal with the Dog family in the Ody...</td>\n",
              "    </tr>\n",
              "    <tr>\n",
              "      <th>2</th>\n",
              "      <td>June 30, 2000 1:57PM</td>\n",
              "      <td>roadroach</td>\n",
              "      <td>The whole point of commercials is to get your ...</td>\n",
              "    </tr>\n",
              "    <tr>\n",
              "      <th>3</th>\n",
              "      <td>June 30, 2000 3:04PM</td>\n",
              "      <td>markz2k</td>\n",
              "      <td>Yeah, I agree the point is to get your attenti...</td>\n",
              "    </tr>\n",
              "    <tr>\n",
              "      <th>4</th>\n",
              "      <td>June 30, 2000 3:25PM</td>\n",
              "      <td>bdreggors</td>\n",
              "      <td>I've noticed two fallicies in Hodna commercial...</td>\n",
              "    </tr>\n",
              "  </tbody>\n",
              "</table>\n",
              "</div>"
            ],
            "text/plain": [
              "                   Date  ...                                           comments\n",
              "0  June 29, 2000 9:33PM  ...  One of my current favorites is the Lexus IS co...\n",
              "1  June 30, 2000 2:14AM  ...  What's the deal with the Dog family in the Ody...\n",
              "2  June 30, 2000 1:57PM  ...  The whole point of commercials is to get your ...\n",
              "3  June 30, 2000 3:04PM  ...  Yeah, I agree the point is to get your attenti...\n",
              "4  June 30, 2000 3:25PM  ...  I've noticed two fallicies in Hodna commercial...\n",
              "\n",
              "[5 rows x 3 columns]"
            ]
          },
          "metadata": {
            "tags": []
          },
          "execution_count": 1
        }
      ]
    },
    {
      "cell_type": "code",
      "metadata": {
        "id": "eUVZfBwVPr8l",
        "colab": {
          "base_uri": "https://localhost:8080/",
          "height": 204
        },
        "outputId": "d0a1aac4-1e17-4501-896a-cf5acd795ca4"
      },
      "source": [
        "car_df = pd.read_csv('car models and brands.csv', names = ['car_brand','car_model'])\n",
        "car_df.head()\n"
      ],
      "execution_count": null,
      "outputs": [
        {
          "output_type": "execute_result",
          "data": {
            "text/html": [
              "<div>\n",
              "<style scoped>\n",
              "    .dataframe tbody tr th:only-of-type {\n",
              "        vertical-align: middle;\n",
              "    }\n",
              "\n",
              "    .dataframe tbody tr th {\n",
              "        vertical-align: top;\n",
              "    }\n",
              "\n",
              "    .dataframe thead th {\n",
              "        text-align: right;\n",
              "    }\n",
              "</style>\n",
              "<table border=\"1\" class=\"dataframe\">\n",
              "  <thead>\n",
              "    <tr style=\"text-align: right;\">\n",
              "      <th></th>\n",
              "      <th>car_brand</th>\n",
              "      <th>car_model</th>\n",
              "    </tr>\n",
              "  </thead>\n",
              "  <tbody>\n",
              "    <tr>\n",
              "      <th>0</th>\n",
              "      <td>acura</td>\n",
              "      <td>integra</td>\n",
              "    </tr>\n",
              "    <tr>\n",
              "      <th>1</th>\n",
              "      <td>acura</td>\n",
              "      <td>legend</td>\n",
              "    </tr>\n",
              "    <tr>\n",
              "      <th>2</th>\n",
              "      <td>acura</td>\n",
              "      <td>vigor</td>\n",
              "    </tr>\n",
              "    <tr>\n",
              "      <th>3</th>\n",
              "      <td>acura</td>\n",
              "      <td>rlx</td>\n",
              "    </tr>\n",
              "    <tr>\n",
              "      <th>4</th>\n",
              "      <td>acura</td>\n",
              "      <td>ilx</td>\n",
              "    </tr>\n",
              "  </tbody>\n",
              "</table>\n",
              "</div>"
            ],
            "text/plain": [
              "  car_brand car_model\n",
              "0     acura   integra\n",
              "1     acura    legend\n",
              "2     acura     vigor\n",
              "3     acura       rlx\n",
              "4     acura       ilx"
            ]
          },
          "metadata": {
            "tags": []
          },
          "execution_count": 2
        }
      ]
    },
    {
      "cell_type": "code",
      "metadata": {
        "id": "m65Pb6NZBs9a",
        "colab": {
          "base_uri": "https://localhost:8080/",
          "height": 85
        },
        "outputId": "dfe3301e-7525-4605-f1a5-a30dc5663017"
      },
      "source": [
        "import numpy as np\n",
        "import re\n",
        "import nltk\n",
        "nltk.download('stopwords')\n",
        "nltk.download('punkt')\n",
        "from nltk.corpus import stopwords\n",
        "from nltk.probability import FreqDist\n",
        "\n",
        "from nltk import pos_tag, word_tokenize\n",
        "from nltk.stem.porter import PorterStemmer\n",
        "import matplotlib.pyplot as plt\n",
        "\n",
        "from sklearn.manifold import MDS\n",
        "from sklearn.metrics import euclidean_distances\n"
      ],
      "execution_count": null,
      "outputs": [
        {
          "output_type": "stream",
          "text": [
            "[nltk_data] Downloading package stopwords to /root/nltk_data...\n",
            "[nltk_data]   Unzipping corpora/stopwords.zip.\n",
            "[nltk_data] Downloading package punkt to /root/nltk_data...\n",
            "[nltk_data]   Unzipping tokenizers/punkt.zip.\n"
          ],
          "name": "stdout"
        }
      ]
    },
    {
      "cell_type": "code",
      "metadata": {
        "id": "ZyoLEGoqB9ms",
        "colab": {
          "base_uri": "https://localhost:8080/",
          "height": 204
        },
        "outputId": "c1faa20b-4a72-4999-ebbf-7b5fe1cdbf71"
      },
      "source": [
        "## Read in the scraped data\n",
        "posts = pd.read_csv(\"scrape_results.csv\", sep='\\t')\n",
        "#posts = posts.drop(columns= [\"Unnamed: 0\"])\n",
        "\n",
        "## Read in the model-brand mapping data\n",
        "model_brand = pd.read_csv(\"car models and brands.csv\", header = None)\n",
        "model_brand.columns = ['brand','model']\n",
        "model_brand.head()"
      ],
      "execution_count": null,
      "outputs": [
        {
          "output_type": "execute_result",
          "data": {
            "text/html": [
              "<div>\n",
              "<style scoped>\n",
              "    .dataframe tbody tr th:only-of-type {\n",
              "        vertical-align: middle;\n",
              "    }\n",
              "\n",
              "    .dataframe tbody tr th {\n",
              "        vertical-align: top;\n",
              "    }\n",
              "\n",
              "    .dataframe thead th {\n",
              "        text-align: right;\n",
              "    }\n",
              "</style>\n",
              "<table border=\"1\" class=\"dataframe\">\n",
              "  <thead>\n",
              "    <tr style=\"text-align: right;\">\n",
              "      <th></th>\n",
              "      <th>brand</th>\n",
              "      <th>model</th>\n",
              "    </tr>\n",
              "  </thead>\n",
              "  <tbody>\n",
              "    <tr>\n",
              "      <th>0</th>\n",
              "      <td>acura</td>\n",
              "      <td>integra</td>\n",
              "    </tr>\n",
              "    <tr>\n",
              "      <th>1</th>\n",
              "      <td>acura</td>\n",
              "      <td>legend</td>\n",
              "    </tr>\n",
              "    <tr>\n",
              "      <th>2</th>\n",
              "      <td>acura</td>\n",
              "      <td>vigor</td>\n",
              "    </tr>\n",
              "    <tr>\n",
              "      <th>3</th>\n",
              "      <td>acura</td>\n",
              "      <td>rlx</td>\n",
              "    </tr>\n",
              "    <tr>\n",
              "      <th>4</th>\n",
              "      <td>acura</td>\n",
              "      <td>ilx</td>\n",
              "    </tr>\n",
              "  </tbody>\n",
              "</table>\n",
              "</div>"
            ],
            "text/plain": [
              "   brand    model\n",
              "0  acura  integra\n",
              "1  acura   legend\n",
              "2  acura    vigor\n",
              "3  acura      rlx\n",
              "4  acura      ilx"
            ]
          },
          "metadata": {
            "tags": []
          },
          "execution_count": 4
        }
      ]
    },
    {
      "cell_type": "code",
      "metadata": {
        "id": "My5JeDTvDITo"
      },
      "source": [
        "## Create dictionary for model to brand mapping\n",
        "model_brand = model_brand.set_index('model')\n",
        "model_brand_dict = model_brand[\"brand\"].to_dict()\n"
      ],
      "execution_count": null,
      "outputs": []
    },
    {
      "cell_type": "code",
      "metadata": {
        "id": "JG396mj9DTdH"
      },
      "source": [
        "stop = stopwords.words('english')\n",
        "\n",
        "posts[\"comments\"] = posts[\"comments\"].astype(str)\n",
        "posts[\"comments_tokens\"] = posts[\"comments\"].apply(lambda each_post: word_tokenize(re.sub(r'[^\\w\\s]',' ',each_post.lower())))\n",
        "posts[\"comments_tokens\"] = posts[\"comments_tokens\"].apply(lambda list_of_words: [x if x not in model_brand_dict else model_brand_dict[x] for x in list_of_words])\n",
        "posts[\"comments_tokens\"] = posts[\"comments_tokens\"].apply(lambda list_of_words: [x for x in list_of_words if x not in stop])\n"
      ],
      "execution_count": null,
      "outputs": []
    },
    {
      "cell_type": "code",
      "metadata": {
        "id": "n2tWuag1nl_N"
      },
      "source": [
        "## Get all the unique tokens in each comments\n",
        "posts[\"comments_unique\"] = posts[\"comments_tokens\"].apply(lambda x: sorted(set(x)))"
      ],
      "execution_count": null,
      "outputs": []
    },
    {
      "cell_type": "markdown",
      "metadata": {
        "id": "h3Gi18klnxpe"
      },
      "source": [
        "##Lift Analysis of Brands\n",
        "Identified top 10 brands by frequency. From the posts, we calculated lift ratios for associations between the brands. Showed the brands on a multi-dimensional scaling (MDS) map for visualization."
      ]
    },
    {
      "cell_type": "code",
      "metadata": {
        "id": "-2aNmON8n09l"
      },
      "source": [
        "## Get frequency of all words\n",
        "all_words = posts['comments_unique'].sum()\n",
        "freq_dist = nltk.FreqDist(all_words)"
      ],
      "execution_count": null,
      "outputs": []
    },
    {
      "cell_type": "code",
      "metadata": {
        "id": "66vwtibAoCQZ"
      },
      "source": [
        "## Get the frequency counts of all brands\n",
        "all_brands_dict = {your_key: freq_dist[your_key] for your_key in freq_dist.keys() if your_key in model_brand_dict.values()}\n",
        "all_brands = pd.DataFrame.from_dict(all_brands_dict, orient='index').reset_index()\n",
        "all_brands.columns = [\"brand\",\"word_frequency\"]\n",
        "all_brands.sort_values(\"word_frequency\", ascending= False, inplace=True)"
      ],
      "execution_count": null,
      "outputs": []
    },
    {
      "cell_type": "code",
      "metadata": {
        "id": "BjF1nshmoJVZ"
      },
      "source": [
        "## Removing some noise from the data\n",
        "all_brands = all_brands[~all_brands.brand.isin(['car','problem','sedan','seat'])]"
      ],
      "execution_count": null,
      "outputs": []
    },
    {
      "cell_type": "markdown",
      "metadata": {
        "id": "vxtJYDJwoPQ-"
      },
      "source": [
        "##Top 10 brands"
      ]
    },
    {
      "cell_type": "code",
      "metadata": {
        "id": "sb41e9mwoUtD",
        "colab": {
          "base_uri": "https://localhost:8080/",
          "height": 359
        },
        "outputId": "affbed7f-cb26-4720-8f4e-6fd621995bc6"
      },
      "source": [
        "## Display the top 10 brands by frequency count, but eliminating non-brands\n",
        "top_brands = all_brands.head(10)\n",
        "top10 = all_brands.head(10)\n",
        "top_brands"
      ],
      "execution_count": null,
      "outputs": [
        {
          "output_type": "execute_result",
          "data": {
            "text/html": [
              "<div>\n",
              "<style scoped>\n",
              "    .dataframe tbody tr th:only-of-type {\n",
              "        vertical-align: middle;\n",
              "    }\n",
              "\n",
              "    .dataframe tbody tr th {\n",
              "        vertical-align: top;\n",
              "    }\n",
              "\n",
              "    .dataframe thead th {\n",
              "        text-align: right;\n",
              "    }\n",
              "</style>\n",
              "<table border=\"1\" class=\"dataframe\">\n",
              "  <thead>\n",
              "    <tr style=\"text-align: right;\">\n",
              "      <th></th>\n",
              "      <th>brand</th>\n",
              "      <th>word_frequency</th>\n",
              "    </tr>\n",
              "  </thead>\n",
              "  <tbody>\n",
              "    <tr>\n",
              "      <th>0</th>\n",
              "      <td>toyota</td>\n",
              "      <td>571</td>\n",
              "    </tr>\n",
              "    <tr>\n",
              "      <th>5</th>\n",
              "      <td>ford</td>\n",
              "      <td>310</td>\n",
              "    </tr>\n",
              "    <tr>\n",
              "      <th>3</th>\n",
              "      <td>chevrolet</td>\n",
              "      <td>308</td>\n",
              "    </tr>\n",
              "    <tr>\n",
              "      <th>1</th>\n",
              "      <td>honda</td>\n",
              "      <td>290</td>\n",
              "    </tr>\n",
              "    <tr>\n",
              "      <th>14</th>\n",
              "      <td>hyundai</td>\n",
              "      <td>267</td>\n",
              "    </tr>\n",
              "    <tr>\n",
              "      <th>12</th>\n",
              "      <td>subaru</td>\n",
              "      <td>242</td>\n",
              "    </tr>\n",
              "    <tr>\n",
              "      <th>4</th>\n",
              "      <td>bmw</td>\n",
              "      <td>225</td>\n",
              "    </tr>\n",
              "    <tr>\n",
              "      <th>21</th>\n",
              "      <td>audi</td>\n",
              "      <td>167</td>\n",
              "    </tr>\n",
              "    <tr>\n",
              "      <th>7</th>\n",
              "      <td>nissan</td>\n",
              "      <td>152</td>\n",
              "    </tr>\n",
              "    <tr>\n",
              "      <th>6</th>\n",
              "      <td>volkswagen</td>\n",
              "      <td>146</td>\n",
              "    </tr>\n",
              "  </tbody>\n",
              "</table>\n",
              "</div>"
            ],
            "text/plain": [
              "         brand  word_frequency\n",
              "0       toyota             571\n",
              "5         ford             310\n",
              "3    chevrolet             308\n",
              "1        honda             290\n",
              "14     hyundai             267\n",
              "12      subaru             242\n",
              "4          bmw             225\n",
              "21        audi             167\n",
              "7       nissan             152\n",
              "6   volkswagen             146"
            ]
          },
          "metadata": {
            "tags": []
          },
          "execution_count": 44
        }
      ]
    },
    {
      "cell_type": "code",
      "metadata": {
        "id": "zxcq5VC1ooYC",
        "colab": {
          "base_uri": "https://localhost:8080/",
          "height": 289
        },
        "outputId": "c6e1cdc4-efbb-4182-fe1b-f518edf9eefd"
      },
      "source": [
        "posts.head()"
      ],
      "execution_count": null,
      "outputs": [
        {
          "output_type": "execute_result",
          "data": {
            "text/html": [
              "<div>\n",
              "<style scoped>\n",
              "    .dataframe tbody tr th:only-of-type {\n",
              "        vertical-align: middle;\n",
              "    }\n",
              "\n",
              "    .dataframe tbody tr th {\n",
              "        vertical-align: top;\n",
              "    }\n",
              "\n",
              "    .dataframe thead th {\n",
              "        text-align: right;\n",
              "    }\n",
              "</style>\n",
              "<table border=\"1\" class=\"dataframe\">\n",
              "  <thead>\n",
              "    <tr style=\"text-align: right;\">\n",
              "      <th></th>\n",
              "      <th>ID</th>\n",
              "      <th>Date</th>\n",
              "      <th>user_id</th>\n",
              "      <th>comments</th>\n",
              "      <th>comments_tokens</th>\n",
              "      <th>comments_unique</th>\n",
              "    </tr>\n",
              "  </thead>\n",
              "  <tbody>\n",
              "    <tr>\n",
              "      <th>0</th>\n",
              "      <td>0</td>\n",
              "      <td>June 29, 2000 9:33PM</td>\n",
              "      <td>bdreggors</td>\n",
              "      <td>One of my current favorites is the Lexus IS co...</td>\n",
              "      <td>[one, current, favorites, lexus, commercial, g...</td>\n",
              "      <td>[blackmails, boss, cheesy, commercial, current...</td>\n",
              "    </tr>\n",
              "    <tr>\n",
              "      <th>1</th>\n",
              "      <td>1</td>\n",
              "      <td>June 30, 2000 2:14AM</td>\n",
              "      <td>markz2k</td>\n",
              "      <td>What's the deal with the Dog family in the Ody...</td>\n",
              "      <td>[deal, dog, family, odysey, commercials, never...</td>\n",
              "      <td>[00, ago, always, annoying, anybody, anyway, a...</td>\n",
              "    </tr>\n",
              "    <tr>\n",
              "      <th>2</th>\n",
              "      <td>2</td>\n",
              "      <td>June 30, 2000 1:57PM</td>\n",
              "      <td>roadroach</td>\n",
              "      <td>The whole point of commercials is to get your ...</td>\n",
              "      <td>[whole, point, commercials, get, attention, re...</td>\n",
              "      <td>[1, 2, also, attention, came, commercial, comm...</td>\n",
              "    </tr>\n",
              "    <tr>\n",
              "      <th>3</th>\n",
              "      <td>3</td>\n",
              "      <td>June 30, 2000 3:04PM</td>\n",
              "      <td>markz2k</td>\n",
              "      <td>Yeah, I agree the point is to get your attenti...</td>\n",
              "      <td>[yeah, agree, point, get, attention, easily, b...</td>\n",
              "      <td>[agree, attention, away, backfire, bell, best,...</td>\n",
              "    </tr>\n",
              "    <tr>\n",
              "      <th>4</th>\n",
              "      <td>4</td>\n",
              "      <td>June 30, 2000 3:25PM</td>\n",
              "      <td>bdreggors</td>\n",
              "      <td>I've noticed two fallicies in Hodna commercial...</td>\n",
              "      <td>[noticed, two, fallicies, hodna, commercials, ...</td>\n",
              "      <td>[1, 2, analog, analyze, clack, clikity, close,...</td>\n",
              "    </tr>\n",
              "  </tbody>\n",
              "</table>\n",
              "</div>"
            ],
            "text/plain": [
              "   ID  ...                                    comments_unique\n",
              "0   0  ...  [blackmails, boss, cheesy, commercial, current...\n",
              "1   1  ...  [00, ago, always, annoying, anybody, anyway, a...\n",
              "2   2  ...  [1, 2, also, attention, came, commercial, comm...\n",
              "3   3  ...  [agree, attention, away, backfire, bell, best,...\n",
              "4   4  ...  [1, 2, analog, analyze, clack, clikity, close,...\n",
              "\n",
              "[5 rows x 6 columns]"
            ]
          },
          "metadata": {
            "tags": []
          },
          "execution_count": 12
        }
      ]
    },
    {
      "cell_type": "markdown",
      "metadata": {
        "id": "c_RMmfiLowXp"
      },
      "source": [
        "### Lift function"
      ]
    },
    {
      "cell_type": "code",
      "metadata": {
        "id": "2Tyr2pcAoz3n"
      },
      "source": [
        "def calculate_lift(a, b, tokenized_posts):\n",
        "    num_a = 0\n",
        "    num_b = 0\n",
        "    num_a_b = 0\n",
        "    n = len(tokenized_posts)\n",
        "    if a==b:\n",
        "        return 1\n",
        "    for i in tokenized_posts:\n",
        "        if a in i:\n",
        "            num_a += 1\n",
        "        if b in i:\n",
        "            num_b += 1\n",
        "        if a in i and b in i:\n",
        "            num_a_b += 1\n",
        "    if num_a == 0:\n",
        "        return (float(n)*num_a_b)/(num_b)\n",
        "    elif num_b == 0:\n",
        "        return (float(n)*num_a_b)/(num_a)\n",
        "    else:\n",
        "        return (float(n)*num_a_b)/(num_a*num_b)"
      ],
      "execution_count": null,
      "outputs": []
    },
    {
      "cell_type": "code",
      "metadata": {
        "id": "2Y9gxt_LpG4z"
      },
      "source": [
        "## Get the lift scores for the top-10 brands\n",
        "num_brands = 10\n",
        "\n",
        "## print(top_brands)\n",
        "top_brands = top_brands.head(num_brands)\n",
        "lift_brands = []\n",
        "for index, brand_a in top_brands.iterrows():\n",
        "    for index, brand_b in top_brands.iterrows():\n",
        "        lift_brands.append(calculate_lift(brand_a.brand, brand_b.brand, posts.comments_unique))"
      ],
      "execution_count": null,
      "outputs": []
    },
    {
      "cell_type": "code",
      "metadata": {
        "id": "1VJ-nGW0pj1F",
        "colab": {
          "base_uri": "https://localhost:8080/",
          "height": 357
        },
        "outputId": "0aa7612a-8403-4ef2-8a64-80b678a002fe"
      },
      "source": [
        "lift_brands_df = np.reshape(lift_brands,(num_brands,num_brands))\n",
        "lift_brands_df"
      ],
      "execution_count": null,
      "outputs": [
        {
          "output_type": "execute_result",
          "data": {
            "text/plain": [
              "array([[1.        , 1.45826789, 1.18548002, 2.48814542, 1.20472002,\n",
              "        1.83210548, 1.04322242, 1.19731116, 2.23057425, 1.19089317],\n",
              "       [1.45826789, 1.        , 2.9634269 , 2.65041157, 0.83962788,\n",
              "        2.11740869, 1.2098638 , 0.76708518, 1.36952462, 1.31612903],\n",
              "       [1.18548002, 2.9634269 , 1.        , 2.05629198, 0.78471716,\n",
              "        1.33197381, 1.7191342 , 1.93016564, 1.90857826, 1.76623377],\n",
              "       [2.48814542, 2.65041157, 2.05629198, 1.        , 1.53862844,\n",
              "        2.8292961 , 0.91291954, 1.63997522, 2.92794918, 2.46206897],\n",
              "       [1.20472002, 0.83962788, 0.78471716, 1.53862844, 1.        ,\n",
              "        0.92190547, 1.23945069, 2.00390231, 1.46777055, 2.29213483],\n",
              "       [1.83210548, 2.11740869, 1.33197381, 2.8292961 , 0.92190547,\n",
              "        1.        , 1.91449036, 1.5967734 , 1.75434972, 2.24793388],\n",
              "       [1.04322242, 1.2098638 , 1.7191342 , 0.91291954, 1.23945069,\n",
              "        1.91449036, 1.        , 4.62381903, 1.45146199, 1.51111111],\n",
              "       [1.19731116, 0.76708518, 1.93016564, 1.63997522, 2.00390231,\n",
              "        1.5967734 , 4.62381903, 1.        , 1.36889379, 3.46107784],\n",
              "       [2.23057425, 1.36952462, 1.90857826, 2.92794918, 1.46777055,\n",
              "        1.75434972, 1.45146199, 1.36889379, 1.        , 1.78947368],\n",
              "       [1.19089317, 1.31612903, 1.76623377, 2.46206897, 2.29213483,\n",
              "        2.24793388, 1.51111111, 3.46107784, 1.78947368, 1.        ]])"
            ]
          },
          "metadata": {
            "tags": []
          },
          "execution_count": 15
        }
      ]
    },
    {
      "cell_type": "markdown",
      "metadata": {
        "id": "1_Txoek7pra5"
      },
      "source": [
        "### Brand to Brand Lift Matrix\n"
      ]
    },
    {
      "cell_type": "code",
      "metadata": {
        "id": "zkkvlq2Mpu-s",
        "colab": {
          "base_uri": "https://localhost:8080/",
          "height": 359
        },
        "outputId": "a8295e35-1448-4b00-821a-c025f2b64c2c"
      },
      "source": [
        "lift_brands = pd.DataFrame(data= lift_brands_df)\n",
        "\n",
        "for i in range(10):\n",
        "    lift_brands = lift_brands.rename(columns = {i: top_brands.iloc[i, 0]})\n",
        "    lift_brands = lift_brands.rename(index = {i: top_brands.iloc[i, 0]})\n",
        "lift_brands\n"
      ],
      "execution_count": null,
      "outputs": [
        {
          "output_type": "execute_result",
          "data": {
            "text/html": [
              "<div>\n",
              "<style scoped>\n",
              "    .dataframe tbody tr th:only-of-type {\n",
              "        vertical-align: middle;\n",
              "    }\n",
              "\n",
              "    .dataframe tbody tr th {\n",
              "        vertical-align: top;\n",
              "    }\n",
              "\n",
              "    .dataframe thead th {\n",
              "        text-align: right;\n",
              "    }\n",
              "</style>\n",
              "<table border=\"1\" class=\"dataframe\">\n",
              "  <thead>\n",
              "    <tr style=\"text-align: right;\">\n",
              "      <th></th>\n",
              "      <th>toyota</th>\n",
              "      <th>ford</th>\n",
              "      <th>chevrolet</th>\n",
              "      <th>honda</th>\n",
              "      <th>hyundai</th>\n",
              "      <th>subaru</th>\n",
              "      <th>bmw</th>\n",
              "      <th>audi</th>\n",
              "      <th>nissan</th>\n",
              "      <th>volkswagen</th>\n",
              "    </tr>\n",
              "  </thead>\n",
              "  <tbody>\n",
              "    <tr>\n",
              "      <th>toyota</th>\n",
              "      <td>1.000000</td>\n",
              "      <td>1.458268</td>\n",
              "      <td>1.185480</td>\n",
              "      <td>2.488145</td>\n",
              "      <td>1.204720</td>\n",
              "      <td>1.832105</td>\n",
              "      <td>1.043222</td>\n",
              "      <td>1.197311</td>\n",
              "      <td>2.230574</td>\n",
              "      <td>1.190893</td>\n",
              "    </tr>\n",
              "    <tr>\n",
              "      <th>ford</th>\n",
              "      <td>1.458268</td>\n",
              "      <td>1.000000</td>\n",
              "      <td>2.963427</td>\n",
              "      <td>2.650412</td>\n",
              "      <td>0.839628</td>\n",
              "      <td>2.117409</td>\n",
              "      <td>1.209864</td>\n",
              "      <td>0.767085</td>\n",
              "      <td>1.369525</td>\n",
              "      <td>1.316129</td>\n",
              "    </tr>\n",
              "    <tr>\n",
              "      <th>chevrolet</th>\n",
              "      <td>1.185480</td>\n",
              "      <td>2.963427</td>\n",
              "      <td>1.000000</td>\n",
              "      <td>2.056292</td>\n",
              "      <td>0.784717</td>\n",
              "      <td>1.331974</td>\n",
              "      <td>1.719134</td>\n",
              "      <td>1.930166</td>\n",
              "      <td>1.908578</td>\n",
              "      <td>1.766234</td>\n",
              "    </tr>\n",
              "    <tr>\n",
              "      <th>honda</th>\n",
              "      <td>2.488145</td>\n",
              "      <td>2.650412</td>\n",
              "      <td>2.056292</td>\n",
              "      <td>1.000000</td>\n",
              "      <td>1.538628</td>\n",
              "      <td>2.829296</td>\n",
              "      <td>0.912920</td>\n",
              "      <td>1.639975</td>\n",
              "      <td>2.927949</td>\n",
              "      <td>2.462069</td>\n",
              "    </tr>\n",
              "    <tr>\n",
              "      <th>hyundai</th>\n",
              "      <td>1.204720</td>\n",
              "      <td>0.839628</td>\n",
              "      <td>0.784717</td>\n",
              "      <td>1.538628</td>\n",
              "      <td>1.000000</td>\n",
              "      <td>0.921905</td>\n",
              "      <td>1.239451</td>\n",
              "      <td>2.003902</td>\n",
              "      <td>1.467771</td>\n",
              "      <td>2.292135</td>\n",
              "    </tr>\n",
              "    <tr>\n",
              "      <th>subaru</th>\n",
              "      <td>1.832105</td>\n",
              "      <td>2.117409</td>\n",
              "      <td>1.331974</td>\n",
              "      <td>2.829296</td>\n",
              "      <td>0.921905</td>\n",
              "      <td>1.000000</td>\n",
              "      <td>1.914490</td>\n",
              "      <td>1.596773</td>\n",
              "      <td>1.754350</td>\n",
              "      <td>2.247934</td>\n",
              "    </tr>\n",
              "    <tr>\n",
              "      <th>bmw</th>\n",
              "      <td>1.043222</td>\n",
              "      <td>1.209864</td>\n",
              "      <td>1.719134</td>\n",
              "      <td>0.912920</td>\n",
              "      <td>1.239451</td>\n",
              "      <td>1.914490</td>\n",
              "      <td>1.000000</td>\n",
              "      <td>4.623819</td>\n",
              "      <td>1.451462</td>\n",
              "      <td>1.511111</td>\n",
              "    </tr>\n",
              "    <tr>\n",
              "      <th>audi</th>\n",
              "      <td>1.197311</td>\n",
              "      <td>0.767085</td>\n",
              "      <td>1.930166</td>\n",
              "      <td>1.639975</td>\n",
              "      <td>2.003902</td>\n",
              "      <td>1.596773</td>\n",
              "      <td>4.623819</td>\n",
              "      <td>1.000000</td>\n",
              "      <td>1.368894</td>\n",
              "      <td>3.461078</td>\n",
              "    </tr>\n",
              "    <tr>\n",
              "      <th>nissan</th>\n",
              "      <td>2.230574</td>\n",
              "      <td>1.369525</td>\n",
              "      <td>1.908578</td>\n",
              "      <td>2.927949</td>\n",
              "      <td>1.467771</td>\n",
              "      <td>1.754350</td>\n",
              "      <td>1.451462</td>\n",
              "      <td>1.368894</td>\n",
              "      <td>1.000000</td>\n",
              "      <td>1.789474</td>\n",
              "    </tr>\n",
              "    <tr>\n",
              "      <th>volkswagen</th>\n",
              "      <td>1.190893</td>\n",
              "      <td>1.316129</td>\n",
              "      <td>1.766234</td>\n",
              "      <td>2.462069</td>\n",
              "      <td>2.292135</td>\n",
              "      <td>2.247934</td>\n",
              "      <td>1.511111</td>\n",
              "      <td>3.461078</td>\n",
              "      <td>1.789474</td>\n",
              "      <td>1.000000</td>\n",
              "    </tr>\n",
              "  </tbody>\n",
              "</table>\n",
              "</div>"
            ],
            "text/plain": [
              "              toyota      ford  chevrolet  ...      audi    nissan  volkswagen\n",
              "toyota      1.000000  1.458268   1.185480  ...  1.197311  2.230574    1.190893\n",
              "ford        1.458268  1.000000   2.963427  ...  0.767085  1.369525    1.316129\n",
              "chevrolet   1.185480  2.963427   1.000000  ...  1.930166  1.908578    1.766234\n",
              "honda       2.488145  2.650412   2.056292  ...  1.639975  2.927949    2.462069\n",
              "hyundai     1.204720  0.839628   0.784717  ...  2.003902  1.467771    2.292135\n",
              "subaru      1.832105  2.117409   1.331974  ...  1.596773  1.754350    2.247934\n",
              "bmw         1.043222  1.209864   1.719134  ...  4.623819  1.451462    1.511111\n",
              "audi        1.197311  0.767085   1.930166  ...  1.000000  1.368894    3.461078\n",
              "nissan      2.230574  1.369525   1.908578  ...  1.368894  1.000000    1.789474\n",
              "volkswagen  1.190893  1.316129   1.766234  ...  3.461078  1.789474    1.000000\n",
              "\n",
              "[10 rows x 10 columns]"
            ]
          },
          "metadata": {
            "tags": []
          },
          "execution_count": 16
        }
      ]
    },
    {
      "cell_type": "markdown",
      "metadata": {
        "id": "g1QMIzS2p7T7"
      },
      "source": [
        "### MDS Plot"
      ]
    },
    {
      "cell_type": "code",
      "metadata": {
        "id": "teB-9Z_vqBZa",
        "colab": {
          "base_uri": "https://localhost:8080/",
          "height": 292
        },
        "outputId": "cfa63f13-759f-4456-ea7f-9d29496efa0d"
      },
      "source": [
        "## Calculating the dissimilarity matrix which is the input for plotting MDS plot\n",
        "dissimilarity_matrix = 1/lift_brands\n",
        "np.fill_diagonal(dissimilarity_matrix.values, 0)\n",
        "\n",
        "## Plotting MDS plot\n",
        "from sklearn import manifold\n",
        "seed = np.random.RandomState(seed=3)\n",
        "mds = manifold.MDS(n_components=2, max_iter=3000, eps=1e-9, \n",
        "      random_state=seed, dissimilarity=\"precomputed\", n_jobs=1)\n",
        "results = mds.fit(dissimilarity_matrix)\n",
        "coords = results.embedding_\n",
        "\n",
        "plt.subplots_adjust(bottom = 0.1)\n",
        "plt.scatter(\n",
        "    coords[:, 0], coords[:, 1], marker = 'o'\n",
        "    )\n",
        "for label, x, y in zip(lift_brands, coords[:, 0], coords[:, 1]):\n",
        "    \n",
        "    plt.annotate(\n",
        "        label,\n",
        "        xy = (x, y), xytext = (-20, 20),\n",
        "        textcoords = 'offset points',ha = 'left', va = 'bottom',\n",
        "        bbox = dict(boxstyle = 'round,pad=0.5', fc = 'orange', alpha = 0.5),\n",
        "        arrowprops = dict(arrowstyle = '->', connectionstyle = 'arc3,rad=0'))\n",
        "\n",
        "plt.show()"
      ],
      "execution_count": null,
      "outputs": [
        {
          "output_type": "display_data",
          "data": {
            "image/png": "[encoded data removed]",
            "text/plain": [
              "<Figure size 432x288 with 1 Axes>"
            ]
          },
          "metadata": {
            "tags": [],
            "needs_background": "light"
          }
        }
      ]
    },
    {
      "cell_type": "markdown",
      "metadata": {
        "id": "bYkU8p8TsEq_"
      },
      "source": [
        "### Insights\n",
        "write brand manager stuff here\n"
      ]
    },
    {
      "cell_type": "markdown",
      "metadata": {
        "id": "m3LQwB-WtW4n"
      },
      "source": [
        "##Lift Analysis of Attributes and Brands\n",
        "We found the most frequently mentioned attributes of cars in the discussions. The same attribute may be described by different words – e.g., pick-up and acceleration may both refer to a more general attribute, “performance”, for which we made suitable replacements.\n",
        "\n",
        "We picked the 5 most frequently mentioned brands and found the most strongly associated atrributes with each of these 5 brands.\n",
        "\n",
        "\n",
        "\n",
        "###Steps followed to obtain the list of attributes:\n",
        "Found the list of nouns & adjectives which define the attributes\n",
        "Manually went through a few comments and the list to decide on the final list of attributes (245 attributes)\n",
        "Obtained the lift values and frequency for these attributes\n",
        "Based on the lift values and frequencies, grouped the attributes into 22 groups\n",
        "Found top 5 attributes based on the frequency\n",
        "Calculated the lift values for these attributes with the top brands"
      ]
    },
    {
      "cell_type": "code",
      "metadata": {
        "id": "DZ2QNaPvtaJi",
        "colab": {
          "base_uri": "https://localhost:8080/",
          "height": 68
        },
        "outputId": "1843764f-fd3f-4e79-b9b2-edaf0a66df69"
      },
      "source": [
        "from nltk.tokenize import word_tokenize\n",
        "from nltk.probability import FreqDist\n",
        "from nltk.corpus import stopwords\n",
        "from nltk.tokenize import RegexpTokenizer # to remove punctuations\n",
        "import re\n",
        "import nltk\n",
        "nltk.download('punkt')"
      ],
      "execution_count": null,
      "outputs": [
        {
          "output_type": "stream",
          "text": [
            "[nltk_data] Downloading package punkt to /root/nltk_data...\n",
            "[nltk_data]   Package punkt is already up-to-date!\n"
          ],
          "name": "stdout"
        },
        {
          "output_type": "execute_result",
          "data": {
            "text/plain": [
              "True"
            ]
          },
          "metadata": {
            "tags": []
          },
          "execution_count": 18
        }
      ]
    },
    {
      "cell_type": "code",
      "metadata": {
        "id": "f38L0Pd1ti6w",
        "colab": {
          "base_uri": "https://localhost:8080/",
          "height": 340
        },
        "outputId": "ad63e33f-88c8-4f09-857b-17d63e1dcde1"
      },
      "source": [
        "# Obtain POS for the tokens\n",
        "import nltk\n",
        "nltk.download('averaged_perceptron_tagger')\n",
        "posts['pos']=posts['comments_unique'].apply(nltk.tag.pos_tag)\n",
        "posts[:5]"
      ],
      "execution_count": null,
      "outputs": [
        {
          "output_type": "stream",
          "text": [
            "[nltk_data] Downloading package averaged_perceptron_tagger to\n",
            "[nltk_data]     /root/nltk_data...\n",
            "[nltk_data]   Unzipping taggers/averaged_perceptron_tagger.zip.\n"
          ],
          "name": "stdout"
        },
        {
          "output_type": "execute_result",
          "data": {
            "text/html": [
              "<div>\n",
              "<style scoped>\n",
              "    .dataframe tbody tr th:only-of-type {\n",
              "        vertical-align: middle;\n",
              "    }\n",
              "\n",
              "    .dataframe tbody tr th {\n",
              "        vertical-align: top;\n",
              "    }\n",
              "\n",
              "    .dataframe thead th {\n",
              "        text-align: right;\n",
              "    }\n",
              "</style>\n",
              "<table border=\"1\" class=\"dataframe\">\n",
              "  <thead>\n",
              "    <tr style=\"text-align: right;\">\n",
              "      <th></th>\n",
              "      <th>ID</th>\n",
              "      <th>Date</th>\n",
              "      <th>user_id</th>\n",
              "      <th>comments</th>\n",
              "      <th>comments_tokens</th>\n",
              "      <th>comments_unique</th>\n",
              "      <th>pos</th>\n",
              "    </tr>\n",
              "  </thead>\n",
              "  <tbody>\n",
              "    <tr>\n",
              "      <th>0</th>\n",
              "      <td>0</td>\n",
              "      <td>June 29, 2000 9:33PM</td>\n",
              "      <td>bdreggors</td>\n",
              "      <td>One of my current favorites is the Lexus IS co...</td>\n",
              "      <td>[one, current, favorites, lexus, commercial, g...</td>\n",
              "      <td>[blackmails, boss, cheesy, commercial, current...</td>\n",
              "      <td>[(blackmails, NNS), (boss, VBP), (cheesy, JJ),...</td>\n",
              "    </tr>\n",
              "    <tr>\n",
              "      <th>1</th>\n",
              "      <td>1</td>\n",
              "      <td>June 30, 2000 2:14AM</td>\n",
              "      <td>markz2k</td>\n",
              "      <td>What's the deal with the Dog family in the Ody...</td>\n",
              "      <td>[deal, dog, family, odysey, commercials, never...</td>\n",
              "      <td>[00, ago, always, annoying, anybody, anyway, a...</td>\n",
              "      <td>[(00, CD), (ago, RB), (always, RB), (annoying,...</td>\n",
              "    </tr>\n",
              "    <tr>\n",
              "      <th>2</th>\n",
              "      <td>2</td>\n",
              "      <td>June 30, 2000 1:57PM</td>\n",
              "      <td>roadroach</td>\n",
              "      <td>The whole point of commercials is to get your ...</td>\n",
              "      <td>[whole, point, commercials, get, attention, re...</td>\n",
              "      <td>[1, 2, also, attention, came, commercial, comm...</td>\n",
              "      <td>[(1, CD), (2, CD), (also, RB), (attention, NN)...</td>\n",
              "    </tr>\n",
              "    <tr>\n",
              "      <th>3</th>\n",
              "      <td>3</td>\n",
              "      <td>June 30, 2000 3:04PM</td>\n",
              "      <td>markz2k</td>\n",
              "      <td>Yeah, I agree the point is to get your attenti...</td>\n",
              "      <td>[yeah, agree, point, get, attention, easily, b...</td>\n",
              "      <td>[agree, attention, away, backfire, bell, best,...</td>\n",
              "      <td>[(agree, JJ), (attention, NN), (away, RB), (ba...</td>\n",
              "    </tr>\n",
              "    <tr>\n",
              "      <th>4</th>\n",
              "      <td>4</td>\n",
              "      <td>June 30, 2000 3:25PM</td>\n",
              "      <td>bdreggors</td>\n",
              "      <td>I've noticed two fallicies in Hodna commercial...</td>\n",
              "      <td>[noticed, two, fallicies, hodna, commercials, ...</td>\n",
              "      <td>[1, 2, analog, analyze, clack, clikity, close,...</td>\n",
              "      <td>[(1, CD), (2, CD), (analog, NN), (analyze, JJ)...</td>\n",
              "    </tr>\n",
              "  </tbody>\n",
              "</table>\n",
              "</div>"
            ],
            "text/plain": [
              "   ID  ...                                                pos\n",
              "0   0  ...  [(blackmails, NNS), (boss, VBP), (cheesy, JJ),...\n",
              "1   1  ...  [(00, CD), (ago, RB), (always, RB), (annoying,...\n",
              "2   2  ...  [(1, CD), (2, CD), (also, RB), (attention, NN)...\n",
              "3   3  ...  [(agree, JJ), (attention, NN), (away, RB), (ba...\n",
              "4   4  ...  [(1, CD), (2, CD), (analog, NN), (analyze, JJ)...\n",
              "\n",
              "[5 rows x 7 columns]"
            ]
          },
          "metadata": {
            "tags": []
          },
          "execution_count": 19
        }
      ]
    },
    {
      "cell_type": "code",
      "metadata": {
        "id": "Xkr_oBgpudhM",
        "colab": {
          "base_uri": "https://localhost:8080/",
          "height": 374
        },
        "outputId": "32aecd78-fe72-47c8-cc66-7203fd1f8b09"
      },
      "source": [
        "# Extract the list of adjectives\n",
        "posts['adjectives']=posts['pos'].apply(lambda pos_list: [x[0] for x in pos_list if x[1].endswith('JJ')])\n",
        "posts[:5]"
      ],
      "execution_count": null,
      "outputs": [
        {
          "output_type": "execute_result",
          "data": {
            "text/html": [
              "<div>\n",
              "<style scoped>\n",
              "    .dataframe tbody tr th:only-of-type {\n",
              "        vertical-align: middle;\n",
              "    }\n",
              "\n",
              "    .dataframe tbody tr th {\n",
              "        vertical-align: top;\n",
              "    }\n",
              "\n",
              "    .dataframe thead th {\n",
              "        text-align: right;\n",
              "    }\n",
              "</style>\n",
              "<table border=\"1\" class=\"dataframe\">\n",
              "  <thead>\n",
              "    <tr style=\"text-align: right;\">\n",
              "      <th></th>\n",
              "      <th>ID</th>\n",
              "      <th>Date</th>\n",
              "      <th>user_id</th>\n",
              "      <th>comments</th>\n",
              "      <th>comments_tokens</th>\n",
              "      <th>comments_unique</th>\n",
              "      <th>pos</th>\n",
              "      <th>adjectives</th>\n",
              "    </tr>\n",
              "  </thead>\n",
              "  <tbody>\n",
              "    <tr>\n",
              "      <th>0</th>\n",
              "      <td>0</td>\n",
              "      <td>June 29, 2000 9:33PM</td>\n",
              "      <td>bdreggors</td>\n",
              "      <td>One of my current favorites is the Lexus IS co...</td>\n",
              "      <td>[one, current, favorites, lexus, commercial, g...</td>\n",
              "      <td>[blackmails, boss, cheesy, commercial, current...</td>\n",
              "      <td>[(blackmails, NNS), (boss, VBP), (cheesy, JJ),...</td>\n",
              "      <td>[cheesy, commercial, current, favorite, funny,...</td>\n",
              "    </tr>\n",
              "    <tr>\n",
              "      <th>1</th>\n",
              "      <td>1</td>\n",
              "      <td>June 30, 2000 2:14AM</td>\n",
              "      <td>markz2k</td>\n",
              "      <td>What's the deal with the Dog family in the Ody...</td>\n",
              "      <td>[deal, dog, family, odysey, commercials, never...</td>\n",
              "      <td>[00, ago, always, annoying, anybody, anyway, a...</td>\n",
              "      <td>[(00, CD), (ago, RB), (always, RB), (annoying,...</td>\n",
              "      <td>[avoid, commercial, dog, good, odysey, stupid]</td>\n",
              "    </tr>\n",
              "    <tr>\n",
              "      <th>2</th>\n",
              "      <td>2</td>\n",
              "      <td>June 30, 2000 1:57PM</td>\n",
              "      <td>roadroach</td>\n",
              "      <td>The whole point of commercials is to get your ...</td>\n",
              "      <td>[whole, point, commercials, get, attention, re...</td>\n",
              "      <td>[1, 2, also, attention, came, commercial, comm...</td>\n",
              "      <td>[(1, CD), (2, CD), (also, RB), (attention, NN)...</td>\n",
              "      <td>[commercial, different, lotus, new, relevant, ...</td>\n",
              "    </tr>\n",
              "    <tr>\n",
              "      <th>3</th>\n",
              "      <td>3</td>\n",
              "      <td>June 30, 2000 3:04PM</td>\n",
              "      <td>markz2k</td>\n",
              "      <td>Yeah, I agree the point is to get your attenti...</td>\n",
              "      <td>[yeah, agree, point, get, attention, easily, b...</td>\n",
              "      <td>[agree, attention, away, backfire, bell, best,...</td>\n",
              "      <td>[(agree, JJ), (attention, NN), (away, RB), (ba...</td>\n",
              "      <td>[agree, commercial, honda, relevant, taco]</td>\n",
              "    </tr>\n",
              "    <tr>\n",
              "      <th>4</th>\n",
              "      <td>4</td>\n",
              "      <td>June 30, 2000 3:25PM</td>\n",
              "      <td>bdreggors</td>\n",
              "      <td>I've noticed two fallicies in Hodna commercial...</td>\n",
              "      <td>[noticed, two, fallicies, hodna, commercials, ...</td>\n",
              "      <td>[1, 2, analog, analyze, clack, clikity, close,...</td>\n",
              "      <td>[(1, CD), (2, CD), (analog, NN), (analyze, JJ)...</td>\n",
              "      <td>[analyze, close, commercial, digital, eyes, mu...</td>\n",
              "    </tr>\n",
              "  </tbody>\n",
              "</table>\n",
              "</div>"
            ],
            "text/plain": [
              "   ID  ...                                         adjectives\n",
              "0   0  ...  [cheesy, commercial, current, favorite, funny,...\n",
              "1   1  ...     [avoid, commercial, dog, good, odysey, stupid]\n",
              "2   2  ...  [commercial, different, lotus, new, relevant, ...\n",
              "3   3  ...         [agree, commercial, honda, relevant, taco]\n",
              "4   4  ...  [analyze, close, commercial, digital, eyes, mu...\n",
              "\n",
              "[5 rows x 8 columns]"
            ]
          },
          "metadata": {
            "tags": []
          },
          "execution_count": 20
        }
      ]
    },
    {
      "cell_type": "code",
      "metadata": {
        "id": "PJ1uapt6uh_0",
        "colab": {
          "base_uri": "https://localhost:8080/",
          "height": 1000
        },
        "outputId": "1d76953d-d2ca-4cfc-a768-8a14aceb267b"
      },
      "source": [
        "# Filter the adjectives list only to make the list of attributes \n",
        "adj_lst = posts['adjectives'].apply(pd.Series).stack().unique()\n",
        "\n",
        "# Get the frequencies for the nouns\n",
        "adj_df= pd.DataFrame(adj_lst)\n",
        "adj_df.columns=['adjectives']\n",
        "\n",
        "# Join with frequency table and get frequency of all words\n",
        "all_words = posts['comments_unique'].sum()\n",
        "freq_dist = nltk.FreqDist(all_words)\n",
        "\n",
        "df_fdist=pd.DataFrame(list(freq_dist.items()), columns=['term', 'freq'])\n",
        "\n",
        "adj_freq_df = pd.merge(adj_df, df_fdist, right_on='term', left_on='adjectives')\n",
        "adj_freq_df.sort_values(by=['freq'],ascending=False)[:50]"
      ],
      "execution_count": null,
      "outputs": [
        {
          "output_type": "execute_result",
          "data": {
            "text/html": [
              "<div>\n",
              "<style scoped>\n",
              "    .dataframe tbody tr th:only-of-type {\n",
              "        vertical-align: middle;\n",
              "    }\n",
              "\n",
              "    .dataframe tbody tr th {\n",
              "        vertical-align: top;\n",
              "    }\n",
              "\n",
              "    .dataframe thead th {\n",
              "        text-align: right;\n",
              "    }\n",
              "</style>\n",
              "<table border=\"1\" class=\"dataframe\">\n",
              "  <thead>\n",
              "    <tr style=\"text-align: right;\">\n",
              "      <th></th>\n",
              "      <th>adjectives</th>\n",
              "      <th>term</th>\n",
              "      <th>freq</th>\n",
              "    </tr>\n",
              "  </thead>\n",
              "  <tbody>\n",
              "    <tr>\n",
              "      <th>114</th>\n",
              "      <td>like</td>\n",
              "      <td>like</td>\n",
              "      <td>963</td>\n",
              "    </tr>\n",
              "    <tr>\n",
              "      <th>521</th>\n",
              "      <td>think</td>\n",
              "      <td>think</td>\n",
              "      <td>625</td>\n",
              "    </tr>\n",
              "    <tr>\n",
              "      <th>14</th>\n",
              "      <td>new</td>\n",
              "      <td>new</td>\n",
              "      <td>576</td>\n",
              "    </tr>\n",
              "    <tr>\n",
              "      <th>17</th>\n",
              "      <td>toyota</td>\n",
              "      <td>toyota</td>\n",
              "      <td>571</td>\n",
              "    </tr>\n",
              "    <tr>\n",
              "      <th>1</th>\n",
              "      <td>commercial</td>\n",
              "      <td>commercial</td>\n",
              "      <td>561</td>\n",
              "    </tr>\n",
              "    <tr>\n",
              "      <th>987</th>\n",
              "      <td>even</td>\n",
              "      <td>even</td>\n",
              "      <td>476</td>\n",
              "    </tr>\n",
              "    <tr>\n",
              "      <th>4014</th>\n",
              "      <td>get</td>\n",
              "      <td>get</td>\n",
              "      <td>475</td>\n",
              "    </tr>\n",
              "    <tr>\n",
              "      <th>789</th>\n",
              "      <td>see</td>\n",
              "      <td>see</td>\n",
              "      <td>462</td>\n",
              "    </tr>\n",
              "    <tr>\n",
              "      <th>9</th>\n",
              "      <td>good</td>\n",
              "      <td>good</td>\n",
              "      <td>407</td>\n",
              "    </tr>\n",
              "    <tr>\n",
              "      <th>885</th>\n",
              "      <td>http</td>\n",
              "      <td>http</td>\n",
              "      <td>396</td>\n",
              "    </tr>\n",
              "    <tr>\n",
              "      <th>236</th>\n",
              "      <td>maybe</td>\n",
              "      <td>maybe</td>\n",
              "      <td>380</td>\n",
              "    </tr>\n",
              "    <tr>\n",
              "      <th>26</th>\n",
              "      <td>much</td>\n",
              "      <td>much</td>\n",
              "      <td>375</td>\n",
              "    </tr>\n",
              "    <tr>\n",
              "      <th>731</th>\n",
              "      <td>com</td>\n",
              "      <td>com</td>\n",
              "      <td>364</td>\n",
              "    </tr>\n",
              "    <tr>\n",
              "      <th>177</th>\n",
              "      <td>old</td>\n",
              "      <td>old</td>\n",
              "      <td>354</td>\n",
              "    </tr>\n",
              "    <tr>\n",
              "      <th>6</th>\n",
              "      <td>lexus</td>\n",
              "      <td>lexus</td>\n",
              "      <td>350</td>\n",
              "    </tr>\n",
              "    <tr>\n",
              "      <th>1455</th>\n",
              "      <td>www</td>\n",
              "      <td>www</td>\n",
              "      <td>328</td>\n",
              "    </tr>\n",
              "    <tr>\n",
              "      <th>245</th>\n",
              "      <td>saw</td>\n",
              "      <td>saw</td>\n",
              "      <td>319</td>\n",
              "    </tr>\n",
              "    <tr>\n",
              "      <th>2645</th>\n",
              "      <td>back</td>\n",
              "      <td>back</td>\n",
              "      <td>313</td>\n",
              "    </tr>\n",
              "    <tr>\n",
              "      <th>228</th>\n",
              "      <td>ford</td>\n",
              "      <td>ford</td>\n",
              "      <td>310</td>\n",
              "    </tr>\n",
              "    <tr>\n",
              "      <th>1208</th>\n",
              "      <td>shades</td>\n",
              "      <td>shades</td>\n",
              "      <td>310</td>\n",
              "    </tr>\n",
              "    <tr>\n",
              "      <th>1297</th>\n",
              "      <td>watch</td>\n",
              "      <td>watch</td>\n",
              "      <td>308</td>\n",
              "    </tr>\n",
              "    <tr>\n",
              "      <th>1173</th>\n",
              "      <td>chevrolet</td>\n",
              "      <td>chevrolet</td>\n",
              "      <td>308</td>\n",
              "    </tr>\n",
              "    <tr>\n",
              "      <th>563</th>\n",
              "      <td>know</td>\n",
              "      <td>know</td>\n",
              "      <td>303</td>\n",
              "    </tr>\n",
              "    <tr>\n",
              "      <th>512</th>\n",
              "      <td>got</td>\n",
              "      <td>got</td>\n",
              "      <td>297</td>\n",
              "    </tr>\n",
              "    <tr>\n",
              "      <th>20</th>\n",
              "      <td>honda</td>\n",
              "      <td>honda</td>\n",
              "      <td>290</td>\n",
              "    </tr>\n",
              "    <tr>\n",
              "      <th>2421</th>\n",
              "      <td>youtube</td>\n",
              "      <td>youtube</td>\n",
              "      <td>287</td>\n",
              "    </tr>\n",
              "    <tr>\n",
              "      <th>1641</th>\n",
              "      <td>though</td>\n",
              "      <td>though</td>\n",
              "      <td>276</td>\n",
              "    </tr>\n",
              "    <tr>\n",
              "      <th>932</th>\n",
              "      <td>v</td>\n",
              "      <td>v</td>\n",
              "      <td>276</td>\n",
              "    </tr>\n",
              "    <tr>\n",
              "      <th>424</th>\n",
              "      <td>hyundai</td>\n",
              "      <td>hyundai</td>\n",
              "      <td>267</td>\n",
              "    </tr>\n",
              "    <tr>\n",
              "      <th>701</th>\n",
              "      <td>lot</td>\n",
              "      <td>lot</td>\n",
              "      <td>265</td>\n",
              "    </tr>\n",
              "    <tr>\n",
              "      <th>1889</th>\n",
              "      <td>driving</td>\n",
              "      <td>driving</td>\n",
              "      <td>262</td>\n",
              "    </tr>\n",
              "    <tr>\n",
              "      <th>72</th>\n",
              "      <td>pretty</td>\n",
              "      <td>pretty</td>\n",
              "      <td>261</td>\n",
              "    </tr>\n",
              "    <tr>\n",
              "      <th>57</th>\n",
              "      <td>right</td>\n",
              "      <td>right</td>\n",
              "      <td>253</td>\n",
              "    </tr>\n",
              "    <tr>\n",
              "      <th>481</th>\n",
              "      <td>drive</td>\n",
              "      <td>drive</td>\n",
              "      <td>252</td>\n",
              "    </tr>\n",
              "    <tr>\n",
              "      <th>278</th>\n",
              "      <td>sure</td>\n",
              "      <td>sure</td>\n",
              "      <td>249</td>\n",
              "    </tr>\n",
              "    <tr>\n",
              "      <th>475</th>\n",
              "      <td>make</td>\n",
              "      <td>make</td>\n",
              "      <td>242</td>\n",
              "    </tr>\n",
              "    <tr>\n",
              "      <th>198</th>\n",
              "      <td>subaru</td>\n",
              "      <td>subaru</td>\n",
              "      <td>242</td>\n",
              "    </tr>\n",
              "    <tr>\n",
              "      <th>80</th>\n",
              "      <td>many</td>\n",
              "      <td>many</td>\n",
              "      <td>233</td>\n",
              "    </tr>\n",
              "    <tr>\n",
              "      <th>448</th>\n",
              "      <td>bmw</td>\n",
              "      <td>bmw</td>\n",
              "      <td>225</td>\n",
              "    </tr>\n",
              "    <tr>\n",
              "      <th>1524</th>\n",
              "      <td>buy</td>\n",
              "      <td>buy</td>\n",
              "      <td>223</td>\n",
              "    </tr>\n",
              "    <tr>\n",
              "      <th>1132</th>\n",
              "      <td>want</td>\n",
              "      <td>want</td>\n",
              "      <td>223</td>\n",
              "    </tr>\n",
              "    <tr>\n",
              "      <th>47</th>\n",
              "      <td>first</td>\n",
              "      <td>first</td>\n",
              "      <td>219</td>\n",
              "    </tr>\n",
              "    <tr>\n",
              "      <th>35</th>\n",
              "      <td>big</td>\n",
              "      <td>big</td>\n",
              "      <td>217</td>\n",
              "    </tr>\n",
              "    <tr>\n",
              "      <th>67</th>\n",
              "      <td>bad</td>\n",
              "      <td>bad</td>\n",
              "      <td>213</td>\n",
              "    </tr>\n",
              "    <tr>\n",
              "      <th>4</th>\n",
              "      <td>funny</td>\n",
              "      <td>funny</td>\n",
              "      <td>212</td>\n",
              "    </tr>\n",
              "    <tr>\n",
              "      <th>50</th>\n",
              "      <td>little</td>\n",
              "      <td>little</td>\n",
              "      <td>210</td>\n",
              "    </tr>\n",
              "    <tr>\n",
              "      <th>86</th>\n",
              "      <td>last</td>\n",
              "      <td>last</td>\n",
              "      <td>208</td>\n",
              "    </tr>\n",
              "    <tr>\n",
              "      <th>646</th>\n",
              "      <td>show</td>\n",
              "      <td>show</td>\n",
              "      <td>204</td>\n",
              "    </tr>\n",
              "    <tr>\n",
              "      <th>1534</th>\n",
              "      <td>look</td>\n",
              "      <td>look</td>\n",
              "      <td>204</td>\n",
              "    </tr>\n",
              "    <tr>\n",
              "      <th>44</th>\n",
              "      <td>real</td>\n",
              "      <td>real</td>\n",
              "      <td>203</td>\n",
              "    </tr>\n",
              "  </tbody>\n",
              "</table>\n",
              "</div>"
            ],
            "text/plain": [
              "      adjectives        term  freq\n",
              "114         like        like   963\n",
              "521        think       think   625\n",
              "14           new         new   576\n",
              "17        toyota      toyota   571\n",
              "1     commercial  commercial   561\n",
              "987         even        even   476\n",
              "4014         get         get   475\n",
              "789          see         see   462\n",
              "9           good        good   407\n",
              "885         http        http   396\n",
              "236        maybe       maybe   380\n",
              "26          much        much   375\n",
              "731          com         com   364\n",
              "177          old         old   354\n",
              "6          lexus       lexus   350\n",
              "1455         www         www   328\n",
              "245          saw         saw   319\n",
              "2645        back        back   313\n",
              "228         ford        ford   310\n",
              "1208      shades      shades   310\n",
              "1297       watch       watch   308\n",
              "1173   chevrolet   chevrolet   308\n",
              "563         know        know   303\n",
              "512          got         got   297\n",
              "20         honda       honda   290\n",
              "2421     youtube     youtube   287\n",
              "1641      though      though   276\n",
              "932            v           v   276\n",
              "424      hyundai     hyundai   267\n",
              "701          lot         lot   265\n",
              "1889     driving     driving   262\n",
              "72        pretty      pretty   261\n",
              "57         right       right   253\n",
              "481        drive       drive   252\n",
              "278         sure        sure   249\n",
              "475         make        make   242\n",
              "198       subaru      subaru   242\n",
              "80          many        many   233\n",
              "448          bmw         bmw   225\n",
              "1524         buy         buy   223\n",
              "1132        want        want   223\n",
              "47         first       first   219\n",
              "35           big         big   217\n",
              "67           bad         bad   213\n",
              "4          funny       funny   212\n",
              "50        little      little   210\n",
              "86          last        last   208\n",
              "646         show        show   204\n",
              "1534        look        look   204\n",
              "44          real        real   203"
            ]
          },
          "metadata": {
            "tags": []
          },
          "execution_count": 21
        }
      ]
    },
    {
      "cell_type": "markdown",
      "metadata": {
        "id": "dKvhLVDwdetK"
      },
      "source": [
        "# Attribute Analysis\n",
        "We made up common features of vehicles consumers care about most. "
      ]
    },
    {
      "cell_type": "code",
      "metadata": {
        "id": "v8JDiJXU5sSA",
        "colab": {
          "base_uri": "https://localhost:8080/",
          "height": 204
        },
        "outputId": "2b8b865a-74f0-4ab6-de5d-e0b9e0517bbe"
      },
      "source": [
        "attribute_list = ['performance','luxury','reliable','safety','affordable','favorite','buy','speed','comfort',\n",
        "                 'warranty','price','msrp','security','fuel','consumption','insurance','maintainence', 'dependable']\n",
        "attr_df = pd.DataFrame(index = attribute_list)\n",
        "attr_df['synonym'] = attribute_list\n",
        "attr_df[:5]"
      ],
      "execution_count": null,
      "outputs": [
        {
          "output_type": "execute_result",
          "data": {
            "text/html": [
              "<div>\n",
              "<style scoped>\n",
              "    .dataframe tbody tr th:only-of-type {\n",
              "        vertical-align: middle;\n",
              "    }\n",
              "\n",
              "    .dataframe tbody tr th {\n",
              "        vertical-align: top;\n",
              "    }\n",
              "\n",
              "    .dataframe thead th {\n",
              "        text-align: right;\n",
              "    }\n",
              "</style>\n",
              "<table border=\"1\" class=\"dataframe\">\n",
              "  <thead>\n",
              "    <tr style=\"text-align: right;\">\n",
              "      <th></th>\n",
              "      <th>synonym</th>\n",
              "    </tr>\n",
              "  </thead>\n",
              "  <tbody>\n",
              "    <tr>\n",
              "      <th>performance</th>\n",
              "      <td>performance</td>\n",
              "    </tr>\n",
              "    <tr>\n",
              "      <th>luxury</th>\n",
              "      <td>luxury</td>\n",
              "    </tr>\n",
              "    <tr>\n",
              "      <th>reliable</th>\n",
              "      <td>reliable</td>\n",
              "    </tr>\n",
              "    <tr>\n",
              "      <th>safety</th>\n",
              "      <td>safety</td>\n",
              "    </tr>\n",
              "    <tr>\n",
              "      <th>affordable</th>\n",
              "      <td>affordable</td>\n",
              "    </tr>\n",
              "  </tbody>\n",
              "</table>\n",
              "</div>"
            ],
            "text/plain": [
              "                 synonym\n",
              "performance  performance\n",
              "luxury            luxury\n",
              "reliable        reliable\n",
              "safety            safety\n",
              "affordable    affordable"
            ]
          },
          "metadata": {
            "tags": []
          },
          "execution_count": 22
        }
      ]
    },
    {
      "cell_type": "code",
      "metadata": {
        "id": "mqJYG2Yx53tb"
      },
      "source": [
        "\n",
        "attr_dict = attr_df[\"synonym\"].to_dict()\n",
        "posts[\"attr_tokens\"] = posts[\"comments_unique\"].apply(lambda list_of_words: [attr_dict[x] for x in list_of_words if x in attr_dict  ])"
      ],
      "execution_count": null,
      "outputs": []
    },
    {
      "cell_type": "code",
      "metadata": {
        "id": "v34tNfXs6-tP",
        "colab": {
          "base_uri": "https://localhost:8080/",
          "height": 85
        },
        "outputId": "e3e54519-ddbe-4581-9d5a-8189dadf23dd"
      },
      "source": [
        "# Define top 5 brands by frequency obtained previously\n",
        "import numpy as np\n",
        "top_brands=['toyota','ford','chevrolet','honda','hyundai']\n",
        "\n",
        "# Get unique list of grouped attribute names\n",
        "uniq_attr=np.unique(attr_df['synonym'])\n",
        "uniq_attr"
      ],
      "execution_count": null,
      "outputs": [
        {
          "output_type": "execute_result",
          "data": {
            "text/plain": [
              "array(['affordable', 'buy', 'comfort', 'consumption', 'dependable',\n",
              "       'favorite', 'fuel', 'insurance', 'luxury', 'maintainence', 'msrp',\n",
              "       'performance', 'price', 'reliable', 'safety', 'security', 'speed',\n",
              "       'warranty'], dtype=object)"
            ]
          },
          "metadata": {
            "tags": []
          },
          "execution_count": 24
        }
      ]
    },
    {
      "cell_type": "code",
      "metadata": {
        "id": "xzoNDHu57acA"
      },
      "source": [
        "# Find top 5 attributes:\n",
        "\n",
        "def calc_freq(tokenized_posts,find_list):\n",
        "    freq_a=0\n",
        "    for i in tokenized_posts:\n",
        "        if find_list in i:\n",
        "            freq_a += 1\n",
        "    return freq_a\n",
        "  \n",
        "# Calculate freq for attr\n",
        "df_top_attr=pd.DataFrame(columns=['attribute','freq'])\n",
        "for i,attr in enumerate(uniq_attr):\n",
        "        temp_freq=calc_freq( posts.comments_unique,str(attr))\n",
        "        df_top_attr.loc[i]=[str(attr),temp_freq]"
      ],
      "execution_count": null,
      "outputs": []
    },
    {
      "cell_type": "code",
      "metadata": {
        "id": "kB9Eop3M7hC2",
        "colab": {
          "base_uri": "https://localhost:8080/",
          "height": 119
        },
        "outputId": "8fbf5598-a7d1-421f-ef71-837d964b13ab"
      },
      "source": [
        "top_attr=df_top_attr.sort_values(by='freq',ascending=False).head(5)\n",
        "top_attr['attribute']"
      ],
      "execution_count": null,
      "outputs": [
        {
          "output_type": "execute_result",
          "data": {
            "text/plain": [
              "1             buy\n",
              "12          price\n",
              "8          luxury\n",
              "16          speed\n",
              "11    performance\n",
              "Name: attribute, dtype: object"
            ]
          },
          "metadata": {
            "tags": []
          },
          "execution_count": 26
        }
      ]
    },
    {
      "cell_type": "code",
      "metadata": {
        "id": "df7tbOzk7rNj"
      },
      "source": [
        "# Grouped Brands and attribute lifts \n",
        "df_lift_brand_attr=pd.DataFrame(columns=['brand','attribute','lift'])\n",
        "i=0\n",
        "for  brand_a in top_brands:\n",
        "    for attr in top_attr['attribute']:\n",
        "        temp_lift=calculate_lift(str(brand_a), str(attr), posts.comments_unique)\n",
        "        df_lift_brand_attr.loc[i]=[ str(brand_a),str(attr),temp_lift]\n",
        "        i=i+1"
      ],
      "execution_count": null,
      "outputs": []
    },
    {
      "cell_type": "code",
      "metadata": {
        "id": "f926JYwj74R0",
        "colab": {
          "base_uri": "https://localhost:8080/",
          "height": 459
        },
        "outputId": "acfd3337-0ddf-4960-d481-609624b9426e"
      },
      "source": [
        "df1 = df_lift_brand_attr.sort_values('lift',ascending = False).groupby('brand').head(10)\n",
        "print(df1.sort_values(['brand','lift'],ascending=[True,False]))"
      ],
      "execution_count": null,
      "outputs": [
        {
          "output_type": "stream",
          "text": [
            "        brand    attribute      lift\n",
            "14  chevrolet  performance  1.401468\n",
            "13  chevrolet        speed  1.343074\n",
            "11  chevrolet        price  1.051101\n",
            "10  chevrolet          buy  1.011822\n",
            "12  chevrolet       luxury  0.755479\n",
            "8        ford        speed  1.668011\n",
            "6        ford        price  1.392426\n",
            "9        ford  performance  1.392426\n",
            "7        ford       luxury  1.251008\n",
            "5        ford          buy  0.933488\n",
            "15      honda          buy  1.765455\n",
            "19      honda  performance  1.116342\n",
            "17      honda       luxury  1.069828\n",
            "18      honda        speed  1.069828\n",
            "16      honda        price  0.558171\n",
            "21    hyundai        price  3.233350\n",
            "22    hyundai       luxury  2.904963\n",
            "20    hyundai          buy  1.667422\n",
            "23    hyundai        speed  0.387328\n",
            "24    hyundai  performance  0.000000\n",
            "0      toyota          buy  1.520391\n",
            "4      toyota  performance  1.322927\n",
            "3      toyota        speed  1.267805\n",
            "2      toyota       luxury  1.222526\n",
            "1      toyota        price  1.133937\n"
          ],
          "name": "stdout"
        }
      ]
    },
    {
      "cell_type": "markdown",
      "metadata": {
        "id": "MGkpzOvD7-0t"
      },
      "source": [
        "###Lift Matrix of the brands and the top-5 attributes"
      ]
    },
    {
      "cell_type": "code",
      "metadata": {
        "id": "YUkg56ml8Arr",
        "colab": {
          "base_uri": "https://localhost:8080/",
          "height": 266
        },
        "outputId": "1a59a9b3-34d6-4f20-9ce4-348bb36adb0f"
      },
      "source": [
        "lift_matrix = df1.pivot(index='brand', columns='attribute')\n",
        "lift_matrix"
      ],
      "execution_count": null,
      "outputs": [
        {
          "output_type": "execute_result",
          "data": {
            "text/html": [
              "<div>\n",
              "<style scoped>\n",
              "    .dataframe tbody tr th:only-of-type {\n",
              "        vertical-align: middle;\n",
              "    }\n",
              "\n",
              "    .dataframe tbody tr th {\n",
              "        vertical-align: top;\n",
              "    }\n",
              "\n",
              "    .dataframe thead tr th {\n",
              "        text-align: left;\n",
              "    }\n",
              "\n",
              "    .dataframe thead tr:last-of-type th {\n",
              "        text-align: right;\n",
              "    }\n",
              "</style>\n",
              "<table border=\"1\" class=\"dataframe\">\n",
              "  <thead>\n",
              "    <tr>\n",
              "      <th></th>\n",
              "      <th colspan=\"5\" halign=\"left\">lift</th>\n",
              "    </tr>\n",
              "    <tr>\n",
              "      <th>attribute</th>\n",
              "      <th>buy</th>\n",
              "      <th>luxury</th>\n",
              "      <th>performance</th>\n",
              "      <th>price</th>\n",
              "      <th>speed</th>\n",
              "    </tr>\n",
              "    <tr>\n",
              "      <th>brand</th>\n",
              "      <th></th>\n",
              "      <th></th>\n",
              "      <th></th>\n",
              "      <th></th>\n",
              "      <th></th>\n",
              "    </tr>\n",
              "  </thead>\n",
              "  <tbody>\n",
              "    <tr>\n",
              "      <th>chevrolet</th>\n",
              "      <td>1.011822</td>\n",
              "      <td>0.755479</td>\n",
              "      <td>1.401468</td>\n",
              "      <td>1.051101</td>\n",
              "      <td>1.343074</td>\n",
              "    </tr>\n",
              "    <tr>\n",
              "      <th>ford</th>\n",
              "      <td>0.933488</td>\n",
              "      <td>1.251008</td>\n",
              "      <td>1.392426</td>\n",
              "      <td>1.392426</td>\n",
              "      <td>1.668011</td>\n",
              "    </tr>\n",
              "    <tr>\n",
              "      <th>honda</th>\n",
              "      <td>1.765455</td>\n",
              "      <td>1.069828</td>\n",
              "      <td>1.116342</td>\n",
              "      <td>0.558171</td>\n",
              "      <td>1.069828</td>\n",
              "    </tr>\n",
              "    <tr>\n",
              "      <th>hyundai</th>\n",
              "      <td>1.667422</td>\n",
              "      <td>2.904963</td>\n",
              "      <td>0.000000</td>\n",
              "      <td>3.233350</td>\n",
              "      <td>0.387328</td>\n",
              "    </tr>\n",
              "    <tr>\n",
              "      <th>toyota</th>\n",
              "      <td>1.520391</td>\n",
              "      <td>1.222526</td>\n",
              "      <td>1.322927</td>\n",
              "      <td>1.133937</td>\n",
              "      <td>1.267805</td>\n",
              "    </tr>\n",
              "  </tbody>\n",
              "</table>\n",
              "</div>"
            ],
            "text/plain": [
              "               lift                                          \n",
              "attribute       buy    luxury performance     price     speed\n",
              "brand                                                        \n",
              "chevrolet  1.011822  0.755479    1.401468  1.051101  1.343074\n",
              "ford       0.933488  1.251008    1.392426  1.392426  1.668011\n",
              "honda      1.765455  1.069828    1.116342  0.558171  1.069828\n",
              "hyundai    1.667422  2.904963    0.000000  3.233350  0.387328\n",
              "toyota     1.520391  1.222526    1.322927  1.133937  1.267805"
            ]
          },
          "metadata": {
            "tags": []
          },
          "execution_count": 29
        }
      ]
    },
    {
      "cell_type": "markdown",
      "metadata": {
        "id": "2HNzaLp7dy_s"
      },
      "source": [
        "#Aspiration Analysis\n",
        "We created a list of words and phrases people use to express desire to want to buy a vehice whether it be an actual purchase or somehting they wish they could buy if they had sufficient purchase capability."
      ]
    },
    {
      "cell_type": "code",
      "metadata": {
        "id": "Wi6sJHcV88VR"
      },
      "source": [
        "aspiration_list = ['wish to', 'hope to', 'want to', 'really want', 'prefer', 'dream car', 'dream of', 'aspire', 'looking for', 'looking to', 'would like', 'can afford', 'looking at']"
      ],
      "execution_count": null,
      "outputs": []
    },
    {
      "cell_type": "code",
      "metadata": {
        "id": "HHaFanj-QhqE",
        "colab": {
          "base_uri": "https://localhost:8080/",
          "height": 452
        },
        "outputId": "b35f1a71-a647-4a30-f668-96c80f4ab5aa"
      },
      "source": [
        "aspiration = pd.DataFrame(aspiration_list)\n",
        "aspiration.columns=['word']\n",
        "aspiration"
      ],
      "execution_count": null,
      "outputs": [
        {
          "output_type": "execute_result",
          "data": {
            "text/html": [
              "<div>\n",
              "<style scoped>\n",
              "    .dataframe tbody tr th:only-of-type {\n",
              "        vertical-align: middle;\n",
              "    }\n",
              "\n",
              "    .dataframe tbody tr th {\n",
              "        vertical-align: top;\n",
              "    }\n",
              "\n",
              "    .dataframe thead th {\n",
              "        text-align: right;\n",
              "    }\n",
              "</style>\n",
              "<table border=\"1\" class=\"dataframe\">\n",
              "  <thead>\n",
              "    <tr style=\"text-align: right;\">\n",
              "      <th></th>\n",
              "      <th>word</th>\n",
              "    </tr>\n",
              "  </thead>\n",
              "  <tbody>\n",
              "    <tr>\n",
              "      <th>0</th>\n",
              "      <td>wish to</td>\n",
              "    </tr>\n",
              "    <tr>\n",
              "      <th>1</th>\n",
              "      <td>hope to</td>\n",
              "    </tr>\n",
              "    <tr>\n",
              "      <th>2</th>\n",
              "      <td>want to</td>\n",
              "    </tr>\n",
              "    <tr>\n",
              "      <th>3</th>\n",
              "      <td>really want</td>\n",
              "    </tr>\n",
              "    <tr>\n",
              "      <th>4</th>\n",
              "      <td>prefer</td>\n",
              "    </tr>\n",
              "    <tr>\n",
              "      <th>5</th>\n",
              "      <td>dream car</td>\n",
              "    </tr>\n",
              "    <tr>\n",
              "      <th>6</th>\n",
              "      <td>dream of</td>\n",
              "    </tr>\n",
              "    <tr>\n",
              "      <th>7</th>\n",
              "      <td>aspire</td>\n",
              "    </tr>\n",
              "    <tr>\n",
              "      <th>8</th>\n",
              "      <td>looking for</td>\n",
              "    </tr>\n",
              "    <tr>\n",
              "      <th>9</th>\n",
              "      <td>looking to</td>\n",
              "    </tr>\n",
              "    <tr>\n",
              "      <th>10</th>\n",
              "      <td>would like</td>\n",
              "    </tr>\n",
              "    <tr>\n",
              "      <th>11</th>\n",
              "      <td>can afford</td>\n",
              "    </tr>\n",
              "    <tr>\n",
              "      <th>12</th>\n",
              "      <td>looking at</td>\n",
              "    </tr>\n",
              "  </tbody>\n",
              "</table>\n",
              "</div>"
            ],
            "text/plain": [
              "           word\n",
              "0       wish to\n",
              "1       hope to\n",
              "2       want to\n",
              "3   really want\n",
              "4        prefer\n",
              "5     dream car\n",
              "6      dream of\n",
              "7        aspire\n",
              "8   looking for\n",
              "9    looking to\n",
              "10   would like\n",
              "11   can afford\n",
              "12   looking at"
            ]
          },
          "metadata": {
            "tags": []
          },
          "execution_count": 31
        }
      ]
    },
    {
      "cell_type": "code",
      "metadata": {
        "id": "4kqurDb8Sivq"
      },
      "source": [
        "## Function to replace the aspirational phrases with the word - \"aspiration\"\n",
        "def asp_word_replace(comment):\n",
        "    for i in aspiration['word'].index.values:\n",
        "        comment = comment.lower().replace(aspiration['word'][i],'aspiration')\n",
        "    return comment"
      ],
      "execution_count": null,
      "outputs": []
    },
    {
      "cell_type": "code",
      "metadata": {
        "id": "zq2gfWlcSmI4"
      },
      "source": [
        "posts[\"comments_replace\"] = posts[\"comments\"].apply(asp_word_replace)"
      ],
      "execution_count": null,
      "outputs": []
    },
    {
      "cell_type": "code",
      "metadata": {
        "id": "vcR3JdkzSsh5"
      },
      "source": [
        "## Tokenize the comments and remove stop words after replacing the phrases by aspiration\n",
        "posts[\"comments_replace_tokens\"] = posts[\"comments_replace\"].apply(lambda each_post: word_tokenize(re.sub(r'[^\\w\\s]',' ',each_post.lower())))\n",
        "posts[\"comments_replace_tokens\"] = posts[\"comments_replace_tokens\"].apply(lambda list_of_words: [x if x not in model_brand_dict else model_brand_dict[x] for x in list_of_words])\n",
        "posts[\"comments_replace_tokens\"] = posts[\"comments_replace_tokens\"].apply(lambda list_of_words: [x for x in list_of_words if x not in stop])\n",
        "posts[\"comments_replace_tokens\"] = posts[\"comments_replace_tokens\"].apply(lambda x: sorted(set(x)))"
      ],
      "execution_count": null,
      "outputs": []
    },
    {
      "cell_type": "code",
      "metadata": {
        "id": "48YpfTlxSyLL"
      },
      "source": [
        "## Get the lift score for all brands and aspirational words\n",
        "lift_asp_brands = pd.DataFrame(columns=['Brand','Lift'])\n",
        "for index, brand_a in all_brands.iterrows():\n",
        "        lift_asp_brands = lift_asp_brands.append({'Brand': brand_a.brand, \"Lift\":calculate_lift(brand_a.brand, 'aspiration', posts.comments_replace_tokens)},\n",
        "                                        ignore_index=True)"
      ],
      "execution_count": null,
      "outputs": []
    },
    {
      "cell_type": "code",
      "metadata": {
        "id": "xnI-qgC7S6UM",
        "colab": {
          "base_uri": "https://localhost:8080/",
          "height": 204
        },
        "outputId": "b9c3d1aa-b4d8-4474-9e52-ae04032b80d0"
      },
      "source": [
        "lift_asp_brands.sort_values(by='Lift',ascending=False).head(5)"
      ],
      "execution_count": null,
      "outputs": [
        {
          "output_type": "execute_result",
          "data": {
            "text/html": [
              "<div>\n",
              "<style scoped>\n",
              "    .dataframe tbody tr th:only-of-type {\n",
              "        vertical-align: middle;\n",
              "    }\n",
              "\n",
              "    .dataframe tbody tr th {\n",
              "        vertical-align: top;\n",
              "    }\n",
              "\n",
              "    .dataframe thead th {\n",
              "        text-align: right;\n",
              "    }\n",
              "</style>\n",
              "<table border=\"1\" class=\"dataframe\">\n",
              "  <thead>\n",
              "    <tr style=\"text-align: right;\">\n",
              "      <th></th>\n",
              "      <th>Brand</th>\n",
              "      <th>Lift</th>\n",
              "    </tr>\n",
              "  </thead>\n",
              "  <tbody>\n",
              "    <tr>\n",
              "      <th>28</th>\n",
              "      <td>volkwagen</td>\n",
              "      <td>5.328086</td>\n",
              "    </tr>\n",
              "    <tr>\n",
              "      <th>15</th>\n",
              "      <td>dodge</td>\n",
              "      <td>3.802791</td>\n",
              "    </tr>\n",
              "    <tr>\n",
              "      <th>22</th>\n",
              "      <td>pontiac</td>\n",
              "      <td>3.184603</td>\n",
              "    </tr>\n",
              "    <tr>\n",
              "      <th>20</th>\n",
              "      <td>volvo</td>\n",
              "      <td>2.886047</td>\n",
              "    </tr>\n",
              "    <tr>\n",
              "      <th>27</th>\n",
              "      <td>kia.</td>\n",
              "      <td>2.716279</td>\n",
              "    </tr>\n",
              "  </tbody>\n",
              "</table>\n",
              "</div>"
            ],
            "text/plain": [
              "        Brand      Lift\n",
              "28  volkwagen  5.328086\n",
              "15      dodge  3.802791\n",
              "22    pontiac  3.184603\n",
              "20      volvo  2.886047\n",
              "27       kia.  2.716279"
            ]
          },
          "metadata": {
            "tags": []
          },
          "execution_count": 36
        }
      ]
    },
    {
      "cell_type": "code",
      "metadata": {
        "id": "O1eJsUe3enG-"
      },
      "source": [
        ""
      ],
      "execution_count": null,
      "outputs": []
    },
    {
      "cell_type": "markdown",
      "metadata": {
        "id": "q__DI8-4h0us"
      },
      "source": [
        "#**Summary and Insights**"
      ]
    },
    {
      "cell_type": "markdown",
      "metadata": {
        "id": "ZZCilY43e0VC"
      },
      "source": [
        "#Top 10 Brands"
      ]
    },
    {
      "cell_type": "code",
      "metadata": {
        "id": "tdsOIXT8gFjM",
        "colab": {
          "base_uri": "https://localhost:8080/",
          "height": 359
        },
        "outputId": "e6db47a3-e478-47c0-f815-0a4018ecd28d"
      },
      "source": [
        "lift_brands"
      ],
      "execution_count": null,
      "outputs": [
        {
          "output_type": "execute_result",
          "data": {
            "text/html": [
              "<div>\n",
              "<style scoped>\n",
              "    .dataframe tbody tr th:only-of-type {\n",
              "        vertical-align: middle;\n",
              "    }\n",
              "\n",
              "    .dataframe tbody tr th {\n",
              "        vertical-align: top;\n",
              "    }\n",
              "\n",
              "    .dataframe thead th {\n",
              "        text-align: right;\n",
              "    }\n",
              "</style>\n",
              "<table border=\"1\" class=\"dataframe\">\n",
              "  <thead>\n",
              "    <tr style=\"text-align: right;\">\n",
              "      <th></th>\n",
              "      <th>toyota</th>\n",
              "      <th>ford</th>\n",
              "      <th>chevrolet</th>\n",
              "      <th>honda</th>\n",
              "      <th>hyundai</th>\n",
              "      <th>subaru</th>\n",
              "      <th>bmw</th>\n",
              "      <th>audi</th>\n",
              "      <th>nissan</th>\n",
              "      <th>volkswagen</th>\n",
              "    </tr>\n",
              "  </thead>\n",
              "  <tbody>\n",
              "    <tr>\n",
              "      <th>toyota</th>\n",
              "      <td>1.000000</td>\n",
              "      <td>1.458268</td>\n",
              "      <td>1.185480</td>\n",
              "      <td>2.488145</td>\n",
              "      <td>1.204720</td>\n",
              "      <td>1.832105</td>\n",
              "      <td>1.043222</td>\n",
              "      <td>1.197311</td>\n",
              "      <td>2.230574</td>\n",
              "      <td>1.190893</td>\n",
              "    </tr>\n",
              "    <tr>\n",
              "      <th>ford</th>\n",
              "      <td>1.458268</td>\n",
              "      <td>1.000000</td>\n",
              "      <td>2.963427</td>\n",
              "      <td>2.650412</td>\n",
              "      <td>0.839628</td>\n",
              "      <td>2.117409</td>\n",
              "      <td>1.209864</td>\n",
              "      <td>0.767085</td>\n",
              "      <td>1.369525</td>\n",
              "      <td>1.316129</td>\n",
              "    </tr>\n",
              "    <tr>\n",
              "      <th>chevrolet</th>\n",
              "      <td>1.185480</td>\n",
              "      <td>2.963427</td>\n",
              "      <td>1.000000</td>\n",
              "      <td>2.056292</td>\n",
              "      <td>0.784717</td>\n",
              "      <td>1.331974</td>\n",
              "      <td>1.719134</td>\n",
              "      <td>1.930166</td>\n",
              "      <td>1.908578</td>\n",
              "      <td>1.766234</td>\n",
              "    </tr>\n",
              "    <tr>\n",
              "      <th>honda</th>\n",
              "      <td>2.488145</td>\n",
              "      <td>2.650412</td>\n",
              "      <td>2.056292</td>\n",
              "      <td>1.000000</td>\n",
              "      <td>1.538628</td>\n",
              "      <td>2.829296</td>\n",
              "      <td>0.912920</td>\n",
              "      <td>1.639975</td>\n",
              "      <td>2.927949</td>\n",
              "      <td>2.462069</td>\n",
              "    </tr>\n",
              "    <tr>\n",
              "      <th>hyundai</th>\n",
              "      <td>1.204720</td>\n",
              "      <td>0.839628</td>\n",
              "      <td>0.784717</td>\n",
              "      <td>1.538628</td>\n",
              "      <td>1.000000</td>\n",
              "      <td>0.921905</td>\n",
              "      <td>1.239451</td>\n",
              "      <td>2.003902</td>\n",
              "      <td>1.467771</td>\n",
              "      <td>2.292135</td>\n",
              "    </tr>\n",
              "    <tr>\n",
              "      <th>subaru</th>\n",
              "      <td>1.832105</td>\n",
              "      <td>2.117409</td>\n",
              "      <td>1.331974</td>\n",
              "      <td>2.829296</td>\n",
              "      <td>0.921905</td>\n",
              "      <td>1.000000</td>\n",
              "      <td>1.914490</td>\n",
              "      <td>1.596773</td>\n",
              "      <td>1.754350</td>\n",
              "      <td>2.247934</td>\n",
              "    </tr>\n",
              "    <tr>\n",
              "      <th>bmw</th>\n",
              "      <td>1.043222</td>\n",
              "      <td>1.209864</td>\n",
              "      <td>1.719134</td>\n",
              "      <td>0.912920</td>\n",
              "      <td>1.239451</td>\n",
              "      <td>1.914490</td>\n",
              "      <td>1.000000</td>\n",
              "      <td>4.623819</td>\n",
              "      <td>1.451462</td>\n",
              "      <td>1.511111</td>\n",
              "    </tr>\n",
              "    <tr>\n",
              "      <th>audi</th>\n",
              "      <td>1.197311</td>\n",
              "      <td>0.767085</td>\n",
              "      <td>1.930166</td>\n",
              "      <td>1.639975</td>\n",
              "      <td>2.003902</td>\n",
              "      <td>1.596773</td>\n",
              "      <td>4.623819</td>\n",
              "      <td>1.000000</td>\n",
              "      <td>1.368894</td>\n",
              "      <td>3.461078</td>\n",
              "    </tr>\n",
              "    <tr>\n",
              "      <th>nissan</th>\n",
              "      <td>2.230574</td>\n",
              "      <td>1.369525</td>\n",
              "      <td>1.908578</td>\n",
              "      <td>2.927949</td>\n",
              "      <td>1.467771</td>\n",
              "      <td>1.754350</td>\n",
              "      <td>1.451462</td>\n",
              "      <td>1.368894</td>\n",
              "      <td>1.000000</td>\n",
              "      <td>1.789474</td>\n",
              "    </tr>\n",
              "    <tr>\n",
              "      <th>volkswagen</th>\n",
              "      <td>1.190893</td>\n",
              "      <td>1.316129</td>\n",
              "      <td>1.766234</td>\n",
              "      <td>2.462069</td>\n",
              "      <td>2.292135</td>\n",
              "      <td>2.247934</td>\n",
              "      <td>1.511111</td>\n",
              "      <td>3.461078</td>\n",
              "      <td>1.789474</td>\n",
              "      <td>1.000000</td>\n",
              "    </tr>\n",
              "  </tbody>\n",
              "</table>\n",
              "</div>"
            ],
            "text/plain": [
              "              toyota      ford  chevrolet  ...      audi    nissan  volkswagen\n",
              "toyota      1.000000  1.458268   1.185480  ...  1.197311  2.230574    1.190893\n",
              "ford        1.458268  1.000000   2.963427  ...  0.767085  1.369525    1.316129\n",
              "chevrolet   1.185480  2.963427   1.000000  ...  1.930166  1.908578    1.766234\n",
              "honda       2.488145  2.650412   2.056292  ...  1.639975  2.927949    2.462069\n",
              "hyundai     1.204720  0.839628   0.784717  ...  2.003902  1.467771    2.292135\n",
              "subaru      1.832105  2.117409   1.331974  ...  1.596773  1.754350    2.247934\n",
              "bmw         1.043222  1.209864   1.719134  ...  4.623819  1.451462    1.511111\n",
              "audi        1.197311  0.767085   1.930166  ...  1.000000  1.368894    3.461078\n",
              "nissan      2.230574  1.369525   1.908578  ...  1.368894  1.000000    1.789474\n",
              "volkswagen  1.190893  1.316129   1.766234  ...  3.461078  1.789474    1.000000\n",
              "\n",
              "[10 rows x 10 columns]"
            ]
          },
          "metadata": {
            "tags": []
          },
          "execution_count": 37
        }
      ]
    },
    {
      "cell_type": "code",
      "metadata": {
        "id": "2l20MZXLq4sC",
        "colab": {
          "base_uri": "https://localhost:8080/",
          "height": 359
        },
        "outputId": "d272d5d9-c9f8-4aee-918c-a34da64b0e69"
      },
      "source": [
        "top10"
      ],
      "execution_count": null,
      "outputs": [
        {
          "output_type": "execute_result",
          "data": {
            "text/html": [
              "<div>\n",
              "<style scoped>\n",
              "    .dataframe tbody tr th:only-of-type {\n",
              "        vertical-align: middle;\n",
              "    }\n",
              "\n",
              "    .dataframe tbody tr th {\n",
              "        vertical-align: top;\n",
              "    }\n",
              "\n",
              "    .dataframe thead th {\n",
              "        text-align: right;\n",
              "    }\n",
              "</style>\n",
              "<table border=\"1\" class=\"dataframe\">\n",
              "  <thead>\n",
              "    <tr style=\"text-align: right;\">\n",
              "      <th></th>\n",
              "      <th>brand</th>\n",
              "      <th>word_frequency</th>\n",
              "    </tr>\n",
              "  </thead>\n",
              "  <tbody>\n",
              "    <tr>\n",
              "      <th>0</th>\n",
              "      <td>toyota</td>\n",
              "      <td>571</td>\n",
              "    </tr>\n",
              "    <tr>\n",
              "      <th>5</th>\n",
              "      <td>ford</td>\n",
              "      <td>310</td>\n",
              "    </tr>\n",
              "    <tr>\n",
              "      <th>3</th>\n",
              "      <td>chevrolet</td>\n",
              "      <td>308</td>\n",
              "    </tr>\n",
              "    <tr>\n",
              "      <th>1</th>\n",
              "      <td>honda</td>\n",
              "      <td>290</td>\n",
              "    </tr>\n",
              "    <tr>\n",
              "      <th>14</th>\n",
              "      <td>hyundai</td>\n",
              "      <td>267</td>\n",
              "    </tr>\n",
              "    <tr>\n",
              "      <th>12</th>\n",
              "      <td>subaru</td>\n",
              "      <td>242</td>\n",
              "    </tr>\n",
              "    <tr>\n",
              "      <th>4</th>\n",
              "      <td>bmw</td>\n",
              "      <td>225</td>\n",
              "    </tr>\n",
              "    <tr>\n",
              "      <th>21</th>\n",
              "      <td>audi</td>\n",
              "      <td>167</td>\n",
              "    </tr>\n",
              "    <tr>\n",
              "      <th>7</th>\n",
              "      <td>nissan</td>\n",
              "      <td>152</td>\n",
              "    </tr>\n",
              "    <tr>\n",
              "      <th>6</th>\n",
              "      <td>volkswagen</td>\n",
              "      <td>146</td>\n",
              "    </tr>\n",
              "  </tbody>\n",
              "</table>\n",
              "</div>"
            ],
            "text/plain": [
              "         brand  word_frequency\n",
              "0       toyota             571\n",
              "5         ford             310\n",
              "3    chevrolet             308\n",
              "1        honda             290\n",
              "14     hyundai             267\n",
              "12      subaru             242\n",
              "4          bmw             225\n",
              "21        audi             167\n",
              "7       nissan             152\n",
              "6   volkswagen             146"
            ]
          },
          "metadata": {
            "tags": []
          },
          "execution_count": 45
        }
      ]
    },
    {
      "cell_type": "markdown",
      "metadata": {
        "id": "e-fiWywfqFvG"
      },
      "source": [
        "**Response to Tasks A & B**"
      ]
    },
    {
      "cell_type": "markdown",
      "metadata": {
        "id": "KPSXR-6Ygs7E"
      },
      "source": [
        "The top 10 brands and their lift values are shown in the matrix above. \n",
        "\n",
        "When comparing the commercials for the top 10 most frequently mentioned brand, one of the brands that stood out the most was Hyundai. It is the brand that has had some of the lowest lift values when compared with other brand's commercials with 3 of its lift values less than 1. Those lift values show up when compared to ford, chevrolet, and subaru. It's even more notable since hyundai is the 5th most frequent brand suggesting that its commercials aren't causing consumers to compare them with other brands as much and may be looking at the commercial for entertainment or some other purpose that is not related to sales.\n",
        "Another brand of note is Volkswagen. When looking at the lift values, it has 3 values greater than 2 and 1 value above 3(the highest lift value). At the same time, it is also the least frequent among the top 10 brands meaning it likely has the least amount of commercials compared to a brand like Toyota, the most frequent brand. This suggests that whenever volkswagen is brought up, its commercials allow it to be compared to many of the brands whether they are expensive luxury brands to cheap economic vehicles."
      ]
    },
    {
      "cell_type": "markdown",
      "metadata": {
        "id": "SmBo6HKBerRD"
      },
      "source": [
        "#Attributes and Brands\n"
      ]
    },
    {
      "cell_type": "code",
      "metadata": {
        "id": "DU8n1D2NtuhF",
        "colab": {
          "base_uri": "https://localhost:8080/",
          "height": 266
        },
        "outputId": "d2b8b135-4960-46d6-ada4-f5ae61584b89"
      },
      "source": [
        "lift_matrix"
      ],
      "execution_count": null,
      "outputs": [
        {
          "output_type": "execute_result",
          "data": {
            "text/html": [
              "<div>\n",
              "<style scoped>\n",
              "    .dataframe tbody tr th:only-of-type {\n",
              "        vertical-align: middle;\n",
              "    }\n",
              "\n",
              "    .dataframe tbody tr th {\n",
              "        vertical-align: top;\n",
              "    }\n",
              "\n",
              "    .dataframe thead tr th {\n",
              "        text-align: left;\n",
              "    }\n",
              "\n",
              "    .dataframe thead tr:last-of-type th {\n",
              "        text-align: right;\n",
              "    }\n",
              "</style>\n",
              "<table border=\"1\" class=\"dataframe\">\n",
              "  <thead>\n",
              "    <tr>\n",
              "      <th></th>\n",
              "      <th colspan=\"5\" halign=\"left\">lift</th>\n",
              "    </tr>\n",
              "    <tr>\n",
              "      <th>attribute</th>\n",
              "      <th>buy</th>\n",
              "      <th>luxury</th>\n",
              "      <th>performance</th>\n",
              "      <th>price</th>\n",
              "      <th>speed</th>\n",
              "    </tr>\n",
              "    <tr>\n",
              "      <th>brand</th>\n",
              "      <th></th>\n",
              "      <th></th>\n",
              "      <th></th>\n",
              "      <th></th>\n",
              "      <th></th>\n",
              "    </tr>\n",
              "  </thead>\n",
              "  <tbody>\n",
              "    <tr>\n",
              "      <th>chevrolet</th>\n",
              "      <td>1.011822</td>\n",
              "      <td>0.755479</td>\n",
              "      <td>1.401468</td>\n",
              "      <td>1.051101</td>\n",
              "      <td>1.343074</td>\n",
              "    </tr>\n",
              "    <tr>\n",
              "      <th>ford</th>\n",
              "      <td>0.933488</td>\n",
              "      <td>1.251008</td>\n",
              "      <td>1.392426</td>\n",
              "      <td>1.392426</td>\n",
              "      <td>1.668011</td>\n",
              "    </tr>\n",
              "    <tr>\n",
              "      <th>honda</th>\n",
              "      <td>1.765455</td>\n",
              "      <td>1.069828</td>\n",
              "      <td>1.116342</td>\n",
              "      <td>0.558171</td>\n",
              "      <td>1.069828</td>\n",
              "    </tr>\n",
              "    <tr>\n",
              "      <th>hyundai</th>\n",
              "      <td>1.667422</td>\n",
              "      <td>2.904963</td>\n",
              "      <td>0.000000</td>\n",
              "      <td>3.233350</td>\n",
              "      <td>0.387328</td>\n",
              "    </tr>\n",
              "    <tr>\n",
              "      <th>toyota</th>\n",
              "      <td>1.520391</td>\n",
              "      <td>1.222526</td>\n",
              "      <td>1.322927</td>\n",
              "      <td>1.133937</td>\n",
              "      <td>1.267805</td>\n",
              "    </tr>\n",
              "  </tbody>\n",
              "</table>\n",
              "</div>"
            ],
            "text/plain": [
              "               lift                                          \n",
              "attribute       buy    luxury performance     price     speed\n",
              "brand                                                        \n",
              "chevrolet  1.011822  0.755479    1.401468  1.051101  1.343074\n",
              "ford       0.933488  1.251008    1.392426  1.392426  1.668011\n",
              "honda      1.765455  1.069828    1.116342  0.558171  1.069828\n",
              "hyundai    1.667422  2.904963    0.000000  3.233350  0.387328\n",
              "toyota     1.520391  1.222526    1.322927  1.133937  1.267805"
            ]
          },
          "metadata": {
            "tags": []
          },
          "execution_count": 46
        }
      ]
    },
    {
      "cell_type": "markdown",
      "metadata": {
        "id": "AetHmVsMtTev"
      },
      "source": [
        "**Response to Tasks C&D**"
      ]
    },
    {
      "cell_type": "markdown",
      "metadata": {
        "id": "dBcEIHeymDgb"
      },
      "source": [
        "According to our analysis \"buy\", \"luxury\", \"performance\", \"price\", and \"speed\" seem to the top 5 most talked about attributes.  We can consider \"buy\" to be most important attribute as not only does it occurs much more often than any other attribute we can also assume that the customers are more likely to buy products from these brands and are more willing to recommend them on the internet. If a quality product has been manufactured then the managers can actually spend less money on advertising because the products speaks for itself and word of mouth would be an effective advetising campaign. "
      ]
    },
    {
      "cell_type": "markdown",
      "metadata": {
        "id": "VEszl2hCeecj"
      },
      "source": [
        "Ford:"
      ]
    },
    {
      "cell_type": "markdown",
      "metadata": {
        "id": "vdkADB5Weg01"
      },
      "source": [
        " Ford happens to be the only car brand with a lift value of 0.93 that is less than 1 when associated with the buy attribute. This is definitely something for Ford to assess as a lift value less than 1 essentially means \"buy\" is more likely to occur in a post without Ford in its' text than a post with Ford in its' text. Ford performed about average in the other attributes but found the 2nd highest lift values for price with 1.39 and the highest lift value for speed with 1.67. One interesting thing to note is that people are talking considerably about the price of ford relative to the other brands but are not neccessarily talking about buying the product at the same frequency. This could be an indication for the the product and advertising managers that the price of Ford cars are too high and changes should either be made in production to lower prices or margins should be lowered to in an attempt create more sales. Also, if the price is not something that is going to help the sales of ford cars it might be a good idea for the advertising manager to not put as much focus on pricing in the commercials.\n",
        "\n"
      ]
    },
    {
      "cell_type": "markdown",
      "metadata": {
        "id": "eUjiOYYDNc8r"
      },
      "source": [
        "Toyota:"
      ]
    },
    {
      "cell_type": "markdown",
      "metadata": {
        "id": "bBwc8dW8l2ue"
      },
      "source": [
        "Toyota has a relatively balanced lift matrix for the top-5 attributes. Therefore, their commercials must have a balance between luxury, performance, price and speed. They have an average \"buy\" lift value relative to the other brands. It's hard to advise on specifics given our brand attribute matrix with toyota."
      ]
    },
    {
      "cell_type": "markdown",
      "metadata": {
        "id": "dTHzLOc3l3GY"
      },
      "source": [
        "Chevrolet:\n",
        "\n",
        "\n",
        "Products have been in a mix of up and downs over the years. In 2019, the advertisement on Super Bowl ads helped increase the popularity for the brand but when other reports came out they tended to indicate that Chevrolet might not be as affordable and efficient as they say. "
      ]
    },
    {
      "cell_type": "markdown",
      "metadata": {
        "id": "LBXd_B-5OBGt"
      },
      "source": [
        "Taking a look at our top 5 attributes lift values with chevrolet we can make some conclusions for the brand and product managers. Chevrolet has a low \"buy\" lift of 1.01 and shows some comparisions to Ford which also suffered a low \"buy\" lift. Both chevrolet and ford had the highest lift value in the performance attribute of approximately 1.4. However, it is clearly evident that performance or at least the way ford and chevrolet are marketing performance is not an effective way of creating sales or \"buy\" mentions in the posts. I would advise the marketing and product team to focus more on luxury in the commercials and in the production as they are clearly lagging behind some of the other brands."
      ]
    },
    {
      "cell_type": "markdown",
      "metadata": {
        "id": "tu7-WDvil3Y4"
      },
      "source": [
        "Honda:"
      ]
    },
    {
      "cell_type": "markdown",
      "metadata": {
        "id": "qbg5f9JpSqvN"
      },
      "source": [
        "Honda is the most succesful in creating mentions of our most important \"buy\" attribute with a lift of 1.77. Although, their lift values for the other top attributes appear to be relatively low. Honda's \"Price\" attribute has a very low lift of 0.55 therefore, we can easily determine for Honda that price is not an important attribute to consider in commercials for honda to generate positive \"buy\" sentiment."
      ]
    },
    {
      "cell_type": "markdown",
      "metadata": {
        "id": "7qzZ1jNtQz7r"
      },
      "source": [
        "Hyundai:"
      ]
    },
    {
      "cell_type": "markdown",
      "metadata": {
        "id": "BDNY_6VrkJ0j"
      },
      "source": [
        "Hyundia's values are very interesting with the highest luxury and price lift values among the 5 brands. The lift value for price can likely be interpreted as being very affordable. On the flip side, with luxury being one of the highest it can be interepreted as being perceived as having good luxury for its price point. Given that they have been rebranding themselves, this may reflect effective advertisements. \"Performance\" is also important as Hyundai and performance have zero association. Managers should determine whether they want their product and brand to be perceived as something that needs to be included or if already inlcuded then they need to make consumers aware of in their product for adverstising. The lift values also indicate 'Hyundai' was the least aspirational amongst the top 5 brands listed in our analysis. Hyundai is a brand that has usually prided itself in their high quality cars but in our analysis the lift value is relativley low, which is interesting to see when compared to the other brands in the top 5 lift values matrix. They need to look into quality, advertising and other issues to help increase their overall pull to their brand and attract customers that they are not currenlty able to do. "
      ]
    },
    {
      "cell_type": "markdown",
      "metadata": {
        "id": "EoteUmcXJHHF"
      },
      "source": [
        "Additionally, we can advise brand and product managers using the lift matrix of brands and top 5 attributes. Hynundai has the second highest lift value of 1.67 for the \"buy\" attribute this is a good indication that the commercials have been relatively successful. Also, their lift value for price attribute is a very signifciant 3.23, more than double any other brand's value for that attribute. It is reasonable to assume hyundai has good pricing as they are also have an overall positive sentiment with their high \"buy\" lift value. One area where hyundai seems to be lacking significantly is their performance attribute with a lift value of 0. It is clearly evident that performance currently is not something associated with hyundai commercials as well as the product as a whole. The marketing managers should work to empthasize any performance advantages that hyundai has over the brand in their commercials. If hyundai's do not have strong performance already it is on the product managers to try and create some of these performance advantages that the marketing team can highlight."
      ]
    },
    {
      "cell_type": "markdown",
      "metadata": {
        "id": "I74FpvRmiMhR"
      },
      "source": [
        "# Aspiration Analysis Explained"
      ]
    },
    {
      "cell_type": "code",
      "metadata": {
        "id": "MoC4Bx8yxSId",
        "colab": {
          "base_uri": "https://localhost:8080/",
          "height": 204
        },
        "outputId": "9abf0e7c-52eb-4fd5-c5ba-14a763a86ab5"
      },
      "source": [
        "lift_asp_brands.sort_values(by='Lift',ascending=False).head(5)"
      ],
      "execution_count": null,
      "outputs": [
        {
          "output_type": "execute_result",
          "data": {
            "text/html": [
              "<div>\n",
              "<style scoped>\n",
              "    .dataframe tbody tr th:only-of-type {\n",
              "        vertical-align: middle;\n",
              "    }\n",
              "\n",
              "    .dataframe tbody tr th {\n",
              "        vertical-align: top;\n",
              "    }\n",
              "\n",
              "    .dataframe thead th {\n",
              "        text-align: right;\n",
              "    }\n",
              "</style>\n",
              "<table border=\"1\" class=\"dataframe\">\n",
              "  <thead>\n",
              "    <tr style=\"text-align: right;\">\n",
              "      <th></th>\n",
              "      <th>Brand</th>\n",
              "      <th>Lift</th>\n",
              "    </tr>\n",
              "  </thead>\n",
              "  <tbody>\n",
              "    <tr>\n",
              "      <th>28</th>\n",
              "      <td>volkwagen</td>\n",
              "      <td>5.328086</td>\n",
              "    </tr>\n",
              "    <tr>\n",
              "      <th>15</th>\n",
              "      <td>dodge</td>\n",
              "      <td>3.802791</td>\n",
              "    </tr>\n",
              "    <tr>\n",
              "      <th>22</th>\n",
              "      <td>pontiac</td>\n",
              "      <td>3.184603</td>\n",
              "    </tr>\n",
              "    <tr>\n",
              "      <th>20</th>\n",
              "      <td>volvo</td>\n",
              "      <td>2.886047</td>\n",
              "    </tr>\n",
              "    <tr>\n",
              "      <th>27</th>\n",
              "      <td>kia.</td>\n",
              "      <td>2.716279</td>\n",
              "    </tr>\n",
              "  </tbody>\n",
              "</table>\n",
              "</div>"
            ],
            "text/plain": [
              "        Brand      Lift\n",
              "28  volkwagen  5.328086\n",
              "15      dodge  3.802791\n",
              "22    pontiac  3.184603\n",
              "20      volvo  2.886047\n",
              "27       kia.  2.716279"
            ]
          },
          "metadata": {
            "tags": []
          },
          "execution_count": 47
        }
      ]
    },
    {
      "cell_type": "markdown",
      "metadata": {
        "id": "yeQzNUrRtd7s"
      },
      "source": [
        "**Response to Task E**"
      ]
    },
    {
      "cell_type": "markdown",
      "metadata": {
        "id": "kxghuXgZxY_4"
      },
      "source": [
        "To determine the most aspirational car brand we created an aspiration list consisting of key words: 'wish to', 'hope to', 'want to', 'really want', 'prefer', 'dream car', 'dream of', 'aspire', 'looking for', 'looking to', 'would like', 'can afford', 'looking at'. This list was created where we took aspire to mean to actually buy and/or wish to own their dream car. What they actually buy and what they wish they could buy. We replaced any occurances of these words with aspiration as suggested in class. We then found the brand lift values associated with this aspirational word list. \n",
        "\n",
        "Volkswagen resulted as our most aspirational brand by a large margin with a lift value of 5.32. This suggests that relative to the buzz created by its commercials, Volkswagen's advertising has the most efficient effect of creating a desire to purchase their vehicles. "
      ]
    }
  ]
}